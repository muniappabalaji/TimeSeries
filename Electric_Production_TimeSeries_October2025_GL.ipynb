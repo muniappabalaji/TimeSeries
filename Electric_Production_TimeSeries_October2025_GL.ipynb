{
  "cells": [
    {
      "cell_type": "markdown",
      "metadata": {
        "id": "view-in-github",
        "colab_type": "text"
      },
      "source": [
        "<a href=\"https://colab.research.google.com/github/muniappabalaji/TimeSeries/blob/main/Electric_Production_TimeSeries_October2025_GL.ipynb\" target=\"_parent\"><img src=\"https://colab.research.google.com/assets/colab-badge.svg\" alt=\"Open In Colab\"/></a>"
      ]
    },
    {
      "cell_type": "markdown",
      "source": [
        "**Approach to the Electric Production Dataset**\n",
        "1. Load the dataset into Python\n",
        "2. Audit the dataset (info, first few rows)\n",
        "3. Plot the dataset\n",
        "4. Change Date Variable into Index\n",
        "5. Decompose the time series (Trend, Seasonal and Error/Residual)\n",
        "6. Moving Average and Exponential Smoothing\n",
        "   1. Simple Moving Average\n",
        "   2. Exponential Smoothing\n",
        "   3. Holts Model (Double Exponential Smoothing)\n",
        "   4. Holt and Winters Model (Triple Exponential Smoothing)\n",
        "7. Compare all the MA and ES models and append the results\n",
        "8. Check for Auto-Correlation\n",
        "9. Check for Stationarity\n",
        "10. Application of ARIMA and SARIMA\n",
        "11. Append the model results\n",
        "12. Productionize the model for inference"
      ],
      "metadata": {
        "id": "Tm9LncXuo4mG"
      },
      "id": "Tm9LncXuo4mG"
    },
    {
      "cell_type": "code",
      "source": [
        "import pandas as pd\n",
        "import numpy as np\n",
        "import sys\n",
        "import warnings\n",
        "import itertools\n",
        "warnings.filterwarnings('ignore')\n",
        "import statsmodels.api as sm\n",
        "import statsmodels.tsa.api as smf\n",
        "from sklearn.metrics import mean_squared_error\n",
        "import matplotlib.pyplot as plt\n",
        "%matplotlib inline\n",
        "import datetime\n",
        "import calendar\n",
        "import seaborn as sns\n",
        "from statsmodels.tsa.holtwinters import ExponentialSmoothing, Holt"
      ],
      "metadata": {
        "id": "jFvGy4D7oeD1"
      },
      "id": "jFvGy4D7oeD1",
      "execution_count": null,
      "outputs": []
    }
  ],
  "metadata": {
    "kernelspec": {
      "display_name": "Python 3",
      "name": "python3"
    },
    "language_info": {
      "name": "python"
    },
    "required_libs": [],
    "colab": {
      "provenance": [],
      "include_colab_link": true
    }
  },
  "nbformat": 4,
  "nbformat_minor": 5
}