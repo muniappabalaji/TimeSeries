{
  "cells": [
    {
      "cell_type": "markdown",
      "metadata": {
        "id": "view-in-github",
        "colab_type": "text"
      },
      "source": [
        "<a href=\"https://colab.research.google.com/github/muniappabalaji/TimeSeries/blob/main/LLM/Agents/langgraph_basic_2.ipynb\" target=\"_parent\"><img src=\"https://colab.research.google.com/assets/colab-badge.svg\" alt=\"Open In Colab\"/></a>"
      ]
    },
    {
      "cell_type": "code",
      "source": [
        "!pip install langgraph langchain langchain_community langchain_experimental langchain_openai google-search-results numexpr"
      ],
      "metadata": {
        "id": "bsstG2K_UIp2",
        "outputId": "146d1a9f-6f73-4ddc-b535-1f324a87a856",
        "colab": {
          "base_uri": "https://localhost:8080/"
        }
      },
      "id": "bsstG2K_UIp2",
      "execution_count": 16,
      "outputs": [
        {
          "output_type": "stream",
          "name": "stdout",
          "text": [
            "Requirement already satisfied: langgraph in /usr/local/lib/python3.12/dist-packages (0.6.7)\n",
            "Requirement already satisfied: langchain in /usr/local/lib/python3.12/dist-packages (0.3.27)\n",
            "Requirement already satisfied: langchain_community in /usr/local/lib/python3.12/dist-packages (0.3.30)\n",
            "Requirement already satisfied: langchain_experimental in /usr/local/lib/python3.12/dist-packages (0.3.4)\n",
            "Requirement already satisfied: langchain_openai in /usr/local/lib/python3.12/dist-packages (0.3.33)\n",
            "Requirement already satisfied: google-search-results in /usr/local/lib/python3.12/dist-packages (2.4.2)\n",
            "Requirement already satisfied: numexpr in /usr/local/lib/python3.12/dist-packages (2.12.1)\n",
            "Requirement already satisfied: langchain-core>=0.1 in /usr/local/lib/python3.12/dist-packages (from langgraph) (0.3.76)\n",
            "Requirement already satisfied: langgraph-checkpoint<3.0.0,>=2.1.0 in /usr/local/lib/python3.12/dist-packages (from langgraph) (2.1.1)\n",
            "Requirement already satisfied: langgraph-prebuilt<0.7.0,>=0.6.0 in /usr/local/lib/python3.12/dist-packages (from langgraph) (0.6.4)\n",
            "Requirement already satisfied: langgraph-sdk<0.3.0,>=0.2.2 in /usr/local/lib/python3.12/dist-packages (from langgraph) (0.2.9)\n",
            "Requirement already satisfied: pydantic>=2.7.4 in /usr/local/lib/python3.12/dist-packages (from langgraph) (2.11.9)\n",
            "Requirement already satisfied: xxhash>=3.5.0 in /usr/local/lib/python3.12/dist-packages (from langgraph) (3.5.0)\n",
            "Requirement already satisfied: langchain-text-splitters<1.0.0,>=0.3.9 in /usr/local/lib/python3.12/dist-packages (from langchain) (0.3.11)\n",
            "Requirement already satisfied: langsmith>=0.1.17 in /usr/local/lib/python3.12/dist-packages (from langchain) (0.4.28)\n",
            "Requirement already satisfied: SQLAlchemy<3,>=1.4 in /usr/local/lib/python3.12/dist-packages (from langchain) (2.0.43)\n",
            "Requirement already satisfied: requests<3,>=2 in /usr/local/lib/python3.12/dist-packages (from langchain) (2.32.5)\n",
            "Requirement already satisfied: PyYAML>=5.3 in /usr/local/lib/python3.12/dist-packages (from langchain) (6.0.2)\n",
            "Requirement already satisfied: aiohttp<4.0.0,>=3.8.3 in /usr/local/lib/python3.12/dist-packages (from langchain_community) (3.12.15)\n",
            "Requirement already satisfied: tenacity!=8.4.0,<10.0.0,>=8.1.0 in /usr/local/lib/python3.12/dist-packages (from langchain_community) (8.5.0)\n",
            "Requirement already satisfied: dataclasses-json<0.7.0,>=0.6.7 in /usr/local/lib/python3.12/dist-packages (from langchain_community) (0.6.7)\n",
            "Requirement already satisfied: pydantic-settings<3.0.0,>=2.10.1 in /usr/local/lib/python3.12/dist-packages (from langchain_community) (2.10.1)\n",
            "Requirement already satisfied: httpx-sse<1.0.0,>=0.4.0 in /usr/local/lib/python3.12/dist-packages (from langchain_community) (0.4.1)\n",
            "Requirement already satisfied: numpy>=1.26.2 in /usr/local/lib/python3.12/dist-packages (from langchain_community) (2.0.2)\n",
            "Requirement already satisfied: openai<2.0.0,>=1.104.2 in /usr/local/lib/python3.12/dist-packages (from langchain_openai) (1.108.0)\n",
            "Requirement already satisfied: tiktoken<1,>=0.7 in /usr/local/lib/python3.12/dist-packages (from langchain_openai) (0.11.0)\n",
            "Requirement already satisfied: aiohappyeyeballs>=2.5.0 in /usr/local/lib/python3.12/dist-packages (from aiohttp<4.0.0,>=3.8.3->langchain_community) (2.6.1)\n",
            "Requirement already satisfied: aiosignal>=1.4.0 in /usr/local/lib/python3.12/dist-packages (from aiohttp<4.0.0,>=3.8.3->langchain_community) (1.4.0)\n",
            "Requirement already satisfied: attrs>=17.3.0 in /usr/local/lib/python3.12/dist-packages (from aiohttp<4.0.0,>=3.8.3->langchain_community) (25.3.0)\n",
            "Requirement already satisfied: frozenlist>=1.1.1 in /usr/local/lib/python3.12/dist-packages (from aiohttp<4.0.0,>=3.8.3->langchain_community) (1.7.0)\n",
            "Requirement already satisfied: multidict<7.0,>=4.5 in /usr/local/lib/python3.12/dist-packages (from aiohttp<4.0.0,>=3.8.3->langchain_community) (6.6.4)\n",
            "Requirement already satisfied: propcache>=0.2.0 in /usr/local/lib/python3.12/dist-packages (from aiohttp<4.0.0,>=3.8.3->langchain_community) (0.3.2)\n",
            "Requirement already satisfied: yarl<2.0,>=1.17.0 in /usr/local/lib/python3.12/dist-packages (from aiohttp<4.0.0,>=3.8.3->langchain_community) (1.20.1)\n",
            "Requirement already satisfied: marshmallow<4.0.0,>=3.18.0 in /usr/local/lib/python3.12/dist-packages (from dataclasses-json<0.7.0,>=0.6.7->langchain_community) (3.26.1)\n",
            "Requirement already satisfied: typing-inspect<1,>=0.4.0 in /usr/local/lib/python3.12/dist-packages (from dataclasses-json<0.7.0,>=0.6.7->langchain_community) (0.9.0)\n",
            "Requirement already satisfied: jsonpatch<2.0,>=1.33 in /usr/local/lib/python3.12/dist-packages (from langchain-core>=0.1->langgraph) (1.33)\n",
            "Requirement already satisfied: typing-extensions>=4.7 in /usr/local/lib/python3.12/dist-packages (from langchain-core>=0.1->langgraph) (4.15.0)\n",
            "Requirement already satisfied: packaging>=23.2 in /usr/local/lib/python3.12/dist-packages (from langchain-core>=0.1->langgraph) (25.0)\n",
            "Requirement already satisfied: ormsgpack>=1.10.0 in /usr/local/lib/python3.12/dist-packages (from langgraph-checkpoint<3.0.0,>=2.1.0->langgraph) (1.10.0)\n",
            "Requirement already satisfied: httpx>=0.25.2 in /usr/local/lib/python3.12/dist-packages (from langgraph-sdk<0.3.0,>=0.2.2->langgraph) (0.28.1)\n",
            "Requirement already satisfied: orjson>=3.10.1 in /usr/local/lib/python3.12/dist-packages (from langgraph-sdk<0.3.0,>=0.2.2->langgraph) (3.11.3)\n",
            "Requirement already satisfied: requests-toolbelt>=1.0.0 in /usr/local/lib/python3.12/dist-packages (from langsmith>=0.1.17->langchain) (1.0.0)\n",
            "Requirement already satisfied: zstandard>=0.23.0 in /usr/local/lib/python3.12/dist-packages (from langsmith>=0.1.17->langchain) (0.25.0)\n",
            "Requirement already satisfied: anyio<5,>=3.5.0 in /usr/local/lib/python3.12/dist-packages (from openai<2.0.0,>=1.104.2->langchain_openai) (4.10.0)\n",
            "Requirement already satisfied: distro<2,>=1.7.0 in /usr/local/lib/python3.12/dist-packages (from openai<2.0.0,>=1.104.2->langchain_openai) (1.9.0)\n",
            "Requirement already satisfied: jiter<1,>=0.4.0 in /usr/local/lib/python3.12/dist-packages (from openai<2.0.0,>=1.104.2->langchain_openai) (0.11.0)\n",
            "Requirement already satisfied: sniffio in /usr/local/lib/python3.12/dist-packages (from openai<2.0.0,>=1.104.2->langchain_openai) (1.3.1)\n",
            "Requirement already satisfied: tqdm>4 in /usr/local/lib/python3.12/dist-packages (from openai<2.0.0,>=1.104.2->langchain_openai) (4.67.1)\n",
            "Requirement already satisfied: annotated-types>=0.6.0 in /usr/local/lib/python3.12/dist-packages (from pydantic>=2.7.4->langgraph) (0.7.0)\n",
            "Requirement already satisfied: pydantic-core==2.33.2 in /usr/local/lib/python3.12/dist-packages (from pydantic>=2.7.4->langgraph) (2.33.2)\n",
            "Requirement already satisfied: typing-inspection>=0.4.0 in /usr/local/lib/python3.12/dist-packages (from pydantic>=2.7.4->langgraph) (0.4.1)\n",
            "Requirement already satisfied: python-dotenv>=0.21.0 in /usr/local/lib/python3.12/dist-packages (from pydantic-settings<3.0.0,>=2.10.1->langchain_community) (1.1.1)\n",
            "Requirement already satisfied: charset_normalizer<4,>=2 in /usr/local/lib/python3.12/dist-packages (from requests<3,>=2->langchain) (3.4.3)\n",
            "Requirement already satisfied: idna<4,>=2.5 in /usr/local/lib/python3.12/dist-packages (from requests<3,>=2->langchain) (3.10)\n",
            "Requirement already satisfied: urllib3<3,>=1.21.1 in /usr/local/lib/python3.12/dist-packages (from requests<3,>=2->langchain) (2.5.0)\n",
            "Requirement already satisfied: certifi>=2017.4.17 in /usr/local/lib/python3.12/dist-packages (from requests<3,>=2->langchain) (2025.8.3)\n",
            "Requirement already satisfied: greenlet>=1 in /usr/local/lib/python3.12/dist-packages (from SQLAlchemy<3,>=1.4->langchain) (3.2.4)\n",
            "Requirement already satisfied: regex>=2022.1.18 in /usr/local/lib/python3.12/dist-packages (from tiktoken<1,>=0.7->langchain_openai) (2024.11.6)\n",
            "Requirement already satisfied: httpcore==1.* in /usr/local/lib/python3.12/dist-packages (from httpx>=0.25.2->langgraph-sdk<0.3.0,>=0.2.2->langgraph) (1.0.9)\n",
            "Requirement already satisfied: h11>=0.16 in /usr/local/lib/python3.12/dist-packages (from httpcore==1.*->httpx>=0.25.2->langgraph-sdk<0.3.0,>=0.2.2->langgraph) (0.16.0)\n",
            "Requirement already satisfied: jsonpointer>=1.9 in /usr/local/lib/python3.12/dist-packages (from jsonpatch<2.0,>=1.33->langchain-core>=0.1->langgraph) (3.0.0)\n",
            "Requirement already satisfied: mypy-extensions>=0.3.0 in /usr/local/lib/python3.12/dist-packages (from typing-inspect<1,>=0.4.0->dataclasses-json<0.7.0,>=0.6.7->langchain_community) (1.1.0)\n"
          ]
        }
      ]
    },
    {
      "cell_type": "code",
      "execution_count": 17,
      "id": "e493821a",
      "metadata": {
        "id": "e493821a"
      },
      "outputs": [],
      "source": [
        "import os\n",
        "from typing import TypedDict, Literal\n",
        "\n",
        "from dotenv import load_dotenv\n",
        "from langchain_core.prompts import ChatPromptTemplate\n",
        "from langchain_openai import ChatOpenAI\n",
        "from langchain_community.utilities import SerpAPIWrapper\n",
        "from langchain.chains import LLMMathChain\n",
        "from langgraph.graph import StateGraph, END"
      ]
    },
    {
      "cell_type": "code",
      "execution_count": 18,
      "id": "376ccf7c",
      "metadata": {
        "id": "376ccf7c"
      },
      "outputs": [],
      "source": [
        "# --- Environment and LLM Setup ---\n",
        "os.environ[\"SERPAPI_API_KEY\"] = \"3c29bce0200662ffadbb7f6f164124b8d885f9df6b1fa3f749fca20d0e45875b\"\n",
        "\n",
        "llm = ChatOpenAI(openai_api_base = \"https://openrouter.ai/api/v1\", openai_api_key = \"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\", model = \"deepseek/deepseek-chat-v3.1:free\",temperature=0.9) #max_tokens=100\n",
        "\n",
        "# --- Tool Definitions ---\n",
        "search_tool = SerpAPIWrapper()\n",
        "math_tool = LLMMathChain.from_llm(llm=llm, verbose=False)"
      ]
    },
    {
      "cell_type": "code",
      "execution_count": 19,
      "id": "ccce833b",
      "metadata": {
        "id": "ccce833b"
      },
      "outputs": [],
      "source": [
        "# --- State Definition ---\n",
        "# Updated state to include a route for travel and a result.\n",
        "class AgentState(TypedDict):\n",
        "    topic: str\n",
        "    explanation: str\n",
        "    summary: str\n",
        "    calculator_result: str\n",
        "    travel_result: str\n",
        "    route: Literal[\"research\", \"calculate\", \"travel\"] # The planner's decision"
      ]
    },
    {
      "cell_type": "code",
      "execution_count": 20,
      "id": "2a3ff5d2",
      "metadata": {
        "id": "2a3ff5d2"
      },
      "outputs": [],
      "source": [
        "def planner_agent(state: AgentState) -> dict:\n",
        "    \"\"\"\n",
        "    This agent decides whether the user's topic is a math, research, or travel question.\n",
        "    \"\"\"\n",
        "    print(\"---PLANNER---\")\n",
        "    topic = state[\"topic\"]\n",
        "\n",
        "    prompt = ChatPromptTemplate.from_template(\n",
        "        \"\"\"You are a planner agent. Your job is to determine the best path to take based on the user's query.\n",
        "\n",
        "        Query: {topic}\n",
        "\n",
        "        Based on the query, is this a math problem, a travel-related query (like finding hotels or flights), or a general research question?\n",
        "        Respond with 'calculate', 'travel', or 'research'.\n",
        "        \"\"\"\n",
        "    )\n",
        "\n",
        "    chain = prompt | llm\n",
        "    result = chain.invoke({\"topic\": topic})\n",
        "    decision = result.content.strip().lower()\n",
        "\n",
        "    print(f\"Planner's Decision: {decision}\")\n",
        "    if \"calculate\" in decision:\n",
        "        return {\"route\": \"calculate\"}\n",
        "    elif \"travel\" in decision:\n",
        "        return {\"route\": \"travel\"}\n",
        "    else:\n",
        "        return {\"route\": \"research\"}"
      ]
    },
    {
      "cell_type": "code",
      "execution_count": 21,
      "id": "3f50cb12",
      "metadata": {
        "id": "3f50cb12"
      },
      "outputs": [],
      "source": [
        "def researcher_agent(state: AgentState) -> dict:\n",
        "    \"\"\"\n",
        "    This agent uses a web search tool to find information on a topic and then explains it.\n",
        "    \"\"\"\n",
        "    print(\"---RESEARCHER (with SerpApi Web Search)---\")\n",
        "    topic = state[\"topic\"]\n",
        "\n",
        "    search_results = search_tool.run(topic)\n",
        "    print(f\"Search Results:\\n{search_results}\")\n",
        "\n",
        "    prompt = ChatPromptTemplate.from_template(\n",
        "        \"\"\"You are a helpful research assistant. Based on the following search results,\n",
        "        provide a brief, easy-to-understand explanation of the topic: {topic}.\n",
        "\n",
        "        Search Results:\n",
        "        {search_results}\n",
        "        \"\"\"\n",
        "    )\n",
        "\n",
        "    chain = prompt | llm\n",
        "    result = chain.invoke({\"topic\": topic, \"search_results\": search_results})\n",
        "\n",
        "    print(f\"Researcher's Explanation:\\n{result.content}\")\n",
        "    return {\"explanation\": result.content}"
      ]
    },
    {
      "cell_type": "code",
      "execution_count": 22,
      "id": "9b4123bd",
      "metadata": {
        "id": "9b4123bd"
      },
      "outputs": [],
      "source": [
        "def calculator_agent(state: AgentState) -> dict:\n",
        "    \"\"\"\n",
        "    This agent uses an LLM Math tool to solve a math problem.\n",
        "    \"\"\"\n",
        "    print(\"---CALCULATOR---\")\n",
        "    topic = state[\"topic\"]\n",
        "\n",
        "    result = math_tool.invoke({\"question\": topic})\n",
        "    answer = result.get('answer', 'Could not calculate answer.')\n",
        "\n",
        "    print(f\"Calculator's Result: {answer}\")\n",
        "    return {\"calculator_result\": answer}"
      ]
    },
    {
      "cell_type": "code",
      "execution_count": 23,
      "id": "8f6f49d5",
      "metadata": {
        "id": "8f6f49d5"
      },
      "outputs": [],
      "source": [
        "def travel_planner_agent(state: AgentState) -> dict:\n",
        "    \"\"\"\n",
        "    This agent searches for travel-related information like hotels or flights.\n",
        "    \"\"\"\n",
        "    print(\"---TRAVEL PLANNER---\")\n",
        "    topic = state[\"topic\"]\n",
        "\n",
        "    # For this example, we'll just use the general search tool.\n",
        "    # A real-world application would use a dedicated travel API.\n",
        "    search_results = search_tool.run(f\"Find information about: {topic}\")\n",
        "\n",
        "    print(f\"Travel Search Results:\\n{search_results}\")\n",
        "\n",
        "    prompt = ChatPromptTemplate.from_template(\n",
        "        \"\"\"You are a helpful travel assistant. Summarize the following information for the user's travel query about '{topic}'.\n",
        "\n",
        "        Search Results:\n",
        "        {search_results}\n",
        "        \"\"\"\n",
        "    )\n",
        "\n",
        "    chain = prompt | llm\n",
        "    result = chain.invoke({\"topic\": topic, \"search_results\": search_results})\n",
        "\n",
        "    print(f\"Travel Planner's Response:\\n{result.content}\")\n",
        "    return {\"travel_result\": result.content}"
      ]
    },
    {
      "cell_type": "code",
      "execution_count": 24,
      "id": "c7ee4f56",
      "metadata": {
        "id": "c7ee4f56"
      },
      "outputs": [],
      "source": [
        "def summarizer_agent(state: AgentState) -> dict:\n",
        "    \"\"\"\n",
        "    This agent takes an explanation and summarizes it in one sentence.\n",
        "    \"\"\"\n",
        "    print(\"---SUMMARIZER---\")\n",
        "    explanation = state[\"explanation\"]\n",
        "\n",
        "    prompt = ChatPromptTemplate.from_template(\n",
        "        \"You are a summarization expert. Condense the following text into a single, concise sentence:\\n\\n{explanation}\"\n",
        "    )\n",
        "\n",
        "    chain = prompt | llm\n",
        "    result = chain.invoke({\"explanation\": explanation})\n",
        "\n",
        "    print(f\"Summarizer's Output:\\n{result.content}\")\n",
        "    return {\"summary\": result.content}"
      ]
    },
    {
      "cell_type": "code",
      "execution_count": 25,
      "id": "27b382a1",
      "metadata": {
        "id": "27b382a1"
      },
      "outputs": [],
      "source": [
        "# --- Conditional Routing Function ---\n",
        "def should_route(state: AgentState) -> Literal[\"research\", \"calculate\", \"travel\"]:\n",
        "    \"\"\"This function is the decision point for our conditional edge.\"\"\"\n",
        "    return state[\"route\"]"
      ]
    },
    {
      "cell_type": "code",
      "execution_count": 26,
      "id": "5179a4c9",
      "metadata": {
        "id": "5179a4c9"
      },
      "outputs": [],
      "source": [
        "# --- Graph Definition ---\n",
        "\n",
        "workflow = StateGraph(AgentState)\n",
        "\n",
        "# Add all the agent functions as nodes\n",
        "workflow.add_node(\"planner\", planner_agent)\n",
        "workflow.add_node(\"researcher\", researcher_agent)\n",
        "workflow.add_node(\"calculator\", calculator_agent)\n",
        "workflow.add_node(\"travel_planner\", travel_planner_agent)\n",
        "workflow.add_node(\"summarizer\", summarizer_agent)\n",
        "\n",
        "# Set the entry point to the planner\n",
        "workflow.set_entry_point(\"planner\")\n",
        "\n",
        "# Add the conditional edge for the planner\n",
        "workflow.add_conditional_edges(\n",
        "    \"planner\",\n",
        "    should_route,\n",
        "    {\n",
        "        \"research\": \"researcher\",\n",
        "        \"calculate\": \"calculator\",\n",
        "        \"travel\": \"travel_planner\",\n",
        "    },\n",
        ")\n",
        "\n",
        "# Define the standard edges\n",
        "workflow.add_edge(\"researcher\", \"summarizer\")\n",
        "workflow.add_edge(\"summarizer\", END)\n",
        "workflow.add_edge(\"calculator\", END)\n",
        "workflow.add_edge(\"travel_planner\", END) # Travel result is final\n",
        "\n",
        "# Compile the graph\n",
        "app = workflow.compile()"
      ]
    },
    {
      "cell_type": "code",
      "execution_count": 27,
      "id": "0dda408d",
      "metadata": {
        "id": "0dda408d",
        "outputId": "45494220-a4ab-4771-b48a-3a9ce1a6a4e8",
        "colab": {
          "base_uri": "https://localhost:8080/"
        }
      },
      "outputs": [
        {
          "output_type": "stream",
          "name": "stdout",
          "text": [
            "Please enter a topic, math problem, or travel query: Travel plan to delhi for 5 days, suggests flights and hotels , plan Oct 1 to 5\n",
            "---PLANNER---\n",
            "Planner's Decision: travel\n",
            "---TRAVEL PLANNER---\n",
            "Travel Search Results:\n",
            "['Bundle New Delhi flight + hotel & save up to 100% off your flight with Expedia. FREE cancellation on select hotels.', 'Bundle Delhi flight + hotel & save up to 100% off your flight with Expedia. FREE cancellation on select hotels.', 'Embark on a 5 Nights/6 Days Golden Triangle Tour starting and ending in New Delhi. This trip covers the three most prominent tourist ...', 'Delhi Packages for 5 Days · Intercity Car Transfers · 5 Star Hotels · Airport Pickup & Drop · 4 Activities · Selected Meals.', 'Book New York to Delhi flights online on Air India to experience luxury & comfort. Enjoy the convenience of JFK to DEL flights from USD 351. Book now!', '5 Days New Delhi Itinerary: Best Places to Visit in New Delhi ; Day 1 | Morning. Red Fort. Opening Hours: Open from 9:30am-4:30pm. Ticket Price: ...', \"You can definitely plan your flights and first 3 nights in Delhi, and then book a tour (around 10 nights or so) once you're here.\", 'Private 4 Nights 5 Days India Golden Triangle Tour Package. Delhi. Sightseeing : Lotus temple. Delhi. Sightseeing. Taj Mahal.', 'The best India tour packages · India Golden Triangle Tour · 4.8 55 Reviews by TourRadar travelers · 5 Days Private Golden Triangle India tour from New Delhi.', 'Explore and compare cheap flights to anywhere with Google Flights. Find your next flight, track price changes to get the best deals, and book your ticket.']\n",
            "Travel Planner's Response:\n",
            "Of course! Here is a helpful summary of the key information for your 5-day trip to Delhi from October 1st to 5th, based on the search results provided.\n",
            "\n",
            "### **Quick Summary of Your Options:**\n",
            "\n",
            "The search results suggest two main approaches for your trip:\n",
            "1.  **A focused Delhi city tour.**\n",
            "2.  **A popular \"Golden Triangle\" tour** that also includes Agra (for the Taj Mahal) and Jaipur.\n",
            "\n",
            "---\n",
            "\n",
            "### **1. Flight Suggestions**\n",
            "\n",
            "*   **Good Deals:** You can find bundled flight + hotel packages on sites like **Expedia** that offer significant savings (some ads mention \"save up to 100% off your flight\").\n",
            "*   **Specific Example:** A direct flight from **New York (JFK) to Delhi (DEL)** with **Air India** is available starting from **USD $351**.\n",
            "*   **General Tip:** Use tools like **Google Flights** to explore and compare prices from all airlines to find the best deal for your departure city.\n",
            "\n",
            "### **2. Hotel & Stay Suggestions**\n",
            "\n",
            "*   **Bundled Savings:** The most recommended way to book your hotel is to **bundle it with your flight** (e.g., on Expedia) for the best overall price. Many hotels offer **free cancellation** on these sites.\n",
            "*   **Quality:** Packages are available that include stays at **5-star hotels**.\n",
            "\n",
            "### **3. Itinerary & Tour Plans**\n",
            "\n",
            "You have two excellent choices for how to spend your 5 days:\n",
            "\n",
            "**Option A: Delhi City Exploration (5 Nights)**\n",
            "*   This involves exploring the capital city in depth.\n",
            "*   A sample itinerary includes visiting major sites like the historic **Red Fort**.\n",
            "*   Packages often include airport transfers, intercity car transfers, selected meals, and around 4 activities.\n",
            "\n",
            "**Option B: The Golden Triangle Tour (4-5 Nights)**\n",
            "*   This is a highly popular tour that covers India's three most prominent cities: **Delhi, Agra (Taj Mahal), and Jaipur**.\n",
            "*   It's offered as a **4-night/5-day private tour** package that starts and ends in Delhi.\n",
            "*   Sightseeing in Delhi includes places like the beautiful **Lotus Temple**.\n",
            "\n",
            "### **My Recommendation:**\n",
            "\n",
            "With 5 full days, the **Golden Triangle tour** is a fantastic way to see the iconic highlights of North India. However, if you prefer to immerse yourself in the culture and history of one major city, a **Delhi-focused itinerary** is also a great option.\n",
            "\n",
            "**Next Steps:**\n",
            "1.  **Book your flights first,** using the tips above to find a good deal.\n",
            "2.  **Decide on your itinerary** (just Delhi or the Golden Triangle).\n",
            "3.  **Book a bundled hotel package or a dedicated tour** for your chosen plan.\n",
            "\n",
            "Enjoy your trip to Delhi\n",
            "\n",
            "--- FINAL RESULT ---\n",
            "Of course! Here is a helpful summary of the key information for your 5-day trip to Delhi from October 1st to 5th, based on the search results provided.\n",
            "\n",
            "### **Quick Summary of Your Options:**\n",
            "\n",
            "The search results suggest two main approaches for your trip:\n",
            "1.  **A focused Delhi city tour.**\n",
            "2.  **A popular \"Golden Triangle\" tour** that also includes Agra (for the Taj Mahal) and Jaipur.\n",
            "\n",
            "---\n",
            "\n",
            "### **1. Flight Suggestions**\n",
            "\n",
            "*   **Good Deals:** You can find bundled flight + hotel packages on sites like **Expedia** that offer significant savings (some ads mention \"save up to 100% off your flight\").\n",
            "*   **Specific Example:** A direct flight from **New York (JFK) to Delhi (DEL)** with **Air India** is available starting from **USD $351**.\n",
            "*   **General Tip:** Use tools like **Google Flights** to explore and compare prices from all airlines to find the best deal for your departure city.\n",
            "\n",
            "### **2. Hotel & Stay Suggestions**\n",
            "\n",
            "*   **Bundled Savings:** The most recommended way to book your hotel is to **bundle it with your flight** (e.g., on Expedia) for the best overall price. Many hotels offer **free cancellation** on these sites.\n",
            "*   **Quality:** Packages are available that include stays at **5-star hotels**.\n",
            "\n",
            "### **3. Itinerary & Tour Plans**\n",
            "\n",
            "You have two excellent choices for how to spend your 5 days:\n",
            "\n",
            "**Option A: Delhi City Exploration (5 Nights)**\n",
            "*   This involves exploring the capital city in depth.\n",
            "*   A sample itinerary includes visiting major sites like the historic **Red Fort**.\n",
            "*   Packages often include airport transfers, intercity car transfers, selected meals, and around 4 activities.\n",
            "\n",
            "**Option B: The Golden Triangle Tour (4-5 Nights)**\n",
            "*   This is a highly popular tour that covers India's three most prominent cities: **Delhi, Agra (Taj Mahal), and Jaipur**.\n",
            "*   It's offered as a **4-night/5-day private tour** package that starts and ends in Delhi.\n",
            "*   Sightseeing in Delhi includes places like the beautiful **Lotus Temple**.\n",
            "\n",
            "### **My Recommendation:**\n",
            "\n",
            "With 5 full days, the **Golden Triangle tour** is a fantastic way to see the iconic highlights of North India. However, if you prefer to immerse yourself in the culture and history of one major city, a **Delhi-focused itinerary** is also a great option.\n",
            "\n",
            "**Next Steps:**\n",
            "1.  **Book your flights first,** using the tips above to find a good deal.\n",
            "2.  **Decide on your itinerary** (just Delhi or the Golden Triangle).\n",
            "3.  **Book a bundled hotel package or a dedicated tour** for your chosen plan.\n",
            "\n",
            "Enjoy your trip to Delhi\n"
          ]
        }
      ],
      "source": [
        "# --- Main Execution Block ---\n",
        "if __name__ == \"__main__\":\n",
        "    topic = input(\"Please enter a topic, math problem, or travel query: \")\n",
        "\n",
        "    inputs = {\"topic\": topic}\n",
        "    final_state = app.invoke(inputs)\n",
        "\n",
        "    print(\"\\n--- FINAL RESULT ---\")\n",
        "    # The final result depends on which path was taken\n",
        "    if final_state.get('summary'):\n",
        "        print(final_state['summary'])\n",
        "    elif final_state.get('calculator_result'):\n",
        "        print(final_state['calculator_result'])\n",
        "    elif final_state.get('travel_result'):\n",
        "        print(final_state['travel_result'])\n",
        "    else:\n",
        "        print(\"An unexpected error occurred.\")"
      ]
    },
    {
      "cell_type": "code",
      "source": [
        "# --- Main Execution Block ---\n",
        "if __name__ == \"__main__\":\n",
        "    topic = input(\"Please enter a topic, math problem, or travel query: \")\n",
        "\n",
        "    inputs = {\"topic\": topic}\n",
        "    final_state = app.invoke(inputs)\n",
        "\n",
        "    print(\"\\n--- FINAL RESULT ---\")\n",
        "    # The final result depends on which path was taken\n",
        "    if final_state.get('summary'):\n",
        "        print(final_state['summary'])\n",
        "    elif final_state.get('calculator_result'):\n",
        "        print(final_state['calculator_result'])\n",
        "    elif final_state.get('travel_result'):\n",
        "        print(final_state['travel_result'])\n",
        "    else:\n",
        "        print(\"An unexpected error occurred.\")"
      ],
      "metadata": {
        "id": "9zHiYggUvAnj",
        "outputId": "9dcac00d-6607-416e-d335-184c09ce7ab2",
        "colab": {
          "base_uri": "https://localhost:8080/"
        }
      },
      "id": "9zHiYggUvAnj",
      "execution_count": 30,
      "outputs": [
        {
          "output_type": "stream",
          "name": "stdout",
          "text": [
            "Please enter a topic, math problem, or travel query: write a ptyhon code\n",
            "---PLANNER---\n",
            "Planner's Decision: research\n",
            "---RESEARCHER (with SerpApi Web Search)---\n",
            "Search Results:\n",
            "['Python is easy for beginners to learn. Start with the online documentation, which includes a brief tutorial. Installation is generally easy.', 'In this tutorial Python will be written in a text editor. It is possible to write Python in an Integrated Development Environment, such as Thonny, Pycharm, ...', 'After learning about the # symbol and how it provides \"commentary\" for the lines of code, I decided to write down my proposed code within the # ...', 'This page contains Python examples on basic concepts, including programs to check prime numbers, add numbers, find factorials, and make a simple calculator.', \"This tutorial covers variable definitions, the 'Hello, World!' program, data types, loops, functions, exception handling, and more.\", 'This free tutorial uses interactive coding challenges and videos to teach Python, which is simple with a straightforward syntax. The tutorial uses Python 3.', 'Open a Python file in the editor, write code, and run it without debugging using Debug > Start without Debugging or Ctrl+F5.']\n",
            "Researcher's Explanation:\n",
            "Of course! Based on the search results, here is a simple explanation and a first step to writing Python code.\n",
            "\n",
            "### What is Writing Python Code?\n",
            "\n",
            "Writing Python code is the process of creating a set of instructions for a computer to follow. The search results highlight that Python is a great language for beginners because it uses a clear and straightforward syntax (the rules for writing the code).\n",
            "\n",
            "You write these instructions in a plain text file (using a simple text editor or a special program called an **Integrated Development Environment (IDE)** like Thonny or PyCharm). Once written, you \"run\" the code, and the computer executes your commands.\n",
            "\n",
            "---\n",
            "\n",
            "### Your First Python Code: \"Hello, World!\"\n",
            "\n",
            "The most traditional first program in any language simply makes the computer display the text \"Hello, World!\" on the screen. Here is how you do it in Python:\n",
            "\n",
            "```python\n",
            "# This is a comment. It's for humans to read and is ignored by the computer.\n",
            "print(\"Hello, World!\")\n",
            "```\n",
            "\n",
            "**How it works:**\n",
            "1.  The line starting with `#` is a **comment**. As the search results mentioned, it's just a note for yourself and doesn't do anything.\n",
            "2.  The `print()` function is a basic Python command that tells the computer to output whatever you put inside the parentheses.\n",
            "3.  The text `\"Hello, World!\"` is a **string** (a sequence of characters), which is why it's inside quotation marks.\n",
            "\n",
            "**To run this code, you would:**\n",
            "1.  Open a text editor or an IDE (like Thonny, which is recommended for beginners).\n",
            "2.  Type the code above into a new file.\n",
            "3.  Save the file with a `.py` extension (e.g., `my_first_program.py`).\n",
            "4.  Run the code using your editor's \"Run\" command (often a play button ▶️) or by pressing `Ctrl+F5`.\n",
            "\n",
            "When you run it, you should see `Hello, World!` appear in the output console.\n",
            "\n",
            "This is the first step. From here, the search results suggest you can move on to learning about **variables, data types, loops, and functions** to build more complex and useful programs. The online documentation and tutorials are your best friends for learning more\n",
            "---SUMMARIZER---\n",
            "Summarizer's Output:\n",
            "Python code is a set of instructions written in a clear syntax, which is executed to perform tasks, starting with simple commands like `print(\"Hello, World!\")`.\n",
            "\n",
            "--- FINAL RESULT ---\n",
            "Python code is a set of instructions written in a clear syntax, which is executed to perform tasks, starting with simple commands like `print(\"Hello, World!\")`.\n"
          ]
        }
      ]
    },
    {
      "cell_type": "code",
      "source": [],
      "metadata": {
        "id": "WtAdkLTxynpv"
      },
      "id": "WtAdkLTxynpv",
      "execution_count": null,
      "outputs": []
    }
  ],
  "metadata": {
    "kernelspec": {
      "display_name": "agents",
      "language": "python",
      "name": "python3"
    },
    "language_info": {
      "codemirror_mode": {
        "name": "ipython",
        "version": 3
      },
      "file_extension": ".py",
      "mimetype": "text/x-python",
      "name": "python",
      "nbconvert_exporter": "python",
      "pygments_lexer": "ipython3",
      "version": "3.11.9"
    },
    "colab": {
      "provenance": [],
      "include_colab_link": true
    }
  },
  "nbformat": 4,
  "nbformat_minor": 5
}