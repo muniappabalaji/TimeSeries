{
  "cells": [
    {
      "cell_type": "markdown",
      "metadata": {
        "id": "view-in-github",
        "colab_type": "text"
      },
      "source": [
        "<a href=\"https://colab.research.google.com/github/muniappabalaji/TimeSeries/blob/main/LLM/RAG/RAG.ipynb\" target=\"_parent\"><img src=\"https://colab.research.google.com/assets/colab-badge.svg\" alt=\"Open In Colab\"/></a>"
      ]
    },
    {
      "cell_type": "code",
      "source": [
        "# !pip install -q  langchain langchain_community langchain_experimental langchain_openai pdfplumber faiss-cpu\n",
        "!pip install -q langchain langchain-community langchain-experimental faiss-cpu pdfplumber"
      ],
      "metadata": {
        "id": "AiAEdObM_KBn"
      },
      "execution_count": 4,
      "outputs": []
    },
    {
      "cell_type": "code",
      "source": [
        "# !git clone https://github.com/deepanrajm/GL.git\n",
        "!git clone https://github.com/muniappabalaji/TimeSeries.git"
      ],
      "metadata": {
        "id": "rLiFrdMs_Nl7",
        "colab": {
          "base_uri": "https://localhost:8080/"
        },
        "outputId": "ca091b93-67bc-4720-be5f-8019f56b5414"
      },
      "execution_count": 5,
      "outputs": [
        {
          "output_type": "stream",
          "name": "stdout",
          "text": [
            "Cloning into 'TimeSeries'...\n",
            "remote: Enumerating objects: 110, done.\u001b[K\n",
            "remote: Counting objects: 100% (110/110), done.\u001b[K\n",
            "remote: Compressing objects: 100% (107/107), done.\u001b[K\n",
            "remote: Total 110 (delta 58), reused 0 (delta 0), pack-reused 0 (from 0)\u001b[K\n",
            "Receiving objects: 100% (110/110), 1.45 MiB | 12.73 MiB/s, done.\n",
            "Resolving deltas: 100% (58/58), done.\n"
          ]
        }
      ]
    },
    {
      "cell_type": "code",
      "execution_count": 8,
      "metadata": {
        "id": "AnpYzL6_-9PH"
      },
      "outputs": [],
      "source": [
        "# from langchain_community.document_loaders import PDFPlumberLoader\n",
        "# from langchain_experimental.text_splitter import SemanticChunker\n",
        "# from langchain_community.embeddings import HuggingFaceEmbeddings\n",
        "# from langchain_community.vectorstores import FAISS\n",
        "\n",
        "\n",
        "from langchain_community.document_loaders import PDFPlumberLoader\n",
        "from langchain_experimental.text_splitter import SemanticChunker\n",
        "from langchain_community.embeddings import HuggingFaceEmbeddings\n",
        "from langchain_community.vectorstores import FAISS"
      ]
    },
    {
      "cell_type": "code",
      "execution_count": 9,
      "metadata": {
        "id": "nGgGRiVo-9PJ",
        "colab": {
          "base_uri": "https://localhost:8080/",
          "height": 178
        },
        "outputId": "e6b5ae80-12d3-4346-a65d-1026c9cc1f87"
      },
      "outputs": [
        {
          "output_type": "stream",
          "name": "stdout",
          "text": [
            "Number of pages in the PDF: 3\n"
          ]
        },
        {
          "output_type": "execute_result",
          "data": {
            "text/plain": [
              "'\\uf0b7 Warm Lemon Water: Drink on an empty stomach to stimulate digestion.\\n\\uf0b7 Flaxseeds: Soak overnight and consume in the morning for fiber intake.\\n\\uf0b7 Aloe Vera Juice: Helps in smooth bowel movements.\\n2.6 Skin Problems (Acne, Dry Skin, Sunburn)\\n\\uf0b7 Aloe Vera Gel: Apply fresh aloe vera gel to reduce acne and soothe burns.\\n\\uf0b7 Coconut Oil: Moisturizes dry skin and prevents infections.\\n\\uf0b7 Cucumber & Honey Face Pack: Hydrates skin and reduces irritation.\\n2.7 Joint Pain & Inflammation\\n\\uf0b7 Turmeric & Black Pepper: Mix 1 tsp turmeric with a pinch of black pepper in warm\\nmilk. Reduces inflammation.\\n\\uf0b7 Epsom Salt Bath: Soak in warm water with Epsom salt for muscle relaxation.\\n\\uf0b7 Ginger Tea: Acts as a natural pain reliever.\\n2.8 Insomnia (Sleep Issues)\\n\\uf0b7 Chamomile Tea: Calms the mind and promotes sleep.\\n\\uf0b7 Warm Milk & Nutmeg: Drink before bed to improve sleep quality.\\n\\uf0b7 Lavender Essential Oil: Diffuse in the bedroom to relax the mind.\\n3. Healthy Lifestyle Tips\\n3.1 Balanced Diet\\n\\uf0b7 Eat whole foods, including fruits, vegetables, whole grains, and lean proteins.\\n\\uf0b7 Reduce processed foods, sugar, and unhealthy fats.\\n\\uf0b7 Drink 8-10 glasses of water daily to stay hydrated.\\n3.2 Regular Exercise\\n\\uf0b7 Aim for 30 minutes of physical activity daily (walking, yoga, strength training).\\n\\uf0b7 Stretch to improve flexibility and reduce muscle stiffness.\\n\\uf0b7 Engage in outdoor activities for fresh air and vitamin D.\\n3.3 Stress Management\\n\\uf0b7 Practice deep breathing exercises.\\n\\uf0b7 Meditate for 10-15 minutes daily to calm the mind.\\n\\uf0b7 Engage in hobbies like gardening, reading, or painting.\\n'"
            ],
            "application/vnd.google.colaboratory.intrinsic+json": {
              "type": "string"
            }
          },
          "metadata": {},
          "execution_count": 9
        }
      ],
      "source": [
        "loader = PDFPlumberLoader(r\"/content/TimeSeries/LLM/RAG/Basic_Home_Remedies.pdf\")\n",
        "docs = loader.load()\n",
        "\n",
        "# Check the number of pages\n",
        "print(\"Number of pages in the PDF:\",len(docs))\n",
        "\n",
        "# Load the random page content\n",
        "docs[1].page_content"
      ]
    },
    {
      "cell_type": "code",
      "execution_count": null,
      "metadata": {
        "id": "lGxnDNRw-9PK",
        "colab": {
          "base_uri": "https://localhost:8080/"
        },
        "outputId": "11f64b6a-e703-4cb2-ed6d-c64c7cc4912b"
      },
      "outputs": [
        {
          "output_type": "stream",
          "name": "stderr",
          "text": [
            "/tmp/ipython-input-2474015895.py:1: LangChainDeprecationWarning: The class `HuggingFaceEmbeddings` was deprecated in LangChain 0.2.2 and will be removed in 1.0. An updated version of the class exists in the :class:`~langchain-huggingface package and should be used instead. To use it run `pip install -U :class:`~langchain-huggingface` and import as `from :class:`~langchain_huggingface import HuggingFaceEmbeddings``.\n",
            "  text_splitter = SemanticChunker(HuggingFaceEmbeddings())\n",
            "/tmp/ipython-input-2474015895.py:1: LangChainDeprecationWarning: Default values for HuggingFaceEmbeddings.model_name were deprecated in LangChain 0.2.16 and will be removed in 0.4.0. Explicitly pass a model_name to the HuggingFaceEmbeddings constructor instead.\n",
            "  text_splitter = SemanticChunker(HuggingFaceEmbeddings())\n"
          ]
        }
      ],
      "source": [
        "text_splitter = SemanticChunker(HuggingFaceEmbeddings())\n",
        "documents = text_splitter.split_documents(docs)"
      ]
    },
    {
      "cell_type": "code",
      "execution_count": null,
      "metadata": {
        "id": "cWkvnzMd-9PK"
      },
      "outputs": [],
      "source": [
        "print(\"Number of chunks created: \", len(documents))\n",
        "\n",
        "print(documents[0].page_content)"
      ]
    },
    {
      "cell_type": "code",
      "execution_count": null,
      "metadata": {
        "id": "dfxTRBaG-9PK"
      },
      "outputs": [],
      "source": [
        "from langchain.text_splitter import RecursiveCharacterTextSplitter\n",
        "\n",
        "text_splitter = RecursiveCharacterTextSplitter(\n",
        "    chunk_size=500,       # size of each chunk\n",
        "    chunk_overlap=50,     # overlap between chunks\n",
        "    separators=[\"\\n\\n\", \"\\n\", \".\", \" \", \"\"]  # fallback hierarchy\n",
        ")\n",
        "\n",
        "documents = text_splitter.split_documents(docs)"
      ]
    },
    {
      "cell_type": "code",
      "execution_count": null,
      "metadata": {
        "id": "Hn3oEKLH-9PL"
      },
      "outputs": [],
      "source": [
        "print(\"Number of chunks created: \", len(documents))\n",
        "\n",
        "print(documents[0].page_content)"
      ]
    },
    {
      "cell_type": "code",
      "execution_count": null,
      "metadata": {
        "id": "8tXCwFDC-9PL"
      },
      "outputs": [],
      "source": [
        "# Instantiate the embedding model\n",
        "embedder = HuggingFaceEmbeddings()\n",
        "\n",
        "# Create the vector store\n",
        "vector = FAISS.from_documents(documents, embedder)\n",
        "retriever = vector.as_retriever(search_type=\"similarity\", search_kwargs={\"k\": 1})"
      ]
    },
    {
      "cell_type": "code",
      "execution_count": null,
      "metadata": {
        "id": "kDCVAE7L-9PL"
      },
      "outputs": [],
      "source": [
        "# from langchain_community.llms import Ollama\n",
        "\n",
        "# llm = Ollama(model=\"llama3.2:1b\")"
      ]
    },
    {
      "cell_type": "code",
      "execution_count": null,
      "metadata": {
        "id": "ngZJv396-9PL"
      },
      "outputs": [],
      "source": [
        "from langchain.chat_models import ChatOpenAI\n",
        "from langchain.schema import AIMessage, HumanMessage, SystemMessage\n",
        "\n",
        "llm = ChatOpenAI(openai_api_base = \"https://openrouter.ai/api/v1\", openai_api_key = \"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\", model = \"deepseek/deepseek-chat-v3.1:free\")\n",
        "\n"
      ]
    },
    {
      "cell_type": "code",
      "execution_count": null,
      "metadata": {
        "id": "-ftKiNrO-9PL"
      },
      "outputs": [],
      "source": [
        "# 2. If you don't know the answer, just say that \"I don't know\" but don't make up an answer on your own.\\n"
      ]
    },
    {
      "cell_type": "code",
      "execution_count": null,
      "metadata": {
        "id": "XfomHGdc-9PM"
      },
      "outputs": [],
      "source": [
        "from langchain.chains import RetrievalQA\n",
        "from langchain.chains.llm import LLMChain\n",
        "from langchain.chains.combine_documents.stuff import StuffDocumentsChain\n",
        "from langchain.prompts import PromptTemplate\n",
        "\n",
        "prompt = \"\"\"\n",
        "1. You are doctor\n",
        "2. Use the following pieces of context to answer the question at the end.\n",
        "3. Answer only by using the context and articulate it better, use bullet point and emoji if required\n",
        "4. Keep the answer crisp and limited to 3,4 sentences.\n",
        "\n",
        "Context: {context}\n",
        "\n",
        "Question: {question}\n",
        "\n",
        "Answer to the question:\"\"\"\n",
        "\n",
        "\n",
        "QA_CHAIN_PROMPT = PromptTemplate.from_template(prompt)\n",
        "\n",
        "llm_chain = LLMChain(\n",
        "                  llm=llm,\n",
        "                  prompt=QA_CHAIN_PROMPT,\n",
        "                  callbacks=None,\n",
        "                  verbose=True)\n",
        "\n",
        "document_prompt = PromptTemplate(\n",
        "    input_variables=[\"page_content\", \"source\"],\n",
        "    template=\"Context:\\ncontent:{page_content}\\nsource:{source}\",\n",
        ")\n",
        "\n",
        "combine_documents_chain = StuffDocumentsChain(\n",
        "                  llm_chain=llm_chain,\n",
        "                  document_variable_name=\"context\",\n",
        "                  document_prompt=document_prompt,\n",
        "                  callbacks=None,\n",
        "              )\n",
        "\n",
        "qa = RetrievalQA(\n",
        "                  combine_documents_chain=combine_documents_chain,\n",
        "                  verbose=True,\n",
        "                  retriever=retriever,\n",
        "                  return_source_documents=True,\n",
        "              )"
      ]
    },
    {
      "cell_type": "code",
      "execution_count": null,
      "metadata": {
        "id": "4Af_iCpb-9PM"
      },
      "outputs": [],
      "source": [
        "print(qa(\"remedy for cough?\")[\"result\"])"
      ]
    }
  ],
  "metadata": {
    "kernelspec": {
      "display_name": "Python 3",
      "name": "python3"
    },
    "language_info": {
      "codemirror_mode": {
        "name": "ipython",
        "version": 3
      },
      "file_extension": ".py",
      "mimetype": "text/x-python",
      "name": "python",
      "nbconvert_exporter": "python",
      "pygments_lexer": "ipython3",
      "version": "3.9.21"
    },
    "colab": {
      "provenance": [],
      "gpuType": "T4",
      "include_colab_link": true
    }
  },
  "nbformat": 4,
  "nbformat_minor": 0
}