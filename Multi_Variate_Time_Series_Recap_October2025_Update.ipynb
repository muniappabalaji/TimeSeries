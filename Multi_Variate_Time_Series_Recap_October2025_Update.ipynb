{
  "nbformat": 4,
  "nbformat_minor": 0,
  "metadata": {
    "colab": {
      "provenance": [],
      "collapsed_sections": [
        "3-e0B-KD34SD",
        "KKu5C2u-38F7",
        "maIG0Oet8OoE",
        "meuTq1L4D30k",
        "TQ2KVitFn4CP",
        "JkWijQPg_rXu"
      ],
      "include_colab_link": true
    },
    "kernelspec": {
      "name": "python3",
      "display_name": "Python 3"
    },
    "language_info": {
      "name": "python"
    }
  },
  "cells": [
    {
      "cell_type": "markdown",
      "metadata": {
        "id": "view-in-github",
        "colab_type": "text"
      },
      "source": [
        "<a href=\"https://colab.research.google.com/github/muniappabalaji/TimeSeries/blob/main/Multi_Variate_Time_Series_Recap_October2025_Update.ipynb\" target=\"_parent\"><img src=\"https://colab.research.google.com/assets/colab-badge.svg\" alt=\"Open In Colab\"/></a>"
      ]
    },
    {
      "cell_type": "markdown",
      "source": [
        "Approach to Panama Electricity Forecast\n",
        "1. Load the libraries and Data\n",
        "2. Audit Check on the data\n",
        "3. EDA\n",
        "4. Time Series Decomposition\n",
        "5. Stationarity\n",
        "6. VAR\n",
        "7. VECM\n",
        "8. VARMA\n",
        "9. Compare the results of VAR, VECM and VARMA\n",
        "10. Apply Neural Networks to the data\n",
        "11. Compare the results of VAR, VECM and VARMA with Neural Networks\n",
        "12. Deploy the model with best results"
      ],
      "metadata": {
        "id": "1EjeRw_Nqq0n"
      }
    },
    {
      "cell_type": "markdown",
      "source": [
        "Unzip The Data"
      ],
      "metadata": {
        "id": "y9BoIRSnr55c"
      }
    },
    {
      "cell_type": "code",
      "execution_count": null,
      "metadata": {
        "colab": {
          "base_uri": "https://localhost:8080/"
        },
        "id": "Ye4Z5NqzqY3b",
        "outputId": "cbed8249-4ebf-41b3-9bc1-dcd629ba6e03"
      },
      "outputs": [
        {
          "output_type": "stream",
          "name": "stdout",
          "text": [
            "Archive:  /content/Panama Electricity Data.zip\n",
            "replace Predict_Jan.csv? [y]es, [n]o, [A]ll, [N]one, [r]ename: A\n",
            "  inflating: Predict_Jan.csv         \n",
            "  inflating: Test_Jan.csv            \n",
            "  inflating: train.csv               \n"
          ]
        }
      ],
      "source": [
        "!unzip '/content/Panama Electricity Data.zip'"
      ]
    },
    {
      "cell_type": "markdown",
      "source": [
        "# Import Data and EDA"
      ],
      "metadata": {
        "id": "3-e0B-KD34SD"
      }
    },
    {
      "cell_type": "markdown",
      "source": [
        "Load the Libraries"
      ],
      "metadata": {
        "id": "yqHeRQxTsJt_"
      }
    },
    {
      "cell_type": "code",
      "source": [
        "import pandas as pd\n",
        "import numpy as np\n",
        "import matplotlib.pyplot as plt\n",
        "import seaborn as sns\n",
        "from statsmodels.tsa.seasonal import seasonal_decompose\n",
        "from statsmodels.tsa.stattools import adfuller"
      ],
      "metadata": {
        "id": "QM3qylnksK_a"
      },
      "execution_count": null,
      "outputs": []
    },
    {
      "cell_type": "markdown",
      "source": [
        "Load the data"
      ],
      "metadata": {
        "id": "l15uQS8Qsevk"
      }
    },
    {
      "cell_type": "code",
      "source": [
        "df = pd.read_csv('/content/train.csv')"
      ],
      "metadata": {
        "id": "-08mMBcBsfmV"
      },
      "execution_count": null,
      "outputs": []
    },
    {
      "cell_type": "code",
      "source": [
        "display(df.head())\n",
        "display(df.info())\n",
        "display(df.describe())"
      ],
      "metadata": {
        "colab": {
          "base_uri": "https://localhost:8080/",
          "height": 1000
        },
        "id": "WMie-SdPs1JR",
        "outputId": "6d73ef03-b100-4d79-ea10-a23e51da5ad7"
      },
      "execution_count": null,
      "outputs": [
        {
          "output_type": "display_data",
          "data": {
            "text/plain": [
              "           datetime  nat_demand    T2M_toc  QV2M_toc   TQL_toc    W2M_toc  \\\n",
              "0  03-01-2015 01:00    970.3450  25.865259  0.018576  0.016174  21.850546   \n",
              "1  03-01-2015 02:00    912.1755  25.899255  0.018653  0.016418  22.166944   \n",
              "2  03-01-2015 03:00    900.2688  25.937280  0.018768  0.015480  22.454911   \n",
              "3  03-01-2015 04:00    889.9538  25.957544  0.018890  0.016273  22.110481   \n",
              "4  03-01-2015 05:00    893.6865  25.973840  0.018981  0.017281  21.186089   \n",
              "\n",
              "     T2M_san  QV2M_san   TQL_san    W2M_san    T2M_dav  QV2M_dav   TQL_dav  \\\n",
              "0  23.482446  0.017272  0.001855  10.328949  22.662134  0.016562  0.096100   \n",
              "1  23.399255  0.017265  0.001327  10.681517  22.578943  0.016509  0.087646   \n",
              "2  23.343530  0.017211  0.001428  10.874924  22.531030  0.016479  0.078735   \n",
              "3  23.238794  0.017128  0.002599  10.518620  22.512231  0.016487  0.068390   \n",
              "4  23.075403  0.017059  0.001729   9.733589  22.481653  0.016456  0.064362   \n",
              "\n",
              "    W2M_dav  Holiday_ID  holiday  school  \n",
              "0  5.364148           0        0       0  \n",
              "1  5.572471           0        0       0  \n",
              "2  5.871184           0        0       0  \n",
              "3  5.883621           0        0       0  \n",
              "4  5.611724           0        0       0  "
            ],
            "text/html": [
              "\n",
              "  <div id=\"df-44df0a54-17ce-448b-8c00-c46e89a2e522\" class=\"colab-df-container\">\n",
              "    <div>\n",
              "<style scoped>\n",
              "    .dataframe tbody tr th:only-of-type {\n",
              "        vertical-align: middle;\n",
              "    }\n",
              "\n",
              "    .dataframe tbody tr th {\n",
              "        vertical-align: top;\n",
              "    }\n",
              "\n",
              "    .dataframe thead th {\n",
              "        text-align: right;\n",
              "    }\n",
              "</style>\n",
              "<table border=\"1\" class=\"dataframe\">\n",
              "  <thead>\n",
              "    <tr style=\"text-align: right;\">\n",
              "      <th></th>\n",
              "      <th>datetime</th>\n",
              "      <th>nat_demand</th>\n",
              "      <th>T2M_toc</th>\n",
              "      <th>QV2M_toc</th>\n",
              "      <th>TQL_toc</th>\n",
              "      <th>W2M_toc</th>\n",
              "      <th>T2M_san</th>\n",
              "      <th>QV2M_san</th>\n",
              "      <th>TQL_san</th>\n",
              "      <th>W2M_san</th>\n",
              "      <th>T2M_dav</th>\n",
              "      <th>QV2M_dav</th>\n",
              "      <th>TQL_dav</th>\n",
              "      <th>W2M_dav</th>\n",
              "      <th>Holiday_ID</th>\n",
              "      <th>holiday</th>\n",
              "      <th>school</th>\n",
              "    </tr>\n",
              "  </thead>\n",
              "  <tbody>\n",
              "    <tr>\n",
              "      <th>0</th>\n",
              "      <td>03-01-2015 01:00</td>\n",
              "      <td>970.3450</td>\n",
              "      <td>25.865259</td>\n",
              "      <td>0.018576</td>\n",
              "      <td>0.016174</td>\n",
              "      <td>21.850546</td>\n",
              "      <td>23.482446</td>\n",
              "      <td>0.017272</td>\n",
              "      <td>0.001855</td>\n",
              "      <td>10.328949</td>\n",
              "      <td>22.662134</td>\n",
              "      <td>0.016562</td>\n",
              "      <td>0.096100</td>\n",
              "      <td>5.364148</td>\n",
              "      <td>0</td>\n",
              "      <td>0</td>\n",
              "      <td>0</td>\n",
              "    </tr>\n",
              "    <tr>\n",
              "      <th>1</th>\n",
              "      <td>03-01-2015 02:00</td>\n",
              "      <td>912.1755</td>\n",
              "      <td>25.899255</td>\n",
              "      <td>0.018653</td>\n",
              "      <td>0.016418</td>\n",
              "      <td>22.166944</td>\n",
              "      <td>23.399255</td>\n",
              "      <td>0.017265</td>\n",
              "      <td>0.001327</td>\n",
              "      <td>10.681517</td>\n",
              "      <td>22.578943</td>\n",
              "      <td>0.016509</td>\n",
              "      <td>0.087646</td>\n",
              "      <td>5.572471</td>\n",
              "      <td>0</td>\n",
              "      <td>0</td>\n",
              "      <td>0</td>\n",
              "    </tr>\n",
              "    <tr>\n",
              "      <th>2</th>\n",
              "      <td>03-01-2015 03:00</td>\n",
              "      <td>900.2688</td>\n",
              "      <td>25.937280</td>\n",
              "      <td>0.018768</td>\n",
              "      <td>0.015480</td>\n",
              "      <td>22.454911</td>\n",
              "      <td>23.343530</td>\n",
              "      <td>0.017211</td>\n",
              "      <td>0.001428</td>\n",
              "      <td>10.874924</td>\n",
              "      <td>22.531030</td>\n",
              "      <td>0.016479</td>\n",
              "      <td>0.078735</td>\n",
              "      <td>5.871184</td>\n",
              "      <td>0</td>\n",
              "      <td>0</td>\n",
              "      <td>0</td>\n",
              "    </tr>\n",
              "    <tr>\n",
              "      <th>3</th>\n",
              "      <td>03-01-2015 04:00</td>\n",
              "      <td>889.9538</td>\n",
              "      <td>25.957544</td>\n",
              "      <td>0.018890</td>\n",
              "      <td>0.016273</td>\n",
              "      <td>22.110481</td>\n",
              "      <td>23.238794</td>\n",
              "      <td>0.017128</td>\n",
              "      <td>0.002599</td>\n",
              "      <td>10.518620</td>\n",
              "      <td>22.512231</td>\n",
              "      <td>0.016487</td>\n",
              "      <td>0.068390</td>\n",
              "      <td>5.883621</td>\n",
              "      <td>0</td>\n",
              "      <td>0</td>\n",
              "      <td>0</td>\n",
              "    </tr>\n",
              "    <tr>\n",
              "      <th>4</th>\n",
              "      <td>03-01-2015 05:00</td>\n",
              "      <td>893.6865</td>\n",
              "      <td>25.973840</td>\n",
              "      <td>0.018981</td>\n",
              "      <td>0.017281</td>\n",
              "      <td>21.186089</td>\n",
              "      <td>23.075403</td>\n",
              "      <td>0.017059</td>\n",
              "      <td>0.001729</td>\n",
              "      <td>9.733589</td>\n",
              "      <td>22.481653</td>\n",
              "      <td>0.016456</td>\n",
              "      <td>0.064362</td>\n",
              "      <td>5.611724</td>\n",
              "      <td>0</td>\n",
              "      <td>0</td>\n",
              "      <td>0</td>\n",
              "    </tr>\n",
              "  </tbody>\n",
              "</table>\n",
              "</div>\n",
              "    <div class=\"colab-df-buttons\">\n",
              "\n",
              "  <div class=\"colab-df-container\">\n",
              "    <button class=\"colab-df-convert\" onclick=\"convertToInteractive('df-44df0a54-17ce-448b-8c00-c46e89a2e522')\"\n",
              "            title=\"Convert this dataframe to an interactive table.\"\n",
              "            style=\"display:none;\">\n",
              "\n",
              "  <svg xmlns=\"http://www.w3.org/2000/svg\" height=\"24px\" viewBox=\"0 -960 960 960\">\n",
              "    <path d=\"M120-120v-720h720v720H120Zm60-500h600v-160H180v160Zm220 220h160v-160H400v160Zm0 220h160v-160H400v160ZM180-400h160v-160H180v160Zm440 0h160v-160H620v160ZM180-180h160v-160H180v160Zm440 0h160v-160H620v160Z\"/>\n",
              "  </svg>\n",
              "    </button>\n",
              "\n",
              "  <style>\n",
              "    .colab-df-container {\n",
              "      display:flex;\n",
              "      gap: 12px;\n",
              "    }\n",
              "\n",
              "    .colab-df-convert {\n",
              "      background-color: #E8F0FE;\n",
              "      border: none;\n",
              "      border-radius: 50%;\n",
              "      cursor: pointer;\n",
              "      display: none;\n",
              "      fill: #1967D2;\n",
              "      height: 32px;\n",
              "      padding: 0 0 0 0;\n",
              "      width: 32px;\n",
              "    }\n",
              "\n",
              "    .colab-df-convert:hover {\n",
              "      background-color: #E2EBFA;\n",
              "      box-shadow: 0px 1px 2px rgba(60, 64, 67, 0.3), 0px 1px 3px 1px rgba(60, 64, 67, 0.15);\n",
              "      fill: #174EA6;\n",
              "    }\n",
              "\n",
              "    .colab-df-buttons div {\n",
              "      margin-bottom: 4px;\n",
              "    }\n",
              "\n",
              "    [theme=dark] .colab-df-convert {\n",
              "      background-color: #3B4455;\n",
              "      fill: #D2E3FC;\n",
              "    }\n",
              "\n",
              "    [theme=dark] .colab-df-convert:hover {\n",
              "      background-color: #434B5C;\n",
              "      box-shadow: 0px 1px 3px 1px rgba(0, 0, 0, 0.15);\n",
              "      filter: drop-shadow(0px 1px 2px rgba(0, 0, 0, 0.3));\n",
              "      fill: #FFFFFF;\n",
              "    }\n",
              "  </style>\n",
              "\n",
              "    <script>\n",
              "      const buttonEl =\n",
              "        document.querySelector('#df-44df0a54-17ce-448b-8c00-c46e89a2e522 button.colab-df-convert');\n",
              "      buttonEl.style.display =\n",
              "        google.colab.kernel.accessAllowed ? 'block' : 'none';\n",
              "\n",
              "      async function convertToInteractive(key) {\n",
              "        const element = document.querySelector('#df-44df0a54-17ce-448b-8c00-c46e89a2e522');\n",
              "        const dataTable =\n",
              "          await google.colab.kernel.invokeFunction('convertToInteractive',\n",
              "                                                    [key], {});\n",
              "        if (!dataTable) return;\n",
              "\n",
              "        const docLinkHtml = 'Like what you see? Visit the ' +\n",
              "          '<a target=\"_blank\" href=https://colab.research.google.com/notebooks/data_table.ipynb>data table notebook</a>'\n",
              "          + ' to learn more about interactive tables.';\n",
              "        element.innerHTML = '';\n",
              "        dataTable['output_type'] = 'display_data';\n",
              "        await google.colab.output.renderOutput(dataTable, element);\n",
              "        const docLink = document.createElement('div');\n",
              "        docLink.innerHTML = docLinkHtml;\n",
              "        element.appendChild(docLink);\n",
              "      }\n",
              "    </script>\n",
              "  </div>\n",
              "\n",
              "\n",
              "    <div id=\"df-e39d20ba-2231-42f4-894a-fcd0e8576288\">\n",
              "      <button class=\"colab-df-quickchart\" onclick=\"quickchart('df-e39d20ba-2231-42f4-894a-fcd0e8576288')\"\n",
              "                title=\"Suggest charts\"\n",
              "                style=\"display:none;\">\n",
              "\n",
              "<svg xmlns=\"http://www.w3.org/2000/svg\" height=\"24px\"viewBox=\"0 0 24 24\"\n",
              "     width=\"24px\">\n",
              "    <g>\n",
              "        <path d=\"M19 3H5c-1.1 0-2 .9-2 2v14c0 1.1.9 2 2 2h14c1.1 0 2-.9 2-2V5c0-1.1-.9-2-2-2zM9 17H7v-7h2v7zm4 0h-2V7h2v10zm4 0h-2v-4h2v4z\"/>\n",
              "    </g>\n",
              "</svg>\n",
              "      </button>\n",
              "\n",
              "<style>\n",
              "  .colab-df-quickchart {\n",
              "      --bg-color: #E8F0FE;\n",
              "      --fill-color: #1967D2;\n",
              "      --hover-bg-color: #E2EBFA;\n",
              "      --hover-fill-color: #174EA6;\n",
              "      --disabled-fill-color: #AAA;\n",
              "      --disabled-bg-color: #DDD;\n",
              "  }\n",
              "\n",
              "  [theme=dark] .colab-df-quickchart {\n",
              "      --bg-color: #3B4455;\n",
              "      --fill-color: #D2E3FC;\n",
              "      --hover-bg-color: #434B5C;\n",
              "      --hover-fill-color: #FFFFFF;\n",
              "      --disabled-bg-color: #3B4455;\n",
              "      --disabled-fill-color: #666;\n",
              "  }\n",
              "\n",
              "  .colab-df-quickchart {\n",
              "    background-color: var(--bg-color);\n",
              "    border: none;\n",
              "    border-radius: 50%;\n",
              "    cursor: pointer;\n",
              "    display: none;\n",
              "    fill: var(--fill-color);\n",
              "    height: 32px;\n",
              "    padding: 0;\n",
              "    width: 32px;\n",
              "  }\n",
              "\n",
              "  .colab-df-quickchart:hover {\n",
              "    background-color: var(--hover-bg-color);\n",
              "    box-shadow: 0 1px 2px rgba(60, 64, 67, 0.3), 0 1px 3px 1px rgba(60, 64, 67, 0.15);\n",
              "    fill: var(--button-hover-fill-color);\n",
              "  }\n",
              "\n",
              "  .colab-df-quickchart-complete:disabled,\n",
              "  .colab-df-quickchart-complete:disabled:hover {\n",
              "    background-color: var(--disabled-bg-color);\n",
              "    fill: var(--disabled-fill-color);\n",
              "    box-shadow: none;\n",
              "  }\n",
              "\n",
              "  .colab-df-spinner {\n",
              "    border: 2px solid var(--fill-color);\n",
              "    border-color: transparent;\n",
              "    border-bottom-color: var(--fill-color);\n",
              "    animation:\n",
              "      spin 1s steps(1) infinite;\n",
              "  }\n",
              "\n",
              "  @keyframes spin {\n",
              "    0% {\n",
              "      border-color: transparent;\n",
              "      border-bottom-color: var(--fill-color);\n",
              "      border-left-color: var(--fill-color);\n",
              "    }\n",
              "    20% {\n",
              "      border-color: transparent;\n",
              "      border-left-color: var(--fill-color);\n",
              "      border-top-color: var(--fill-color);\n",
              "    }\n",
              "    30% {\n",
              "      border-color: transparent;\n",
              "      border-left-color: var(--fill-color);\n",
              "      border-top-color: var(--fill-color);\n",
              "      border-right-color: var(--fill-color);\n",
              "    }\n",
              "    40% {\n",
              "      border-color: transparent;\n",
              "      border-right-color: var(--fill-color);\n",
              "      border-top-color: var(--fill-color);\n",
              "    }\n",
              "    60% {\n",
              "      border-color: transparent;\n",
              "      border-right-color: var(--fill-color);\n",
              "    }\n",
              "    80% {\n",
              "      border-color: transparent;\n",
              "      border-right-color: var(--fill-color);\n",
              "      border-bottom-color: var(--fill-color);\n",
              "    }\n",
              "    90% {\n",
              "      border-color: transparent;\n",
              "      border-bottom-color: var(--fill-color);\n",
              "    }\n",
              "  }\n",
              "</style>\n",
              "\n",
              "      <script>\n",
              "        async function quickchart(key) {\n",
              "          const quickchartButtonEl =\n",
              "            document.querySelector('#' + key + ' button');\n",
              "          quickchartButtonEl.disabled = true;  // To prevent multiple clicks.\n",
              "          quickchartButtonEl.classList.add('colab-df-spinner');\n",
              "          try {\n",
              "            const charts = await google.colab.kernel.invokeFunction(\n",
              "                'suggestCharts', [key], {});\n",
              "          } catch (error) {\n",
              "            console.error('Error during call to suggestCharts:', error);\n",
              "          }\n",
              "          quickchartButtonEl.classList.remove('colab-df-spinner');\n",
              "          quickchartButtonEl.classList.add('colab-df-quickchart-complete');\n",
              "        }\n",
              "        (() => {\n",
              "          let quickchartButtonEl =\n",
              "            document.querySelector('#df-e39d20ba-2231-42f4-894a-fcd0e8576288 button');\n",
              "          quickchartButtonEl.style.display =\n",
              "            google.colab.kernel.accessAllowed ? 'block' : 'none';\n",
              "        })();\n",
              "      </script>\n",
              "    </div>\n",
              "\n",
              "    </div>\n",
              "  </div>\n"
            ],
            "application/vnd.google.colaboratory.intrinsic+json": {
              "type": "dataframe",
              "summary": "{\n  \"name\": \"display(df\",\n  \"rows\": 5,\n  \"fields\": [\n    {\n      \"column\": \"datetime\",\n      \"properties\": {\n        \"dtype\": \"object\",\n        \"num_unique_values\": 5,\n        \"samples\": [\n          \"03-01-2015 02:00\",\n          \"03-01-2015 05:00\",\n          \"03-01-2015 03:00\"\n        ],\n        \"semantic_type\": \"\",\n        \"description\": \"\"\n      }\n    },\n    {\n      \"column\": \"nat_demand\",\n      \"properties\": {\n        \"dtype\": \"number\",\n        \"std\": 32.99599272695095,\n        \"min\": 889.9538,\n        \"max\": 970.345,\n        \"num_unique_values\": 5,\n        \"samples\": [\n          912.1755,\n          893.6865,\n          900.2688\n        ],\n        \"semantic_type\": \"\",\n        \"description\": \"\"\n      }\n    },\n    {\n      \"column\": \"T2M_toc\",\n      \"properties\": {\n        \"dtype\": \"number\",\n        \"std\": 0.04419760014421863,\n        \"min\": 25.86525879,\n        \"max\": 25.97384033,\n        \"num_unique_values\": 5,\n        \"samples\": [\n          25.89925537,\n          25.97384033,\n          25.93728027\n        ],\n        \"semantic_type\": \"\",\n        \"description\": \"\"\n      }\n    },\n    {\n      \"column\": \"QV2M_toc\",\n      \"properties\": {\n        \"dtype\": \"number\",\n        \"std\": 0.00016586247490406103,\n        \"min\": 0.018576382,\n        \"max\": 0.018981151,\n        \"num_unique_values\": 5,\n        \"samples\": [\n          0.018653292,\n          0.018981151,\n          0.01876786\n        ],\n        \"semantic_type\": \"\",\n        \"description\": \"\"\n      }\n    },\n    {\n      \"column\": \"TQL_toc\",\n      \"properties\": {\n        \"dtype\": \"number\",\n        \"std\": 0.0006444332319994838,\n        \"min\": 0.015480042,\n        \"max\": 0.017280579,\n        \"num_unique_values\": 5,\n        \"samples\": [\n          0.016418457,\n          0.017280579,\n          0.015480042\n        ],\n        \"semantic_type\": \"\",\n        \"description\": \"\"\n      }\n    },\n    {\n      \"column\": \"W2M_toc\",\n      \"properties\": {\n        \"dtype\": \"number\",\n        \"std\": 0.47987858756427315,\n        \"min\": 21.18608852,\n        \"max\": 22.45491088,\n        \"num_unique_values\": 5,\n        \"samples\": [\n          22.16694428,\n          21.18608852,\n          22.45491088\n        ],\n        \"semantic_type\": \"\",\n        \"description\": \"\"\n      }\n    },\n    {\n      \"column\": \"T2M_san\",\n      \"properties\": {\n        \"dtype\": \"number\",\n        \"std\": 0.15725163457737945,\n        \"min\": 23.07540283,\n        \"max\": 23.48244629,\n        \"num_unique_values\": 5,\n        \"samples\": [\n          23.39925537,\n          23.07540283,\n          23.34353027\n        ],\n        \"semantic_type\": \"\",\n        \"description\": \"\"\n      }\n    },\n    {\n      \"column\": \"QV2M_san\",\n      \"properties\": {\n        \"dtype\": \"number\",\n        \"std\": 9.19876055982549e-05,\n        \"min\": 0.017058544,\n        \"max\": 0.017271755,\n        \"num_unique_values\": 5,\n        \"samples\": [\n          0.017264742,\n          0.017058544,\n          0.017211463\n        ],\n        \"semantic_type\": \"\",\n        \"description\": \"\"\n      }\n    },\n    {\n      \"column\": \"TQL_san\",\n      \"properties\": {\n        \"dtype\": \"number\",\n        \"std\": 0.0005018339665220959,\n        \"min\": 0.001327038,\n        \"max\": 0.002598763,\n        \"num_unique_values\": 5,\n        \"samples\": [\n          0.001327038,\n          0.001729012,\n          0.001428127\n        ],\n        \"semantic_type\": \"\",\n        \"description\": \"\"\n      }\n    },\n    {\n      \"column\": \"W2M_san\",\n      \"properties\": {\n        \"dtype\": \"number\",\n        \"std\": 0.43710427229133614,\n        \"min\": 9.733588918,\n        \"max\": 10.87492379,\n        \"num_unique_values\": 5,\n        \"samples\": [\n          10.68151714,\n          9.733588918,\n          10.87492379\n        ],\n        \"semantic_type\": \"\",\n        \"description\": \"\"\n      }\n    },\n    {\n      \"column\": \"T2M_dav\",\n      \"properties\": {\n        \"dtype\": \"number\",\n        \"std\": 0.07038853332846874,\n        \"min\": 22.48165283,\n        \"max\": 22.66213379,\n        \"num_unique_values\": 5,\n        \"samples\": [\n          22.57894287,\n          22.48165283,\n          22.53103027\n        ],\n        \"semantic_type\": \"\",\n        \"description\": \"\"\n      }\n    },\n    {\n      \"column\": \"QV2M_dav\",\n      \"properties\": {\n        \"dtype\": \"number\",\n        \"std\": 4.0363640701751385e-05,\n        \"min\": 0.016455822,\n        \"max\": 0.016562222,\n        \"num_unique_values\": 5,\n        \"samples\": [\n          0.016509432,\n          0.016455822,\n          0.016479041\n        ],\n        \"semantic_type\": \"\",\n        \"description\": \"\"\n      }\n    },\n    {\n      \"column\": \"TQL_dav\",\n      \"properties\": {\n        \"dtype\": \"number\",\n        \"std\": 0.013172735014598418,\n        \"min\": 0.06436157,\n        \"max\": 0.09609985,\n        \"num_unique_values\": 5,\n        \"samples\": [\n          0.087646484,\n          0.06436157,\n          0.07873535\n        ],\n        \"semantic_type\": \"\",\n        \"description\": \"\"\n      }\n    },\n    {\n      \"column\": \"W2M_dav\",\n      \"properties\": {\n        \"dtype\": \"number\",\n        \"std\": 0.21915936523914245,\n        \"min\": 5.364147952,\n        \"max\": 5.883621114,\n        \"num_unique_values\": 5,\n        \"samples\": [\n          5.572471346,\n          5.611723559,\n          5.871183745\n        ],\n        \"semantic_type\": \"\",\n        \"description\": \"\"\n      }\n    },\n    {\n      \"column\": \"Holiday_ID\",\n      \"properties\": {\n        \"dtype\": \"number\",\n        \"std\": 0,\n        \"min\": 0,\n        \"max\": 0,\n        \"num_unique_values\": 1,\n        \"samples\": [\n          0\n        ],\n        \"semantic_type\": \"\",\n        \"description\": \"\"\n      }\n    },\n    {\n      \"column\": \"holiday\",\n      \"properties\": {\n        \"dtype\": \"number\",\n        \"std\": 0,\n        \"min\": 0,\n        \"max\": 0,\n        \"num_unique_values\": 1,\n        \"samples\": [\n          0\n        ],\n        \"semantic_type\": \"\",\n        \"description\": \"\"\n      }\n    },\n    {\n      \"column\": \"school\",\n      \"properties\": {\n        \"dtype\": \"number\",\n        \"std\": 0,\n        \"min\": 0,\n        \"max\": 0,\n        \"num_unique_values\": 1,\n        \"samples\": [\n          0\n        ],\n        \"semantic_type\": \"\",\n        \"description\": \"\"\n      }\n    }\n  ]\n}"
            }
          },
          "metadata": {}
        },
        {
          "output_type": "stream",
          "name": "stdout",
          "text": [
            "<class 'pandas.core.frame.DataFrame'>\n",
            "RangeIndex: 43775 entries, 0 to 43774\n",
            "Data columns (total 17 columns):\n",
            " #   Column      Non-Null Count  Dtype  \n",
            "---  ------      --------------  -----  \n",
            " 0   datetime    43775 non-null  object \n",
            " 1   nat_demand  43775 non-null  float64\n",
            " 2   T2M_toc     43775 non-null  float64\n",
            " 3   QV2M_toc    43775 non-null  float64\n",
            " 4   TQL_toc     43775 non-null  float64\n",
            " 5   W2M_toc     43775 non-null  float64\n",
            " 6   T2M_san     43775 non-null  float64\n",
            " 7   QV2M_san    43775 non-null  float64\n",
            " 8   TQL_san     43775 non-null  float64\n",
            " 9   W2M_san     43775 non-null  float64\n",
            " 10  T2M_dav     43775 non-null  float64\n",
            " 11  QV2M_dav    43775 non-null  float64\n",
            " 12  TQL_dav     43775 non-null  float64\n",
            " 13  W2M_dav     43775 non-null  float64\n",
            " 14  Holiday_ID  43775 non-null  int64  \n",
            " 15  holiday     43775 non-null  int64  \n",
            " 16  school      43775 non-null  int64  \n",
            "dtypes: float64(13), int64(3), object(1)\n",
            "memory usage: 5.7+ MB\n"
          ]
        },
        {
          "output_type": "display_data",
          "data": {
            "text/plain": [
              "None"
            ]
          },
          "metadata": {}
        },
        {
          "output_type": "display_data",
          "data": {
            "text/plain": [
              "         nat_demand       T2M_toc      QV2M_toc       TQL_toc       W2M_toc  \\\n",
              "count  43775.000000  43775.000000  43775.000000  43775.000000  43775.000000   \n",
              "mean    1184.102195     27.381070      0.018372      0.082358     13.018476   \n",
              "std      193.512875      1.652179      0.001587      0.065835      7.151448   \n",
              "min       85.192500     22.953455      0.012054      0.000000      0.008979   \n",
              "25%     1017.453350     26.168436      0.017337      0.028423      7.387169   \n",
              "50%     1173.251500     27.109338      0.018670      0.068237     11.767408   \n",
              "75%     1332.279950     28.521463      0.019549      0.120148     18.038599   \n",
              "max     1721.515700     35.039575      0.022690      0.521240     39.229726   \n",
              "\n",
              "            T2M_san      QV2M_san       TQL_san       W2M_san       T2M_dav  \\\n",
              "count  43775.000000  43775.000000  43775.000000  43775.000000  43775.000000   \n",
              "mean      26.869752      0.017909      0.109571      6.934124     24.678938   \n",
              "std        2.960669      0.001853      0.086249      4.055238      2.374089   \n",
              "min       19.765222      0.010385      0.000009      0.060431     19.933740   \n",
              "25%       24.767938      0.016707      0.040314      3.912895     22.951654   \n",
              "50%       26.141260      0.018418      0.089752      5.888003     23.981989   \n",
              "75%       28.642450      0.019265      0.161377      9.151058     26.174570   \n",
              "max       39.063440      0.022011      0.484985     24.483937     34.216211   \n",
              "\n",
              "           QV2M_dav       TQL_dav       W2M_dav    Holiday_ID       holiday  \\\n",
              "count  43775.000000  43775.000000  43775.000000  43775.000000  43775.000000   \n",
              "mean       0.016912      0.148480      3.562928      0.730828      0.062501   \n",
              "std        0.001566      0.088259      1.709116      3.244740      0.242067   \n",
              "min        0.009655      0.000051      0.015497      0.000000      0.000000   \n",
              "25%        0.015867      0.079285      2.301747      0.000000      0.000000   \n",
              "50%        0.017224      0.134277      3.408653      0.000000      0.000000   \n",
              "75%        0.018092      0.204773      4.652970      0.000000      0.000000   \n",
              "max        0.020958      0.477783     10.288902     22.000000      1.000000   \n",
              "\n",
              "             school  \n",
              "count  43775.000000  \n",
              "mean       0.739600  \n",
              "std        0.438858  \n",
              "min        0.000000  \n",
              "25%        0.000000  \n",
              "50%        1.000000  \n",
              "75%        1.000000  \n",
              "max        1.000000  "
            ],
            "text/html": [
              "\n",
              "  <div id=\"df-66d976c5-03ed-468a-90b9-fd5cedcfac3c\" class=\"colab-df-container\">\n",
              "    <div>\n",
              "<style scoped>\n",
              "    .dataframe tbody tr th:only-of-type {\n",
              "        vertical-align: middle;\n",
              "    }\n",
              "\n",
              "    .dataframe tbody tr th {\n",
              "        vertical-align: top;\n",
              "    }\n",
              "\n",
              "    .dataframe thead th {\n",
              "        text-align: right;\n",
              "    }\n",
              "</style>\n",
              "<table border=\"1\" class=\"dataframe\">\n",
              "  <thead>\n",
              "    <tr style=\"text-align: right;\">\n",
              "      <th></th>\n",
              "      <th>nat_demand</th>\n",
              "      <th>T2M_toc</th>\n",
              "      <th>QV2M_toc</th>\n",
              "      <th>TQL_toc</th>\n",
              "      <th>W2M_toc</th>\n",
              "      <th>T2M_san</th>\n",
              "      <th>QV2M_san</th>\n",
              "      <th>TQL_san</th>\n",
              "      <th>W2M_san</th>\n",
              "      <th>T2M_dav</th>\n",
              "      <th>QV2M_dav</th>\n",
              "      <th>TQL_dav</th>\n",
              "      <th>W2M_dav</th>\n",
              "      <th>Holiday_ID</th>\n",
              "      <th>holiday</th>\n",
              "      <th>school</th>\n",
              "    </tr>\n",
              "  </thead>\n",
              "  <tbody>\n",
              "    <tr>\n",
              "      <th>count</th>\n",
              "      <td>43775.000000</td>\n",
              "      <td>43775.000000</td>\n",
              "      <td>43775.000000</td>\n",
              "      <td>43775.000000</td>\n",
              "      <td>43775.000000</td>\n",
              "      <td>43775.000000</td>\n",
              "      <td>43775.000000</td>\n",
              "      <td>43775.000000</td>\n",
              "      <td>43775.000000</td>\n",
              "      <td>43775.000000</td>\n",
              "      <td>43775.000000</td>\n",
              "      <td>43775.000000</td>\n",
              "      <td>43775.000000</td>\n",
              "      <td>43775.000000</td>\n",
              "      <td>43775.000000</td>\n",
              "      <td>43775.000000</td>\n",
              "    </tr>\n",
              "    <tr>\n",
              "      <th>mean</th>\n",
              "      <td>1184.102195</td>\n",
              "      <td>27.381070</td>\n",
              "      <td>0.018372</td>\n",
              "      <td>0.082358</td>\n",
              "      <td>13.018476</td>\n",
              "      <td>26.869752</td>\n",
              "      <td>0.017909</td>\n",
              "      <td>0.109571</td>\n",
              "      <td>6.934124</td>\n",
              "      <td>24.678938</td>\n",
              "      <td>0.016912</td>\n",
              "      <td>0.148480</td>\n",
              "      <td>3.562928</td>\n",
              "      <td>0.730828</td>\n",
              "      <td>0.062501</td>\n",
              "      <td>0.739600</td>\n",
              "    </tr>\n",
              "    <tr>\n",
              "      <th>std</th>\n",
              "      <td>193.512875</td>\n",
              "      <td>1.652179</td>\n",
              "      <td>0.001587</td>\n",
              "      <td>0.065835</td>\n",
              "      <td>7.151448</td>\n",
              "      <td>2.960669</td>\n",
              "      <td>0.001853</td>\n",
              "      <td>0.086249</td>\n",
              "      <td>4.055238</td>\n",
              "      <td>2.374089</td>\n",
              "      <td>0.001566</td>\n",
              "      <td>0.088259</td>\n",
              "      <td>1.709116</td>\n",
              "      <td>3.244740</td>\n",
              "      <td>0.242067</td>\n",
              "      <td>0.438858</td>\n",
              "    </tr>\n",
              "    <tr>\n",
              "      <th>min</th>\n",
              "      <td>85.192500</td>\n",
              "      <td>22.953455</td>\n",
              "      <td>0.012054</td>\n",
              "      <td>0.000000</td>\n",
              "      <td>0.008979</td>\n",
              "      <td>19.765222</td>\n",
              "      <td>0.010385</td>\n",
              "      <td>0.000009</td>\n",
              "      <td>0.060431</td>\n",
              "      <td>19.933740</td>\n",
              "      <td>0.009655</td>\n",
              "      <td>0.000051</td>\n",
              "      <td>0.015497</td>\n",
              "      <td>0.000000</td>\n",
              "      <td>0.000000</td>\n",
              "      <td>0.000000</td>\n",
              "    </tr>\n",
              "    <tr>\n",
              "      <th>25%</th>\n",
              "      <td>1017.453350</td>\n",
              "      <td>26.168436</td>\n",
              "      <td>0.017337</td>\n",
              "      <td>0.028423</td>\n",
              "      <td>7.387169</td>\n",
              "      <td>24.767938</td>\n",
              "      <td>0.016707</td>\n",
              "      <td>0.040314</td>\n",
              "      <td>3.912895</td>\n",
              "      <td>22.951654</td>\n",
              "      <td>0.015867</td>\n",
              "      <td>0.079285</td>\n",
              "      <td>2.301747</td>\n",
              "      <td>0.000000</td>\n",
              "      <td>0.000000</td>\n",
              "      <td>0.000000</td>\n",
              "    </tr>\n",
              "    <tr>\n",
              "      <th>50%</th>\n",
              "      <td>1173.251500</td>\n",
              "      <td>27.109338</td>\n",
              "      <td>0.018670</td>\n",
              "      <td>0.068237</td>\n",
              "      <td>11.767408</td>\n",
              "      <td>26.141260</td>\n",
              "      <td>0.018418</td>\n",
              "      <td>0.089752</td>\n",
              "      <td>5.888003</td>\n",
              "      <td>23.981989</td>\n",
              "      <td>0.017224</td>\n",
              "      <td>0.134277</td>\n",
              "      <td>3.408653</td>\n",
              "      <td>0.000000</td>\n",
              "      <td>0.000000</td>\n",
              "      <td>1.000000</td>\n",
              "    </tr>\n",
              "    <tr>\n",
              "      <th>75%</th>\n",
              "      <td>1332.279950</td>\n",
              "      <td>28.521463</td>\n",
              "      <td>0.019549</td>\n",
              "      <td>0.120148</td>\n",
              "      <td>18.038599</td>\n",
              "      <td>28.642450</td>\n",
              "      <td>0.019265</td>\n",
              "      <td>0.161377</td>\n",
              "      <td>9.151058</td>\n",
              "      <td>26.174570</td>\n",
              "      <td>0.018092</td>\n",
              "      <td>0.204773</td>\n",
              "      <td>4.652970</td>\n",
              "      <td>0.000000</td>\n",
              "      <td>0.000000</td>\n",
              "      <td>1.000000</td>\n",
              "    </tr>\n",
              "    <tr>\n",
              "      <th>max</th>\n",
              "      <td>1721.515700</td>\n",
              "      <td>35.039575</td>\n",
              "      <td>0.022690</td>\n",
              "      <td>0.521240</td>\n",
              "      <td>39.229726</td>\n",
              "      <td>39.063440</td>\n",
              "      <td>0.022011</td>\n",
              "      <td>0.484985</td>\n",
              "      <td>24.483937</td>\n",
              "      <td>34.216211</td>\n",
              "      <td>0.020958</td>\n",
              "      <td>0.477783</td>\n",
              "      <td>10.288902</td>\n",
              "      <td>22.000000</td>\n",
              "      <td>1.000000</td>\n",
              "      <td>1.000000</td>\n",
              "    </tr>\n",
              "  </tbody>\n",
              "</table>\n",
              "</div>\n",
              "    <div class=\"colab-df-buttons\">\n",
              "\n",
              "  <div class=\"colab-df-container\">\n",
              "    <button class=\"colab-df-convert\" onclick=\"convertToInteractive('df-66d976c5-03ed-468a-90b9-fd5cedcfac3c')\"\n",
              "            title=\"Convert this dataframe to an interactive table.\"\n",
              "            style=\"display:none;\">\n",
              "\n",
              "  <svg xmlns=\"http://www.w3.org/2000/svg\" height=\"24px\" viewBox=\"0 -960 960 960\">\n",
              "    <path d=\"M120-120v-720h720v720H120Zm60-500h600v-160H180v160Zm220 220h160v-160H400v160Zm0 220h160v-160H400v160ZM180-400h160v-160H180v160Zm440 0h160v-160H620v160ZM180-180h160v-160H180v160Zm440 0h160v-160H620v160Z\"/>\n",
              "  </svg>\n",
              "    </button>\n",
              "\n",
              "  <style>\n",
              "    .colab-df-container {\n",
              "      display:flex;\n",
              "      gap: 12px;\n",
              "    }\n",
              "\n",
              "    .colab-df-convert {\n",
              "      background-color: #E8F0FE;\n",
              "      border: none;\n",
              "      border-radius: 50%;\n",
              "      cursor: pointer;\n",
              "      display: none;\n",
              "      fill: #1967D2;\n",
              "      height: 32px;\n",
              "      padding: 0 0 0 0;\n",
              "      width: 32px;\n",
              "    }\n",
              "\n",
              "    .colab-df-convert:hover {\n",
              "      background-color: #E2EBFA;\n",
              "      box-shadow: 0px 1px 2px rgba(60, 64, 67, 0.3), 0px 1px 3px 1px rgba(60, 64, 67, 0.15);\n",
              "      fill: #174EA6;\n",
              "    }\n",
              "\n",
              "    .colab-df-buttons div {\n",
              "      margin-bottom: 4px;\n",
              "    }\n",
              "\n",
              "    [theme=dark] .colab-df-convert {\n",
              "      background-color: #3B4455;\n",
              "      fill: #D2E3FC;\n",
              "    }\n",
              "\n",
              "    [theme=dark] .colab-df-convert:hover {\n",
              "      background-color: #434B5C;\n",
              "      box-shadow: 0px 1px 3px 1px rgba(0, 0, 0, 0.15);\n",
              "      filter: drop-shadow(0px 1px 2px rgba(0, 0, 0, 0.3));\n",
              "      fill: #FFFFFF;\n",
              "    }\n",
              "  </style>\n",
              "\n",
              "    <script>\n",
              "      const buttonEl =\n",
              "        document.querySelector('#df-66d976c5-03ed-468a-90b9-fd5cedcfac3c button.colab-df-convert');\n",
              "      buttonEl.style.display =\n",
              "        google.colab.kernel.accessAllowed ? 'block' : 'none';\n",
              "\n",
              "      async function convertToInteractive(key) {\n",
              "        const element = document.querySelector('#df-66d976c5-03ed-468a-90b9-fd5cedcfac3c');\n",
              "        const dataTable =\n",
              "          await google.colab.kernel.invokeFunction('convertToInteractive',\n",
              "                                                    [key], {});\n",
              "        if (!dataTable) return;\n",
              "\n",
              "        const docLinkHtml = 'Like what you see? Visit the ' +\n",
              "          '<a target=\"_blank\" href=https://colab.research.google.com/notebooks/data_table.ipynb>data table notebook</a>'\n",
              "          + ' to learn more about interactive tables.';\n",
              "        element.innerHTML = '';\n",
              "        dataTable['output_type'] = 'display_data';\n",
              "        await google.colab.output.renderOutput(dataTable, element);\n",
              "        const docLink = document.createElement('div');\n",
              "        docLink.innerHTML = docLinkHtml;\n",
              "        element.appendChild(docLink);\n",
              "      }\n",
              "    </script>\n",
              "  </div>\n",
              "\n",
              "\n",
              "    <div id=\"df-48a50d48-d4e1-4127-9c6e-2963056384ea\">\n",
              "      <button class=\"colab-df-quickchart\" onclick=\"quickchart('df-48a50d48-d4e1-4127-9c6e-2963056384ea')\"\n",
              "                title=\"Suggest charts\"\n",
              "                style=\"display:none;\">\n",
              "\n",
              "<svg xmlns=\"http://www.w3.org/2000/svg\" height=\"24px\"viewBox=\"0 0 24 24\"\n",
              "     width=\"24px\">\n",
              "    <g>\n",
              "        <path d=\"M19 3H5c-1.1 0-2 .9-2 2v14c0 1.1.9 2 2 2h14c1.1 0 2-.9 2-2V5c0-1.1-.9-2-2-2zM9 17H7v-7h2v7zm4 0h-2V7h2v10zm4 0h-2v-4h2v4z\"/>\n",
              "    </g>\n",
              "</svg>\n",
              "      </button>\n",
              "\n",
              "<style>\n",
              "  .colab-df-quickchart {\n",
              "      --bg-color: #E8F0FE;\n",
              "      --fill-color: #1967D2;\n",
              "      --hover-bg-color: #E2EBFA;\n",
              "      --hover-fill-color: #174EA6;\n",
              "      --disabled-fill-color: #AAA;\n",
              "      --disabled-bg-color: #DDD;\n",
              "  }\n",
              "\n",
              "  [theme=dark] .colab-df-quickchart {\n",
              "      --bg-color: #3B4455;\n",
              "      --fill-color: #D2E3FC;\n",
              "      --hover-bg-color: #434B5C;\n",
              "      --hover-fill-color: #FFFFFF;\n",
              "      --disabled-bg-color: #3B4455;\n",
              "      --disabled-fill-color: #666;\n",
              "  }\n",
              "\n",
              "  .colab-df-quickchart {\n",
              "    background-color: var(--bg-color);\n",
              "    border: none;\n",
              "    border-radius: 50%;\n",
              "    cursor: pointer;\n",
              "    display: none;\n",
              "    fill: var(--fill-color);\n",
              "    height: 32px;\n",
              "    padding: 0;\n",
              "    width: 32px;\n",
              "  }\n",
              "\n",
              "  .colab-df-quickchart:hover {\n",
              "    background-color: var(--hover-bg-color);\n",
              "    box-shadow: 0 1px 2px rgba(60, 64, 67, 0.3), 0 1px 3px 1px rgba(60, 64, 67, 0.15);\n",
              "    fill: var(--button-hover-fill-color);\n",
              "  }\n",
              "\n",
              "  .colab-df-quickchart-complete:disabled,\n",
              "  .colab-df-quickchart-complete:disabled:hover {\n",
              "    background-color: var(--disabled-bg-color);\n",
              "    fill: var(--disabled-fill-color);\n",
              "    box-shadow: none;\n",
              "  }\n",
              "\n",
              "  .colab-df-spinner {\n",
              "    border: 2px solid var(--fill-color);\n",
              "    border-color: transparent;\n",
              "    border-bottom-color: var(--fill-color);\n",
              "    animation:\n",
              "      spin 1s steps(1) infinite;\n",
              "  }\n",
              "\n",
              "  @keyframes spin {\n",
              "    0% {\n",
              "      border-color: transparent;\n",
              "      border-bottom-color: var(--fill-color);\n",
              "      border-left-color: var(--fill-color);\n",
              "    }\n",
              "    20% {\n",
              "      border-color: transparent;\n",
              "      border-left-color: var(--fill-color);\n",
              "      border-top-color: var(--fill-color);\n",
              "    }\n",
              "    30% {\n",
              "      border-color: transparent;\n",
              "      border-left-color: var(--fill-color);\n",
              "      border-top-color: var(--fill-color);\n",
              "      border-right-color: var(--fill-color);\n",
              "    }\n",
              "    40% {\n",
              "      border-color: transparent;\n",
              "      border-right-color: var(--fill-color);\n",
              "      border-top-color: var(--fill-color);\n",
              "    }\n",
              "    60% {\n",
              "      border-color: transparent;\n",
              "      border-right-color: var(--fill-color);\n",
              "    }\n",
              "    80% {\n",
              "      border-color: transparent;\n",
              "      border-right-color: var(--fill-color);\n",
              "      border-bottom-color: var(--fill-color);\n",
              "    }\n",
              "    90% {\n",
              "      border-color: transparent;\n",
              "      border-bottom-color: var(--fill-color);\n",
              "    }\n",
              "  }\n",
              "</style>\n",
              "\n",
              "      <script>\n",
              "        async function quickchart(key) {\n",
              "          const quickchartButtonEl =\n",
              "            document.querySelector('#' + key + ' button');\n",
              "          quickchartButtonEl.disabled = true;  // To prevent multiple clicks.\n",
              "          quickchartButtonEl.classList.add('colab-df-spinner');\n",
              "          try {\n",
              "            const charts = await google.colab.kernel.invokeFunction(\n",
              "                'suggestCharts', [key], {});\n",
              "          } catch (error) {\n",
              "            console.error('Error during call to suggestCharts:', error);\n",
              "          }\n",
              "          quickchartButtonEl.classList.remove('colab-df-spinner');\n",
              "          quickchartButtonEl.classList.add('colab-df-quickchart-complete');\n",
              "        }\n",
              "        (() => {\n",
              "          let quickchartButtonEl =\n",
              "            document.querySelector('#df-48a50d48-d4e1-4127-9c6e-2963056384ea button');\n",
              "          quickchartButtonEl.style.display =\n",
              "            google.colab.kernel.accessAllowed ? 'block' : 'none';\n",
              "        })();\n",
              "      </script>\n",
              "    </div>\n",
              "\n",
              "    </div>\n",
              "  </div>\n"
            ],
            "application/vnd.google.colaboratory.intrinsic+json": {
              "type": "dataframe",
              "summary": "{\n  \"name\": \"display(df\",\n  \"rows\": 8,\n  \"fields\": [\n    {\n      \"column\": \"nat_demand\",\n      \"properties\": {\n        \"dtype\": \"number\",\n        \"std\": 15148.266360335036,\n        \"min\": 85.1925,\n        \"max\": 43775.0,\n        \"num_unique_values\": 8,\n        \"samples\": [\n          1184.1021949679885,\n          1173.2515,\n          43775.0\n        ],\n        \"semantic_type\": \"\",\n        \"description\": \"\"\n      }\n    },\n    {\n      \"column\": \"T2M_toc\",\n      \"properties\": {\n        \"dtype\": \"number\",\n        \"std\": 15468.275784151125,\n        \"min\": 1.6521791625412758,\n        \"max\": 43775.0,\n        \"num_unique_values\": 8,\n        \"samples\": [\n          27.38106982538846,\n          27.10933838,\n          43775.0\n        ],\n        \"semantic_type\": \"\",\n        \"description\": \"\"\n      }\n    },\n    {\n      \"column\": \"QV2M_toc\",\n      \"properties\": {\n        \"dtype\": \"number\",\n        \"std\": 15476.794104281355,\n        \"min\": 0.0015874794600322269,\n        \"max\": 43775.0,\n        \"num_unique_values\": 8,\n        \"samples\": [\n          0.018371639344740148,\n          0.018670233,\n          43775.0\n        ],\n        \"semantic_type\": \"\",\n        \"description\": \"\"\n      }\n    },\n    {\n      \"column\": \"TQL_toc\",\n      \"properties\": {\n        \"dtype\": \"number\",\n        \"std\": 15476.75491216543,\n        \"min\": 0.0,\n        \"max\": 43775.0,\n        \"num_unique_values\": 8,\n        \"samples\": [\n          0.08235756964890291,\n          0.068237305,\n          43775.0\n        ],\n        \"semantic_type\": \"\",\n        \"description\": \"\"\n      }\n    },\n    {\n      \"column\": \"W2M_toc\",\n      \"properties\": {\n        \"dtype\": \"number\",\n        \"std\": 15471.924907566961,\n        \"min\": 0.00897889,\n        \"max\": 43775.0,\n        \"num_unique_values\": 8,\n        \"samples\": [\n          13.018475657737751,\n          11.76740818,\n          43775.0\n        ],\n        \"semantic_type\": \"\",\n        \"description\": \"\"\n      }\n    },\n    {\n      \"column\": \"T2M_san\",\n      \"properties\": {\n        \"dtype\": \"number\",\n        \"std\": 15468.307084388081,\n        \"min\": 2.9606691600867094,\n        \"max\": 43775.0,\n        \"num_unique_values\": 8,\n        \"samples\": [\n          26.869752185468418,\n          26.14125977,\n          43775.0\n        ],\n        \"semantic_type\": \"\",\n        \"description\": \"\"\n      }\n    },\n    {\n      \"column\": \"QV2M_san\",\n      \"properties\": {\n        \"dtype\": \"number\",\n        \"std\": 15476.79429180982,\n        \"min\": 0.001852557454750571,\n        \"max\": 43775.0,\n        \"num_unique_values\": 8,\n        \"samples\": [\n          0.017908507730508283,\n          0.018418087,\n          43775.0\n        ],\n        \"semantic_type\": \"\",\n        \"description\": \"\"\n      }\n    },\n    {\n      \"column\": \"TQL_san\",\n      \"properties\": {\n        \"dtype\": \"number\",\n        \"std\": 15476.750567574602,\n        \"min\": 8.9e-06,\n        \"max\": 43775.0,\n        \"num_unique_values\": 8,\n        \"samples\": [\n          0.10957073671936036,\n          0.0897522,\n          43775.0\n        ],\n        \"semantic_type\": \"\",\n        \"description\": \"\"\n      }\n    },\n    {\n      \"column\": \"W2M_san\",\n      \"properties\": {\n        \"dtype\": \"number\",\n        \"std\": 15474.049455138767,\n        \"min\": 0.060430778,\n        \"max\": 43775.0,\n        \"num_unique_values\": 8,\n        \"samples\": [\n          6.9341240607740025,\n          5.888003081,\n          43775.0\n        ],\n        \"semantic_type\": \"\",\n        \"description\": \"\"\n      }\n    },\n    {\n      \"column\": \"T2M_dav\",\n      \"properties\": {\n        \"dtype\": \"number\",\n        \"std\": 15469.008404371873,\n        \"min\": 2.374089306053918,\n        \"max\": 43775.0,\n        \"num_unique_values\": 8,\n        \"samples\": [\n          24.67893782938618,\n          23.98198853,\n          43775.0\n        ],\n        \"semantic_type\": \"\",\n        \"description\": \"\"\n      }\n    },\n    {\n      \"column\": \"QV2M_dav\",\n      \"properties\": {\n        \"dtype\": \"number\",\n        \"std\": 15476.794608634602,\n        \"min\": 0.0015659909302084111,\n        \"max\": 43775.0,\n        \"num_unique_values\": 8,\n        \"samples\": [\n          0.01691162089870931,\n          0.017223734,\n          43775.0\n        ],\n        \"semantic_type\": \"\",\n        \"description\": \"\"\n      }\n    },\n    {\n      \"column\": \"TQL_dav\",\n      \"properties\": {\n        \"dtype\": \"number\",\n        \"std\": 15476.742453366085,\n        \"min\": 5.15e-05,\n        \"max\": 43775.0,\n        \"num_unique_values\": 8,\n        \"samples\": [\n          0.14848004007001717,\n          0.13427734,\n          43775.0\n        ],\n        \"semantic_type\": \"\",\n        \"description\": \"\"\n      }\n    },\n    {\n      \"column\": \"W2M_dav\",\n      \"properties\": {\n        \"dtype\": \"number\",\n        \"std\": 15475.489809840805,\n        \"min\": 0.015497407,\n        \"max\": 43775.0,\n        \"num_unique_values\": 8,\n        \"samples\": [\n          3.562927907243518,\n          3.408652604,\n          43775.0\n        ],\n        \"semantic_type\": \"\",\n        \"description\": \"\"\n      }\n    },\n    {\n      \"column\": \"Holiday_ID\",\n      \"properties\": {\n        \"dtype\": \"number\",\n        \"std\": 15475.489549038843,\n        \"min\": 0.0,\n        \"max\": 43775.0,\n        \"num_unique_values\": 5,\n        \"samples\": [\n          0.7308280982295831,\n          22.0,\n          3.2447396283306174\n        ],\n        \"semantic_type\": \"\",\n        \"description\": \"\"\n      }\n    },\n    {\n      \"column\": \"holiday\",\n      \"properties\": {\n        \"dtype\": \"number\",\n        \"std\": 15476.733786356184,\n        \"min\": 0.0,\n        \"max\": 43775.0,\n        \"num_unique_values\": 5,\n        \"samples\": [\n          0.06250142775556825,\n          1.0,\n          0.24206680454797638\n        ],\n        \"semantic_type\": \"\",\n        \"description\": \"\"\n      }\n    },\n    {\n      \"column\": \"school\",\n      \"properties\": {\n        \"dtype\": \"number\",\n        \"std\": 15476.588634970081,\n        \"min\": 0.0,\n        \"max\": 43775.0,\n        \"num_unique_values\": 5,\n        \"samples\": [\n          0.7396002284408909,\n          1.0,\n          0.43885775624251444\n        ],\n        \"semantic_type\": \"\",\n        \"description\": \"\"\n      }\n    }\n  ]\n}"
            }
          },
          "metadata": {}
        }
      ]
    },
    {
      "cell_type": "code",
      "source": [
        "plt.figure(figsize=(10, 6))\n",
        "sns.histplot(df['nat_demand'], kde=True)\n",
        "plt.title('Distribution of National Demand')\n",
        "plt.xlabel('National Demand')\n",
        "plt.ylabel('Frequency')\n",
        "plt.show()"
      ],
      "metadata": {
        "colab": {
          "base_uri": "https://localhost:8080/",
          "height": 464
        },
        "id": "17iXJTQJvNUL",
        "outputId": "05f3d703-928e-4b31-c8f7-ee6f0e78a458"
      },
      "execution_count": null,
      "outputs": [
        {
          "output_type": "display_data",
          "data": {
            "text/plain": [
              "<Figure size 1000x600 with 1 Axes>"
            ],
            "image/png": "[encoded data removed]"
          },
          "metadata": {}
        }
      ]
    },
    {
      "cell_type": "code",
      "source": [
        "#sns.pairplot(df)"
      ],
      "metadata": {
        "id": "ZxzPrkjuvbEx"
      },
      "execution_count": null,
      "outputs": []
    },
    {
      "cell_type": "code",
      "source": [
        "df['datetime'] = pd.to_datetime(df['datetime'], format='%d-%m-%Y %H:%M')\n",
        "plt.figure(figsize=(12, 10))\n",
        "sns.heatmap(df.drop('datetime', axis=1).corr(), annot=True, cmap='coolwarm', fmt=\".2f\")\n",
        "plt.title('Correlation Matrix of Variables')\n",
        "plt.show()"
      ],
      "metadata": {
        "colab": {
          "base_uri": "https://localhost:8080/",
          "height": 674
        },
        "id": "BGlJdSr3wlZ8",
        "outputId": "71d539ee-6f5a-4e45-84af-e7b106f1f41f"
      },
      "execution_count": null,
      "outputs": [
        {
          "output_type": "display_data",
          "data": {
            "text/plain": [
              "<Figure size 1200x1000 with 2 Axes>"
            ],
            "image/png": "[encoded data removed]"
          },
          "metadata": {}
        }
      ]
    },
    {
      "cell_type": "markdown",
      "source": [
        "Plot the national demand"
      ],
      "metadata": {
        "id": "egSO22h9xmFC"
      }
    },
    {
      "cell_type": "code",
      "source": [
        "plt.figure(figsize=(12, 6))\n",
        "plt.plot(df['datetime'], df['nat_demand'])\n",
        "plt.title('National Demand Over Time')\n",
        "plt.xlabel('Date')\n",
        "plt.ylabel('National Demand')\n",
        "plt.show()"
      ],
      "metadata": {
        "colab": {
          "base_uri": "https://localhost:8080/",
          "height": 402
        },
        "id": "tx4CZO7NxesR",
        "outputId": "844ed969-e9d0-409c-9531-14709f6a3075"
      },
      "execution_count": null,
      "outputs": [
        {
          "output_type": "display_data",
          "data": {
            "text/plain": [
              "<Figure size 1200x600 with 1 Axes>"
            ],
            "image/png": "[encoded data removed]"
          },
          "metadata": {}
        }
      ]
    },
    {
      "cell_type": "markdown",
      "source": [
        "# Time Series Decomposition"
      ],
      "metadata": {
        "id": "KKu5C2u-38F7"
      }
    },
    {
      "cell_type": "markdown",
      "source": [
        "Date Time Object and Set Datetime as Index"
      ],
      "metadata": {
        "id": "h4xuVNA84bsh"
      }
    },
    {
      "cell_type": "code",
      "source": [
        "df['datetime'] = pd.to_datetime(df['datetime'], format='%d-%m-%Y %H:%M')\n",
        "df = df.set_index('datetime')\n",
        "display(df.head())"
      ],
      "metadata": {
        "colab": {
          "base_uri": "https://localhost:8080/",
          "height": 431
        },
        "id": "ir5noFu_4jRi",
        "outputId": "6eaadf68-c3d4-4dc2-b78e-2f8cf736ac95"
      },
      "execution_count": null,
      "outputs": [
        {
          "output_type": "display_data",
          "data": {
            "text/plain": [
              "                     nat_demand    T2M_toc  QV2M_toc   TQL_toc    W2M_toc  \\\n",
              "datetime                                                                    \n",
              "2015-01-03 01:00:00    970.3450  25.865259  0.018576  0.016174  21.850546   \n",
              "2015-01-03 02:00:00    912.1755  25.899255  0.018653  0.016418  22.166944   \n",
              "2015-01-03 03:00:00    900.2688  25.937280  0.018768  0.015480  22.454911   \n",
              "2015-01-03 04:00:00    889.9538  25.957544  0.018890  0.016273  22.110481   \n",
              "2015-01-03 05:00:00    893.6865  25.973840  0.018981  0.017281  21.186089   \n",
              "\n",
              "                       T2M_san  QV2M_san   TQL_san    W2M_san    T2M_dav  \\\n",
              "datetime                                                                   \n",
              "2015-01-03 01:00:00  23.482446  0.017272  0.001855  10.328949  22.662134   \n",
              "2015-01-03 02:00:00  23.399255  0.017265  0.001327  10.681517  22.578943   \n",
              "2015-01-03 03:00:00  23.343530  0.017211  0.001428  10.874924  22.531030   \n",
              "2015-01-03 04:00:00  23.238794  0.017128  0.002599  10.518620  22.512231   \n",
              "2015-01-03 05:00:00  23.075403  0.017059  0.001729   9.733589  22.481653   \n",
              "\n",
              "                     QV2M_dav   TQL_dav   W2M_dav  Holiday_ID  holiday  school  \n",
              "datetime                                                                        \n",
              "2015-01-03 01:00:00  0.016562  0.096100  5.364148           0        0       0  \n",
              "2015-01-03 02:00:00  0.016509  0.087646  5.572471           0        0       0  \n",
              "2015-01-03 03:00:00  0.016479  0.078735  5.871184           0        0       0  \n",
              "2015-01-03 04:00:00  0.016487  0.068390  5.883621           0        0       0  \n",
              "2015-01-03 05:00:00  0.016456  0.064362  5.611724           0        0       0  "
            ],
            "text/html": [
              "\n",
              "  <div id=\"df-3f36e016-8f69-417d-9199-599321932ea7\" class=\"colab-df-container\">\n",
              "    <div>\n",
              "<style scoped>\n",
              "    .dataframe tbody tr th:only-of-type {\n",
              "        vertical-align: middle;\n",
              "    }\n",
              "\n",
              "    .dataframe tbody tr th {\n",
              "        vertical-align: top;\n",
              "    }\n",
              "\n",
              "    .dataframe thead th {\n",
              "        text-align: right;\n",
              "    }\n",
              "</style>\n",
              "<table border=\"1\" class=\"dataframe\">\n",
              "  <thead>\n",
              "    <tr style=\"text-align: right;\">\n",
              "      <th></th>\n",
              "      <th>nat_demand</th>\n",
              "      <th>T2M_toc</th>\n",
              "      <th>QV2M_toc</th>\n",
              "      <th>TQL_toc</th>\n",
              "      <th>W2M_toc</th>\n",
              "      <th>T2M_san</th>\n",
              "      <th>QV2M_san</th>\n",
              "      <th>TQL_san</th>\n",
              "      <th>W2M_san</th>\n",
              "      <th>T2M_dav</th>\n",
              "      <th>QV2M_dav</th>\n",
              "      <th>TQL_dav</th>\n",
              "      <th>W2M_dav</th>\n",
              "      <th>Holiday_ID</th>\n",
              "      <th>holiday</th>\n",
              "      <th>school</th>\n",
              "    </tr>\n",
              "    <tr>\n",
              "      <th>datetime</th>\n",
              "      <th></th>\n",
              "      <th></th>\n",
              "      <th></th>\n",
              "      <th></th>\n",
              "      <th></th>\n",
              "      <th></th>\n",
              "      <th></th>\n",
              "      <th></th>\n",
              "      <th></th>\n",
              "      <th></th>\n",
              "      <th></th>\n",
              "      <th></th>\n",
              "      <th></th>\n",
              "      <th></th>\n",
              "      <th></th>\n",
              "      <th></th>\n",
              "    </tr>\n",
              "  </thead>\n",
              "  <tbody>\n",
              "    <tr>\n",
              "      <th>2015-01-03 01:00:00</th>\n",
              "      <td>970.3450</td>\n",
              "      <td>25.865259</td>\n",
              "      <td>0.018576</td>\n",
              "      <td>0.016174</td>\n",
              "      <td>21.850546</td>\n",
              "      <td>23.482446</td>\n",
              "      <td>0.017272</td>\n",
              "      <td>0.001855</td>\n",
              "      <td>10.328949</td>\n",
              "      <td>22.662134</td>\n",
              "      <td>0.016562</td>\n",
              "      <td>0.096100</td>\n",
              "      <td>5.364148</td>\n",
              "      <td>0</td>\n",
              "      <td>0</td>\n",
              "      <td>0</td>\n",
              "    </tr>\n",
              "    <tr>\n",
              "      <th>2015-01-03 02:00:00</th>\n",
              "      <td>912.1755</td>\n",
              "      <td>25.899255</td>\n",
              "      <td>0.018653</td>\n",
              "      <td>0.016418</td>\n",
              "      <td>22.166944</td>\n",
              "      <td>23.399255</td>\n",
              "      <td>0.017265</td>\n",
              "      <td>0.001327</td>\n",
              "      <td>10.681517</td>\n",
              "      <td>22.578943</td>\n",
              "      <td>0.016509</td>\n",
              "      <td>0.087646</td>\n",
              "      <td>5.572471</td>\n",
              "      <td>0</td>\n",
              "      <td>0</td>\n",
              "      <td>0</td>\n",
              "    </tr>\n",
              "    <tr>\n",
              "      <th>2015-01-03 03:00:00</th>\n",
              "      <td>900.2688</td>\n",
              "      <td>25.937280</td>\n",
              "      <td>0.018768</td>\n",
              "      <td>0.015480</td>\n",
              "      <td>22.454911</td>\n",
              "      <td>23.343530</td>\n",
              "      <td>0.017211</td>\n",
              "      <td>0.001428</td>\n",
              "      <td>10.874924</td>\n",
              "      <td>22.531030</td>\n",
              "      <td>0.016479</td>\n",
              "      <td>0.078735</td>\n",
              "      <td>5.871184</td>\n",
              "      <td>0</td>\n",
              "      <td>0</td>\n",
              "      <td>0</td>\n",
              "    </tr>\n",
              "    <tr>\n",
              "      <th>2015-01-03 04:00:00</th>\n",
              "      <td>889.9538</td>\n",
              "      <td>25.957544</td>\n",
              "      <td>0.018890</td>\n",
              "      <td>0.016273</td>\n",
              "      <td>22.110481</td>\n",
              "      <td>23.238794</td>\n",
              "      <td>0.017128</td>\n",
              "      <td>0.002599</td>\n",
              "      <td>10.518620</td>\n",
              "      <td>22.512231</td>\n",
              "      <td>0.016487</td>\n",
              "      <td>0.068390</td>\n",
              "      <td>5.883621</td>\n",
              "      <td>0</td>\n",
              "      <td>0</td>\n",
              "      <td>0</td>\n",
              "    </tr>\n",
              "    <tr>\n",
              "      <th>2015-01-03 05:00:00</th>\n",
              "      <td>893.6865</td>\n",
              "      <td>25.973840</td>\n",
              "      <td>0.018981</td>\n",
              "      <td>0.017281</td>\n",
              "      <td>21.186089</td>\n",
              "      <td>23.075403</td>\n",
              "      <td>0.017059</td>\n",
              "      <td>0.001729</td>\n",
              "      <td>9.733589</td>\n",
              "      <td>22.481653</td>\n",
              "      <td>0.016456</td>\n",
              "      <td>0.064362</td>\n",
              "      <td>5.611724</td>\n",
              "      <td>0</td>\n",
              "      <td>0</td>\n",
              "      <td>0</td>\n",
              "    </tr>\n",
              "  </tbody>\n",
              "</table>\n",
              "</div>\n",
              "    <div class=\"colab-df-buttons\">\n",
              "\n",
              "  <div class=\"colab-df-container\">\n",
              "    <button class=\"colab-df-convert\" onclick=\"convertToInteractive('df-3f36e016-8f69-417d-9199-599321932ea7')\"\n",
              "            title=\"Convert this dataframe to an interactive table.\"\n",
              "            style=\"display:none;\">\n",
              "\n",
              "  <svg xmlns=\"http://www.w3.org/2000/svg\" height=\"24px\" viewBox=\"0 -960 960 960\">\n",
              "    <path d=\"M120-120v-720h720v720H120Zm60-500h600v-160H180v160Zm220 220h160v-160H400v160Zm0 220h160v-160H400v160ZM180-400h160v-160H180v160Zm440 0h160v-160H620v160ZM180-180h160v-160H180v160Zm440 0h160v-160H620v160Z\"/>\n",
              "  </svg>\n",
              "    </button>\n",
              "\n",
              "  <style>\n",
              "    .colab-df-container {\n",
              "      display:flex;\n",
              "      gap: 12px;\n",
              "    }\n",
              "\n",
              "    .colab-df-convert {\n",
              "      background-color: #E8F0FE;\n",
              "      border: none;\n",
              "      border-radius: 50%;\n",
              "      cursor: pointer;\n",
              "      display: none;\n",
              "      fill: #1967D2;\n",
              "      height: 32px;\n",
              "      padding: 0 0 0 0;\n",
              "      width: 32px;\n",
              "    }\n",
              "\n",
              "    .colab-df-convert:hover {\n",
              "      background-color: #E2EBFA;\n",
              "      box-shadow: 0px 1px 2px rgba(60, 64, 67, 0.3), 0px 1px 3px 1px rgba(60, 64, 67, 0.15);\n",
              "      fill: #174EA6;\n",
              "    }\n",
              "\n",
              "    .colab-df-buttons div {\n",
              "      margin-bottom: 4px;\n",
              "    }\n",
              "\n",
              "    [theme=dark] .colab-df-convert {\n",
              "      background-color: #3B4455;\n",
              "      fill: #D2E3FC;\n",
              "    }\n",
              "\n",
              "    [theme=dark] .colab-df-convert:hover {\n",
              "      background-color: #434B5C;\n",
              "      box-shadow: 0px 1px 3px 1px rgba(0, 0, 0, 0.15);\n",
              "      filter: drop-shadow(0px 1px 2px rgba(0, 0, 0, 0.3));\n",
              "      fill: #FFFFFF;\n",
              "    }\n",
              "  </style>\n",
              "\n",
              "    <script>\n",
              "      const buttonEl =\n",
              "        document.querySelector('#df-3f36e016-8f69-417d-9199-599321932ea7 button.colab-df-convert');\n",
              "      buttonEl.style.display =\n",
              "        google.colab.kernel.accessAllowed ? 'block' : 'none';\n",
              "\n",
              "      async function convertToInteractive(key) {\n",
              "        const element = document.querySelector('#df-3f36e016-8f69-417d-9199-599321932ea7');\n",
              "        const dataTable =\n",
              "          await google.colab.kernel.invokeFunction('convertToInteractive',\n",
              "                                                    [key], {});\n",
              "        if (!dataTable) return;\n",
              "\n",
              "        const docLinkHtml = 'Like what you see? Visit the ' +\n",
              "          '<a target=\"_blank\" href=https://colab.research.google.com/notebooks/data_table.ipynb>data table notebook</a>'\n",
              "          + ' to learn more about interactive tables.';\n",
              "        element.innerHTML = '';\n",
              "        dataTable['output_type'] = 'display_data';\n",
              "        await google.colab.output.renderOutput(dataTable, element);\n",
              "        const docLink = document.createElement('div');\n",
              "        docLink.innerHTML = docLinkHtml;\n",
              "        element.appendChild(docLink);\n",
              "      }\n",
              "    </script>\n",
              "  </div>\n",
              "\n",
              "\n",
              "    <div id=\"df-89b0be14-a31b-434f-88ad-7322447995bf\">\n",
              "      <button class=\"colab-df-quickchart\" onclick=\"quickchart('df-89b0be14-a31b-434f-88ad-7322447995bf')\"\n",
              "                title=\"Suggest charts\"\n",
              "                style=\"display:none;\">\n",
              "\n",
              "<svg xmlns=\"http://www.w3.org/2000/svg\" height=\"24px\"viewBox=\"0 0 24 24\"\n",
              "     width=\"24px\">\n",
              "    <g>\n",
              "        <path d=\"M19 3H5c-1.1 0-2 .9-2 2v14c0 1.1.9 2 2 2h14c1.1 0 2-.9 2-2V5c0-1.1-.9-2-2-2zM9 17H7v-7h2v7zm4 0h-2V7h2v10zm4 0h-2v-4h2v4z\"/>\n",
              "    </g>\n",
              "</svg>\n",
              "      </button>\n",
              "\n",
              "<style>\n",
              "  .colab-df-quickchart {\n",
              "      --bg-color: #E8F0FE;\n",
              "      --fill-color: #1967D2;\n",
              "      --hover-bg-color: #E2EBFA;\n",
              "      --hover-fill-color: #174EA6;\n",
              "      --disabled-fill-color: #AAA;\n",
              "      --disabled-bg-color: #DDD;\n",
              "  }\n",
              "\n",
              "  [theme=dark] .colab-df-quickchart {\n",
              "      --bg-color: #3B4455;\n",
              "      --fill-color: #D2E3FC;\n",
              "      --hover-bg-color: #434B5C;\n",
              "      --hover-fill-color: #FFFFFF;\n",
              "      --disabled-bg-color: #3B4455;\n",
              "      --disabled-fill-color: #666;\n",
              "  }\n",
              "\n",
              "  .colab-df-quickchart {\n",
              "    background-color: var(--bg-color);\n",
              "    border: none;\n",
              "    border-radius: 50%;\n",
              "    cursor: pointer;\n",
              "    display: none;\n",
              "    fill: var(--fill-color);\n",
              "    height: 32px;\n",
              "    padding: 0;\n",
              "    width: 32px;\n",
              "  }\n",
              "\n",
              "  .colab-df-quickchart:hover {\n",
              "    background-color: var(--hover-bg-color);\n",
              "    box-shadow: 0 1px 2px rgba(60, 64, 67, 0.3), 0 1px 3px 1px rgba(60, 64, 67, 0.15);\n",
              "    fill: var(--button-hover-fill-color);\n",
              "  }\n",
              "\n",
              "  .colab-df-quickchart-complete:disabled,\n",
              "  .colab-df-quickchart-complete:disabled:hover {\n",
              "    background-color: var(--disabled-bg-color);\n",
              "    fill: var(--disabled-fill-color);\n",
              "    box-shadow: none;\n",
              "  }\n",
              "\n",
              "  .colab-df-spinner {\n",
              "    border: 2px solid var(--fill-color);\n",
              "    border-color: transparent;\n",
              "    border-bottom-color: var(--fill-color);\n",
              "    animation:\n",
              "      spin 1s steps(1) infinite;\n",
              "  }\n",
              "\n",
              "  @keyframes spin {\n",
              "    0% {\n",
              "      border-color: transparent;\n",
              "      border-bottom-color: var(--fill-color);\n",
              "      border-left-color: var(--fill-color);\n",
              "    }\n",
              "    20% {\n",
              "      border-color: transparent;\n",
              "      border-left-color: var(--fill-color);\n",
              "      border-top-color: var(--fill-color);\n",
              "    }\n",
              "    30% {\n",
              "      border-color: transparent;\n",
              "      border-left-color: var(--fill-color);\n",
              "      border-top-color: var(--fill-color);\n",
              "      border-right-color: var(--fill-color);\n",
              "    }\n",
              "    40% {\n",
              "      border-color: transparent;\n",
              "      border-right-color: var(--fill-color);\n",
              "      border-top-color: var(--fill-color);\n",
              "    }\n",
              "    60% {\n",
              "      border-color: transparent;\n",
              "      border-right-color: var(--fill-color);\n",
              "    }\n",
              "    80% {\n",
              "      border-color: transparent;\n",
              "      border-right-color: var(--fill-color);\n",
              "      border-bottom-color: var(--fill-color);\n",
              "    }\n",
              "    90% {\n",
              "      border-color: transparent;\n",
              "      border-bottom-color: var(--fill-color);\n",
              "    }\n",
              "  }\n",
              "</style>\n",
              "\n",
              "      <script>\n",
              "        async function quickchart(key) {\n",
              "          const quickchartButtonEl =\n",
              "            document.querySelector('#' + key + ' button');\n",
              "          quickchartButtonEl.disabled = true;  // To prevent multiple clicks.\n",
              "          quickchartButtonEl.classList.add('colab-df-spinner');\n",
              "          try {\n",
              "            const charts = await google.colab.kernel.invokeFunction(\n",
              "                'suggestCharts', [key], {});\n",
              "          } catch (error) {\n",
              "            console.error('Error during call to suggestCharts:', error);\n",
              "          }\n",
              "          quickchartButtonEl.classList.remove('colab-df-spinner');\n",
              "          quickchartButtonEl.classList.add('colab-df-quickchart-complete');\n",
              "        }\n",
              "        (() => {\n",
              "          let quickchartButtonEl =\n",
              "            document.querySelector('#df-89b0be14-a31b-434f-88ad-7322447995bf button');\n",
              "          quickchartButtonEl.style.display =\n",
              "            google.colab.kernel.accessAllowed ? 'block' : 'none';\n",
              "        })();\n",
              "      </script>\n",
              "    </div>\n",
              "\n",
              "    </div>\n",
              "  </div>\n"
            ],
            "application/vnd.google.colaboratory.intrinsic+json": {
              "type": "dataframe",
              "summary": "{\n  \"name\": \"display(df\",\n  \"rows\": 5,\n  \"fields\": [\n    {\n      \"column\": \"datetime\",\n      \"properties\": {\n        \"dtype\": \"date\",\n        \"min\": \"2015-01-03 01:00:00\",\n        \"max\": \"2015-01-03 05:00:00\",\n        \"num_unique_values\": 5,\n        \"samples\": [\n          \"2015-01-03 02:00:00\",\n          \"2015-01-03 05:00:00\",\n          \"2015-01-03 03:00:00\"\n        ],\n        \"semantic_type\": \"\",\n        \"description\": \"\"\n      }\n    },\n    {\n      \"column\": \"nat_demand\",\n      \"properties\": {\n        \"dtype\": \"number\",\n        \"std\": 32.99599272695095,\n        \"min\": 889.9538,\n        \"max\": 970.345,\n        \"num_unique_values\": 5,\n        \"samples\": [\n          912.1755,\n          893.6865,\n          900.2688\n        ],\n        \"semantic_type\": \"\",\n        \"description\": \"\"\n      }\n    },\n    {\n      \"column\": \"T2M_toc\",\n      \"properties\": {\n        \"dtype\": \"number\",\n        \"std\": 0.04419760014421863,\n        \"min\": 25.86525879,\n        \"max\": 25.97384033,\n        \"num_unique_values\": 5,\n        \"samples\": [\n          25.89925537,\n          25.97384033,\n          25.93728027\n        ],\n        \"semantic_type\": \"\",\n        \"description\": \"\"\n      }\n    },\n    {\n      \"column\": \"QV2M_toc\",\n      \"properties\": {\n        \"dtype\": \"number\",\n        \"std\": 0.00016586247490406103,\n        \"min\": 0.018576382,\n        \"max\": 0.018981151,\n        \"num_unique_values\": 5,\n        \"samples\": [\n          0.018653292,\n          0.018981151,\n          0.01876786\n        ],\n        \"semantic_type\": \"\",\n        \"description\": \"\"\n      }\n    },\n    {\n      \"column\": \"TQL_toc\",\n      \"properties\": {\n        \"dtype\": \"number\",\n        \"std\": 0.0006444332319994838,\n        \"min\": 0.015480042,\n        \"max\": 0.017280579,\n        \"num_unique_values\": 5,\n        \"samples\": [\n          0.016418457,\n          0.017280579,\n          0.015480042\n        ],\n        \"semantic_type\": \"\",\n        \"description\": \"\"\n      }\n    },\n    {\n      \"column\": \"W2M_toc\",\n      \"properties\": {\n        \"dtype\": \"number\",\n        \"std\": 0.47987858756427315,\n        \"min\": 21.18608852,\n        \"max\": 22.45491088,\n        \"num_unique_values\": 5,\n        \"samples\": [\n          22.16694428,\n          21.18608852,\n          22.45491088\n        ],\n        \"semantic_type\": \"\",\n        \"description\": \"\"\n      }\n    },\n    {\n      \"column\": \"T2M_san\",\n      \"properties\": {\n        \"dtype\": \"number\",\n        \"std\": 0.15725163457737945,\n        \"min\": 23.07540283,\n        \"max\": 23.48244629,\n        \"num_unique_values\": 5,\n        \"samples\": [\n          23.39925537,\n          23.07540283,\n          23.34353027\n        ],\n        \"semantic_type\": \"\",\n        \"description\": \"\"\n      }\n    },\n    {\n      \"column\": \"QV2M_san\",\n      \"properties\": {\n        \"dtype\": \"number\",\n        \"std\": 9.19876055982549e-05,\n        \"min\": 0.017058544,\n        \"max\": 0.017271755,\n        \"num_unique_values\": 5,\n        \"samples\": [\n          0.017264742,\n          0.017058544,\n          0.017211463\n        ],\n        \"semantic_type\": \"\",\n        \"description\": \"\"\n      }\n    },\n    {\n      \"column\": \"TQL_san\",\n      \"properties\": {\n        \"dtype\": \"number\",\n        \"std\": 0.0005018339665220959,\n        \"min\": 0.001327038,\n        \"max\": 0.002598763,\n        \"num_unique_values\": 5,\n        \"samples\": [\n          0.001327038,\n          0.001729012,\n          0.001428127\n        ],\n        \"semantic_type\": \"\",\n        \"description\": \"\"\n      }\n    },\n    {\n      \"column\": \"W2M_san\",\n      \"properties\": {\n        \"dtype\": \"number\",\n        \"std\": 0.43710427229133614,\n        \"min\": 9.733588918,\n        \"max\": 10.87492379,\n        \"num_unique_values\": 5,\n        \"samples\": [\n          10.68151714,\n          9.733588918,\n          10.87492379\n        ],\n        \"semantic_type\": \"\",\n        \"description\": \"\"\n      }\n    },\n    {\n      \"column\": \"T2M_dav\",\n      \"properties\": {\n        \"dtype\": \"number\",\n        \"std\": 0.07038853332846874,\n        \"min\": 22.48165283,\n        \"max\": 22.66213379,\n        \"num_unique_values\": 5,\n        \"samples\": [\n          22.57894287,\n          22.48165283,\n          22.53103027\n        ],\n        \"semantic_type\": \"\",\n        \"description\": \"\"\n      }\n    },\n    {\n      \"column\": \"QV2M_dav\",\n      \"properties\": {\n        \"dtype\": \"number\",\n        \"std\": 4.0363640701751385e-05,\n        \"min\": 0.016455822,\n        \"max\": 0.016562222,\n        \"num_unique_values\": 5,\n        \"samples\": [\n          0.016509432,\n          0.016455822,\n          0.016479041\n        ],\n        \"semantic_type\": \"\",\n        \"description\": \"\"\n      }\n    },\n    {\n      \"column\": \"TQL_dav\",\n      \"properties\": {\n        \"dtype\": \"number\",\n        \"std\": 0.013172735014598418,\n        \"min\": 0.06436157,\n        \"max\": 0.09609985,\n        \"num_unique_values\": 5,\n        \"samples\": [\n          0.087646484,\n          0.06436157,\n          0.07873535\n        ],\n        \"semantic_type\": \"\",\n        \"description\": \"\"\n      }\n    },\n    {\n      \"column\": \"W2M_dav\",\n      \"properties\": {\n        \"dtype\": \"number\",\n        \"std\": 0.21915936523914245,\n        \"min\": 5.364147952,\n        \"max\": 5.883621114,\n        \"num_unique_values\": 5,\n        \"samples\": [\n          5.572471346,\n          5.611723559,\n          5.871183745\n        ],\n        \"semantic_type\": \"\",\n        \"description\": \"\"\n      }\n    },\n    {\n      \"column\": \"Holiday_ID\",\n      \"properties\": {\n        \"dtype\": \"number\",\n        \"std\": 0,\n        \"min\": 0,\n        \"max\": 0,\n        \"num_unique_values\": 1,\n        \"samples\": [\n          0\n        ],\n        \"semantic_type\": \"\",\n        \"description\": \"\"\n      }\n    },\n    {\n      \"column\": \"holiday\",\n      \"properties\": {\n        \"dtype\": \"number\",\n        \"std\": 0,\n        \"min\": 0,\n        \"max\": 0,\n        \"num_unique_values\": 1,\n        \"samples\": [\n          0\n        ],\n        \"semantic_type\": \"\",\n        \"description\": \"\"\n      }\n    },\n    {\n      \"column\": \"school\",\n      \"properties\": {\n        \"dtype\": \"number\",\n        \"std\": 0,\n        \"min\": 0,\n        \"max\": 0,\n        \"num_unique_values\": 1,\n        \"samples\": [\n          0\n        ],\n        \"semantic_type\": \"\",\n        \"description\": \"\"\n      }\n    }\n  ]\n}"
            }
          },
          "metadata": {}
        }
      ]
    },
    {
      "cell_type": "code",
      "source": [
        "decomposition = seasonal_decompose(df['nat_demand'], model='additive')\n",
        "decomposition.plot()\n",
        "plt.title('Time Series Decomposition of National Demand')\n",
        "plt.show()"
      ],
      "metadata": {
        "colab": {
          "base_uri": "https://localhost:8080/",
          "height": 487
        },
        "id": "qZGhmmPr5L09",
        "outputId": "fabaa9c0-188f-463b-e7cd-f9983df3824c"
      },
      "execution_count": null,
      "outputs": [
        {
          "output_type": "display_data",
          "data": {
            "text/plain": [
              "<Figure size 640x480 with 4 Axes>"
            ],
            "image/png": "[encoded data removed]"
          },
          "metadata": {}
        }
      ]
    },
    {
      "cell_type": "markdown",
      "source": [
        "Check Stationarity on Data"
      ],
      "metadata": {
        "id": "F9GbF6lB6jlg"
      }
    },
    {
      "cell_type": "code",
      "source": [
        "from statsmodels.tsa.stattools import adfuller"
      ],
      "metadata": {
        "id": "-Z1QGasp6mZu"
      },
      "execution_count": null,
      "outputs": []
    },
    {
      "cell_type": "markdown",
      "source": [
        "- Null Hypotheses: Data is non stationary. No Unit Root\n",
        "- Alternate Hypotheses: Data is Stationary. Unit Root"
      ],
      "metadata": {
        "id": "_3wYV9r160d2"
      }
    },
    {
      "cell_type": "code",
      "source": [
        "dftest = adfuller(df['nat_demand'])\n",
        "print('ADF Statistic:', dftest[0])\n",
        "print('p-value:', dftest[1])"
      ],
      "metadata": {
        "colab": {
          "base_uri": "https://localhost:8080/"
        },
        "id": "lZOIZRk16rSF",
        "outputId": "1aea797b-4258-44bb-d582-156888dde2c6"
      },
      "execution_count": null,
      "outputs": [
        {
          "output_type": "stream",
          "name": "stdout",
          "text": [
            "ADF Statistic: -21.344772773557136\n",
            "p-value: 0.0\n"
          ]
        }
      ]
    },
    {
      "cell_type": "markdown",
      "source": [
        "Based on the ADFuller Test the Data is Stationary"
      ],
      "metadata": {
        "id": "NtxeW3A67VIS"
      }
    },
    {
      "cell_type": "markdown",
      "source": [
        "# Vector Auto Regressive Model"
      ],
      "metadata": {
        "id": "maIG0Oet8OoE"
      }
    },
    {
      "cell_type": "markdown",
      "source": [
        "Divide the data into Training & Testing"
      ],
      "metadata": {
        "id": "zSD8rpVj8eW9"
      }
    },
    {
      "cell_type": "code",
      "source": [
        "# Define the split point (e.g., 80% for training, 20% for testing)\n",
        "train_size = int(len(df) * 0.8)\n",
        "train_data, test_data = df[0:train_size], df[train_size:]\n",
        "\n",
        "print('Training data shape:', train_data.shape)\n",
        "print('Testing data shape:', test_data.shape)"
      ],
      "metadata": {
        "colab": {
          "base_uri": "https://localhost:8080/"
        },
        "id": "CRldt-bY8UBN",
        "outputId": "973b33cb-99b9-4afd-e17c-6dbc8e3f5da4"
      },
      "execution_count": null,
      "outputs": [
        {
          "output_type": "stream",
          "name": "stdout",
          "text": [
            "Training data shape: (35020, 16)\n",
            "Testing data shape: (8755, 16)\n"
          ]
        }
      ]
    },
    {
      "cell_type": "markdown",
      "source": [
        "Apply the Vector Auto Regressive Model and Evaluate the Model using MAPE and RMSE"
      ],
      "metadata": {
        "id": "h4SWfYdJ885G"
      }
    },
    {
      "cell_type": "code",
      "source": [
        "from statsmodels.tsa.api import VAR"
      ],
      "metadata": {
        "id": "ScL4RaZH9Bsa"
      },
      "execution_count": null,
      "outputs": []
    },
    {
      "cell_type": "code",
      "source": [
        "import warnings\n",
        "warnings.filterwarnings(\"ignore\")"
      ],
      "metadata": {
        "id": "-7iImDDG-I7m"
      },
      "execution_count": null,
      "outputs": []
    },
    {
      "cell_type": "code",
      "source": [
        "max_p = 10\n",
        "for i in range(1, max_p+1):\n",
        "  model = VAR(train_data)\n",
        "  results = model.fit(i)\n",
        "  aic = results.aic\n",
        "  print(f\"Lag: {i}, AIC: {aic}\")"
      ],
      "metadata": {
        "colab": {
          "base_uri": "https://localhost:8080/"
        },
        "id": "jjRXcFZR9dT9",
        "outputId": "e6acc149-4178-47ea-99e8-0dd161a7c3ff"
      },
      "execution_count": null,
      "outputs": [
        {
          "output_type": "stream",
          "name": "stdout",
          "text": [
            "Lag: 1, AIC: -93.75868484890327\n",
            "Lag: 2, AIC: -102.80229799079393\n",
            "Lag: 3, AIC: -104.37576980777354\n",
            "Lag: 4, AIC: -104.56989338073927\n",
            "Lag: 5, AIC: -104.69270297447042\n",
            "Lag: 6, AIC: -104.77047092269234\n",
            "Lag: 7, AIC: -104.82892921815065\n",
            "Lag: 8, AIC: -104.90024240516017\n",
            "Lag: 9, AIC: -105.00050904195817\n",
            "Lag: 10, AIC: -105.12079591853956\n"
          ]
        }
      ]
    },
    {
      "cell_type": "code",
      "source": [
        "model_fitted = VAR(train_data).fit(1)\n",
        "print(model_fitted.summary())"
      ],
      "metadata": {
        "colab": {
          "base_uri": "https://localhost:8080/"
        },
        "id": "G-JmYrET_PMG",
        "outputId": "3d0f7c26-dcfc-4f60-eeea-80dffda8f99d"
      },
      "execution_count": null,
      "outputs": [
        {
          "output_type": "stream",
          "name": "stdout",
          "text": [
            "  Summary of Regression Results   \n",
            "==================================\n",
            "Model:                         VAR\n",
            "Method:                        OLS\n",
            "Date:           Sun, 26, Oct, 2025\n",
            "Time:                     04:20:50\n",
            "--------------------------------------------------------------------\n",
            "No. of Equations:         16.0000    BIC:                   -93.6929\n",
            "Nobs:                     35019.0    HQIC:                  -93.7377\n",
            "Log likelihood:           846903.    FPE:                1.91038e-41\n",
            "AIC:                     -93.7587    Det(Omega_mle):     1.89561e-41\n",
            "--------------------------------------------------------------------\n",
            "Results for equation nat_demand\n",
            "================================================================================\n",
            "                   coefficient       std. error           t-stat            prob\n",
            "--------------------------------------------------------------------------------\n",
            "const               203.821221         8.700449           23.427           0.000\n",
            "L1.nat_demand         0.938679         0.002338          401.443           0.000\n",
            "L1.T2M_toc           -2.562799         0.625266           -4.099           0.000\n",
            "L1.QV2M_toc       -1868.876348       453.328257           -4.123           0.000\n",
            "L1.TQL_toc           69.892671         6.308010           11.080           0.000\n",
            "L1.W2M_toc           -1.014353         0.074015          -13.705           0.000\n",
            "L1.T2M_san           15.315023         0.457934           33.444           0.000\n",
            "L1.QV2M_san       17738.496053       551.542638           32.162           0.000\n",
            "L1.TQL_san          -61.547347         6.119634          -10.057           0.000\n",
            "L1.W2M_san            3.806067         0.143991           26.433           0.000\n",
            "L1.T2M_dav          -17.958331         0.494442          -36.320           0.000\n",
            "L1.QV2M_dav      -18077.781799       599.973556          -30.131           0.000\n",
            "L1.TQL_dav           -9.344861         5.515008           -1.694           0.090\n",
            "L1.W2M_dav           -5.392596         0.264658          -20.376           0.000\n",
            "L1.Holiday_ID         0.517893         0.194462            2.663           0.008\n",
            "L1.holiday          -17.538909         2.660118           -6.593           0.000\n",
            "L1.school             1.542151         0.807341            1.910           0.056\n",
            "================================================================================\n",
            "\n",
            "Results for equation T2M_toc\n",
            "================================================================================\n",
            "                   coefficient       std. error           t-stat            prob\n",
            "--------------------------------------------------------------------------------\n",
            "const                 2.848294         0.061977           45.957           0.000\n",
            "L1.nat_demand         0.000059         0.000017            3.513           0.000\n",
            "L1.T2M_toc            0.872092         0.004454          195.799           0.000\n",
            "L1.QV2M_toc          79.883332         3.229244           24.737           0.000\n",
            "L1.TQL_toc            0.024456         0.044935            0.544           0.586\n",
            "L1.W2M_toc           -0.024384         0.000527          -46.248           0.000\n",
            "L1.T2M_san            0.104639         0.003262           32.078           0.000\n",
            "L1.QV2M_san         101.835073         3.928865           25.920           0.000\n",
            "L1.TQL_san           -0.727774         0.043593          -16.695           0.000\n",
            "L1.W2M_san            0.047880         0.001026           46.680           0.000\n",
            "L1.T2M_dav           -0.078168         0.003522          -22.193           0.000\n",
            "L1.QV2M_dav        -202.796599         4.273858          -47.450           0.000\n",
            "L1.TQL_dav            0.099033         0.039286            2.521           0.012\n",
            "L1.W2M_dav           -0.035809         0.001885          -18.994           0.000\n",
            "L1.Holiday_ID         0.001957         0.001385            1.412           0.158\n",
            "L1.holiday           -0.034242         0.018949           -1.807           0.071\n",
            "L1.school             0.022609         0.005751            3.931           0.000\n",
            "================================================================================\n",
            "\n",
            "Results for equation QV2M_toc\n",
            "================================================================================\n",
            "                   coefficient       std. error           t-stat            prob\n",
            "--------------------------------------------------------------------------------\n",
            "const                -0.000896         0.000028          -31.601           0.000\n",
            "L1.nat_demand        -0.000000         0.000000           -7.399           0.000\n",
            "L1.T2M_toc            0.000085         0.000002           41.572           0.000\n",
            "L1.QV2M_toc           0.940971         0.001477          636.977           0.000\n",
            "L1.TQL_toc            0.000124         0.000021            6.056           0.000\n",
            "L1.W2M_toc            0.000007         0.000000           28.737           0.000\n",
            "L1.T2M_san           -0.000025         0.000001          -16.505           0.000\n",
            "L1.QV2M_san           0.005401         0.001797            3.005           0.003\n",
            "L1.TQL_san            0.000069         0.000020            3.475           0.001\n",
            "L1.W2M_san           -0.000013         0.000000          -27.919           0.000\n",
            "L1.T2M_dav           -0.000018         0.000002          -11.325           0.000\n",
            "L1.QV2M_dav           0.041235         0.001955           21.091           0.000\n",
            "L1.TQL_dav           -0.000093         0.000018           -5.200           0.000\n",
            "L1.W2M_dav            0.000009         0.000001           10.726           0.000\n",
            "L1.Holiday_ID        -0.000000         0.000001           -0.130           0.897\n",
            "L1.holiday           -0.000004         0.000009           -0.480           0.631\n",
            "L1.school             0.000012         0.000003            4.545           0.000\n",
            "================================================================================\n",
            "\n",
            "Results for equation TQL_toc\n",
            "================================================================================\n",
            "                   coefficient       std. error           t-stat            prob\n",
            "--------------------------------------------------------------------------------\n",
            "const                 0.024995         0.002315           10.796           0.000\n",
            "L1.nat_demand        -0.000002         0.000001           -2.642           0.008\n",
            "L1.T2M_toc           -0.001798         0.000166          -10.808           0.000\n",
            "L1.QV2M_toc           2.520657         0.120629           20.896           0.000\n",
            "L1.TQL_toc            0.965504         0.001679          575.205           0.000\n",
            "L1.W2M_toc           -0.000392         0.000020          -19.883           0.000\n",
            "L1.T2M_san            0.001627         0.000122           13.350           0.000\n",
            "L1.QV2M_san           0.643001         0.146764            4.381           0.000\n",
            "L1.TQL_san           -0.008534         0.001628           -5.241           0.000\n",
            "L1.W2M_san            0.000688         0.000038           17.956           0.000\n",
            "L1.T2M_dav           -0.001197         0.000132           -9.101           0.000\n",
            "L1.QV2M_dav          -2.350896         0.159651          -14.725           0.000\n",
            "L1.TQL_dav           -0.005572         0.001468           -3.797           0.000\n",
            "L1.W2M_dav           -0.000417         0.000070           -5.922           0.000\n",
            "L1.Holiday_ID         0.000040         0.000052            0.774           0.439\n",
            "L1.holiday           -0.000726         0.000708           -1.025           0.305\n",
            "L1.school             0.000580         0.000215            2.701           0.007\n",
            "================================================================================\n",
            "\n",
            "Results for equation W2M_toc\n",
            "================================================================================\n",
            "                   coefficient       std. error           t-stat            prob\n",
            "--------------------------------------------------------------------------------\n",
            "const                 0.643068         0.178120            3.610           0.000\n",
            "L1.nat_demand        -0.000742         0.000048          -15.492           0.000\n",
            "L1.T2M_toc            0.213808         0.012801           16.703           0.000\n",
            "L1.QV2M_toc          66.990239         9.280748            7.218           0.000\n",
            "L1.TQL_toc            0.166950         0.129141            1.293           0.196\n",
            "L1.W2M_toc            0.969971         0.001515          640.131           0.000\n",
            "L1.T2M_san            0.032698         0.009375            3.488           0.000\n",
            "L1.QV2M_san         -31.848174        11.291439           -2.821           0.005\n",
            "L1.TQL_san           -0.353031         0.125284           -2.818           0.005\n",
            "L1.W2M_san            0.016066         0.002948            5.450           0.000\n",
            "L1.T2M_dav           -0.184294         0.010122          -18.206           0.000\n",
            "L1.QV2M_dav        -139.208259        12.282940          -11.333           0.000\n",
            "L1.TQL_dav            0.338296         0.112906            2.996           0.003\n",
            "L1.W2M_dav            0.006033         0.005418            1.113           0.266\n",
            "L1.Holiday_ID         0.003849         0.003981            0.967           0.334\n",
            "L1.holiday           -0.098033         0.054459           -1.800           0.072\n",
            "L1.school            -0.048745         0.016528           -2.949           0.003\n",
            "================================================================================\n",
            "\n",
            "Results for equation T2M_san\n",
            "================================================================================\n",
            "                   coefficient       std. error           t-stat            prob\n",
            "--------------------------------------------------------------------------------\n",
            "const                 4.321290         0.108967           39.657           0.000\n",
            "L1.nat_demand         0.000010         0.000029            0.327           0.743\n",
            "L1.T2M_toc           -0.132037         0.007831          -16.861           0.000\n",
            "L1.QV2M_toc         132.039754         5.677630           23.256           0.000\n",
            "L1.TQL_toc            0.256013         0.079004            3.241           0.001\n",
            "L1.W2M_toc           -0.036628         0.000927          -39.513           0.000\n",
            "L1.T2M_san            1.176431         0.005735          205.121           0.000\n",
            "L1.QV2M_san         185.364490         6.907699           26.834           0.000\n",
            "L1.TQL_san           -1.554392         0.076644          -20.281           0.000\n",
            "L1.W2M_san            0.081334         0.001803           45.100           0.000\n",
            "L1.T2M_dav           -0.204842         0.006193          -33.079           0.000\n",
            "L1.QV2M_dav        -349.531166         7.514263          -46.516           0.000\n",
            "L1.TQL_dav            0.173869         0.069072            2.517           0.012\n",
            "L1.W2M_dav           -0.068954         0.003315          -20.803           0.000\n",
            "L1.Holiday_ID         0.002861         0.002436            1.175           0.240\n",
            "L1.holiday           -0.063547         0.033316           -1.907           0.056\n",
            "L1.school             0.059530         0.010111            5.887           0.000\n",
            "================================================================================\n",
            "\n",
            "Results for equation QV2M_san\n",
            "================================================================================\n",
            "                   coefficient       std. error           t-stat            prob\n",
            "--------------------------------------------------------------------------------\n",
            "const                -0.000705         0.000042          -16.973           0.000\n",
            "L1.nat_demand        -0.000000         0.000000          -16.221           0.000\n",
            "L1.T2M_toc            0.000071         0.000003           23.635           0.000\n",
            "L1.QV2M_toc           0.003496         0.002165            1.614           0.106\n",
            "L1.TQL_toc            0.000164         0.000030            5.454           0.000\n",
            "L1.W2M_toc            0.000003         0.000000            8.105           0.000\n",
            "L1.T2M_san           -0.000032         0.000002          -14.858           0.000\n",
            "L1.QV2M_san           0.971040         0.002634          368.600           0.000\n",
            "L1.TQL_san            0.000250         0.000029            8.552           0.000\n",
            "L1.W2M_san           -0.000016         0.000001          -23.837           0.000\n",
            "L1.T2M_dav            0.000019         0.000002            7.988           0.000\n",
            "L1.QV2M_dav          -0.012169         0.002866           -4.246           0.000\n",
            "L1.TQL_dav            0.000126         0.000026            4.797           0.000\n",
            "L1.W2M_dav            0.000021         0.000001           16.833           0.000\n",
            "L1.Holiday_ID         0.000001         0.000001            0.718           0.473\n",
            "L1.holiday           -0.000034         0.000013           -2.647           0.008\n",
            "L1.school            -0.000008         0.000004           -2.029           0.042\n",
            "================================================================================\n",
            "\n",
            "Results for equation TQL_san\n",
            "================================================================================\n",
            "                   coefficient       std. error           t-stat            prob\n",
            "--------------------------------------------------------------------------------\n",
            "const                 0.015019         0.002951            5.090           0.000\n",
            "L1.nat_demand         0.000000         0.000001            0.462           0.644\n",
            "L1.T2M_toc           -0.003380         0.000212          -15.939           0.000\n",
            "L1.QV2M_toc           0.714158         0.153737            4.645           0.000\n",
            "L1.TQL_toc            0.051411         0.002139           24.032           0.000\n",
            "L1.W2M_toc           -0.000334         0.000025          -13.290           0.000\n",
            "L1.T2M_san            0.001974         0.000155           12.712           0.000\n",
            "L1.QV2M_san           3.072917         0.187044           16.429           0.000\n",
            "L1.TQL_san            0.940796         0.002075          453.321           0.000\n",
            "L1.W2M_san           -0.000093         0.000049           -1.911           0.056\n",
            "L1.T2M_dav            0.001189         0.000168            7.093           0.000\n",
            "L1.QV2M_dav          -3.953841         0.203468          -19.432           0.000\n",
            "L1.TQL_dav           -0.006851         0.001870           -3.663           0.000\n",
            "L1.W2M_dav            0.000664         0.000090            7.401           0.000\n",
            "L1.Holiday_ID         0.000060         0.000066            0.908           0.364\n",
            "L1.holiday           -0.000130         0.000902           -0.145           0.885\n",
            "L1.school            -0.000878         0.000274           -3.207           0.001\n",
            "================================================================================\n",
            "\n",
            "Results for equation W2M_san\n",
            "================================================================================\n",
            "                   coefficient       std. error           t-stat            prob\n",
            "--------------------------------------------------------------------------------\n",
            "const                 3.640617         0.135757           26.817           0.000\n",
            "L1.nat_demand        -0.000107         0.000036           -2.934           0.003\n",
            "L1.T2M_toc           -0.115772         0.009756          -11.866           0.000\n",
            "L1.QV2M_toc          66.356677         7.073507            9.381           0.000\n",
            "L1.TQL_toc           -0.688367         0.098427           -6.994           0.000\n",
            "L1.W2M_toc           -0.003592         0.001155           -3.111           0.002\n",
            "L1.T2M_san            0.075565         0.007145           10.575           0.000\n",
            "L1.QV2M_san          39.999253         8.605995            4.648           0.000\n",
            "L1.TQL_san            0.120527         0.095488            1.262           0.207\n",
            "L1.W2M_san            0.975190         0.002247          434.042           0.000\n",
            "L1.T2M_dav           -0.084695         0.007715          -10.978           0.000\n",
            "L1.QV2M_dav        -125.262033         9.361687          -13.380           0.000\n",
            "L1.TQL_dav            0.131067         0.086053            1.523           0.128\n",
            "L1.W2M_dav            0.034441         0.004130            8.340           0.000\n",
            "L1.Holiday_ID        -0.002547         0.003034           -0.839           0.401\n",
            "L1.holiday            0.033684         0.041507            0.812           0.417\n",
            "L1.school             0.019883         0.012597            1.578           0.114\n",
            "================================================================================\n",
            "\n",
            "Results for equation T2M_dav\n",
            "================================================================================\n",
            "                   coefficient       std. error           t-stat            prob\n",
            "--------------------------------------------------------------------------------\n",
            "const                 3.970565         0.089553           44.338           0.000\n",
            "L1.nat_demand         0.000284         0.000024           11.806           0.000\n",
            "L1.T2M_toc           -0.165007         0.006436          -25.639           0.000\n",
            "L1.QV2M_toc         101.510967         4.666057           21.755           0.000\n",
            "L1.TQL_toc            0.328769         0.064928            5.064           0.000\n",
            "L1.W2M_toc           -0.031083         0.000762          -40.801           0.000\n",
            "L1.T2M_san            0.224349         0.004713           47.597           0.000\n",
            "L1.QV2M_san         170.986204         5.676967           30.119           0.000\n",
            "L1.TQL_san           -1.080810         0.062989          -17.159           0.000\n",
            "L1.W2M_san            0.082601         0.001482           55.733           0.000\n",
            "L1.T2M_dav            0.758450         0.005089          149.030           0.000\n",
            "L1.QV2M_dav        -266.812751         6.175461          -43.205           0.000\n",
            "L1.TQL_dav           -0.335472         0.056765           -5.910           0.000\n",
            "L1.W2M_dav           -0.087828         0.002724          -32.241           0.000\n",
            "L1.Holiday_ID         0.003613         0.002002            1.805           0.071\n",
            "L1.holiday           -0.042115         0.027380           -1.538           0.124\n",
            "L1.school             0.024518         0.008310            2.950           0.003\n",
            "================================================================================\n",
            "\n",
            "Results for equation QV2M_dav\n",
            "================================================================================\n",
            "                   coefficient       std. error           t-stat            prob\n",
            "--------------------------------------------------------------------------------\n",
            "const                -0.001072         0.000034          -31.221           0.000\n",
            "L1.nat_demand        -0.000000         0.000000          -20.146           0.000\n",
            "L1.T2M_toc            0.000053         0.000002           21.374           0.000\n",
            "L1.QV2M_toc          -0.025279         0.001790          -14.125           0.000\n",
            "L1.TQL_toc            0.000116         0.000025            4.677           0.000\n",
            "L1.W2M_toc            0.000006         0.000000           19.379           0.000\n",
            "L1.T2M_san           -0.000033         0.000002          -18.350           0.000\n",
            "L1.QV2M_san           0.059824         0.002177           27.474           0.000\n",
            "L1.TQL_san           -0.000044         0.000024           -1.811           0.070\n",
            "L1.W2M_san           -0.000024         0.000001          -41.599           0.000\n",
            "L1.T2M_dav            0.000055         0.000002           28.191           0.000\n",
            "L1.QV2M_dav           0.921671         0.002369          389.106           0.000\n",
            "L1.TQL_dav            0.000460         0.000022           21.110           0.000\n",
            "L1.W2M_dav            0.000032         0.000001           31.033           0.000\n",
            "L1.Holiday_ID         0.000000         0.000001            0.052           0.958\n",
            "L1.holiday           -0.000022         0.000011           -2.081           0.037\n",
            "L1.school            -0.000002         0.000003           -0.563           0.573\n",
            "================================================================================\n",
            "\n",
            "Results for equation TQL_dav\n",
            "================================================================================\n",
            "                   coefficient       std. error           t-stat            prob\n",
            "--------------------------------------------------------------------------------\n",
            "const                -0.007419         0.002621           -2.831           0.005\n",
            "L1.nat_demand         0.000001         0.000001            1.102           0.270\n",
            "L1.T2M_toc           -0.002768         0.000188          -14.696           0.000\n",
            "L1.QV2M_toc           0.557114         0.136539            4.080           0.000\n",
            "L1.TQL_toc            0.028542         0.001900           15.023           0.000\n",
            "L1.W2M_toc            0.000073         0.000022            3.280           0.001\n",
            "L1.T2M_san           -0.001436         0.000138          -10.409           0.000\n",
            "L1.QV2M_san           1.366702         0.166120            8.227           0.000\n",
            "L1.TQL_san            0.035303         0.001843           19.153           0.000\n",
            "L1.W2M_san           -0.000600         0.000043          -13.837           0.000\n",
            "L1.T2M_dav            0.005251         0.000149           35.261           0.000\n",
            "L1.QV2M_dav          -2.429026         0.180707          -13.442           0.000\n",
            "L1.TQL_dav            0.950568         0.001661          572.261           0.000\n",
            "L1.W2M_dav            0.000860         0.000080           10.783           0.000\n",
            "L1.Holiday_ID         0.000059         0.000059            1.001           0.317\n",
            "L1.holiday           -0.000271         0.000801           -0.338           0.736\n",
            "L1.school            -0.001393         0.000243           -5.727           0.000\n",
            "================================================================================\n",
            "\n",
            "Results for equation W2M_dav\n",
            "================================================================================\n",
            "                   coefficient       std. error           t-stat            prob\n",
            "--------------------------------------------------------------------------------\n",
            "const                 0.529344         0.060146            8.801           0.000\n",
            "L1.nat_demand         0.000184         0.000016           11.398           0.000\n",
            "L1.T2M_toc           -0.074015         0.004322          -17.123           0.000\n",
            "L1.QV2M_toc          17.341233         3.133857            5.534           0.000\n",
            "L1.TQL_toc           -0.046556         0.043607           -1.068           0.286\n",
            "L1.W2M_toc           -0.000576         0.000512           -1.125           0.260\n",
            "L1.T2M_san           -0.065945         0.003166          -20.831           0.000\n",
            "L1.QV2M_san         -30.850959         3.812813           -8.091           0.000\n",
            "L1.TQL_san            0.282379         0.042305            6.675           0.000\n",
            "L1.W2M_san           -0.003782         0.000995           -3.799           0.000\n",
            "L1.T2M_dav            0.134527         0.003418           39.358           0.000\n",
            "L1.QV2M_dav           4.921946         4.147615            1.187           0.235\n",
            "L1.TQL_dav           -0.059723         0.038125           -1.567           0.117\n",
            "L1.W2M_dav            0.974824         0.001830          532.813           0.000\n",
            "L1.Holiday_ID        -0.002320         0.001344           -1.726           0.084\n",
            "L1.holiday            0.065836         0.018389            3.580           0.000\n",
            "L1.school            -0.014897         0.005581           -2.669           0.008\n",
            "================================================================================\n",
            "\n",
            "Results for equation Holiday_ID\n",
            "================================================================================\n",
            "                   coefficient       std. error           t-stat            prob\n",
            "--------------------------------------------------------------------------------\n",
            "const                -0.009256         0.115511           -0.080           0.936\n",
            "L1.nat_demand        -0.000079         0.000031           -2.537           0.011\n",
            "L1.T2M_toc            0.003211         0.008301            0.387           0.699\n",
            "L1.QV2M_toc           0.300905         6.018606            0.050           0.960\n",
            "L1.TQL_toc            0.026954         0.083748            0.322           0.748\n",
            "L1.W2M_toc           -0.000645         0.000983           -0.656           0.512\n",
            "L1.T2M_san           -0.001698         0.006080           -0.279           0.780\n",
            "L1.QV2M_san           3.669723         7.322548            0.501           0.616\n",
            "L1.TQL_san           -0.000362         0.081247           -0.004           0.996\n",
            "L1.W2M_san            0.002243         0.001912            1.173           0.241\n",
            "L1.T2M_dav            0.003113         0.006564            0.474           0.635\n",
            "L1.QV2M_dav          -4.717033         7.965540           -0.592           0.554\n",
            "L1.TQL_dav            0.039773         0.073220            0.543           0.587\n",
            "L1.W2M_dav           -0.000191         0.003514           -0.054           0.957\n",
            "L1.Holiday_ID         0.963725         0.002582          373.280           0.000\n",
            "L1.holiday            0.120903         0.035317            3.423           0.001\n",
            "L1.school            -0.006921         0.010719           -0.646           0.518\n",
            "================================================================================\n",
            "\n",
            "Results for equation holiday\n",
            "================================================================================\n",
            "                   coefficient       std. error           t-stat            prob\n",
            "--------------------------------------------------------------------------------\n",
            "const                 0.000196         0.007590            0.026           0.979\n",
            "L1.nat_demand        -0.000007         0.000002           -3.488           0.000\n",
            "L1.T2M_toc            0.000110         0.000545            0.202           0.840\n",
            "L1.QV2M_toc          -0.169077         0.395484           -0.428           0.669\n",
            "L1.TQL_toc            0.001518         0.005503            0.276           0.783\n",
            "L1.W2M_toc           -0.000025         0.000065           -0.388           0.698\n",
            "L1.T2M_san           -0.000103         0.000400           -0.257           0.797\n",
            "L1.QV2M_san           0.215469         0.481166            0.448           0.654\n",
            "L1.TQL_san           -0.003263         0.005339           -0.611           0.541\n",
            "L1.W2M_san            0.000194         0.000126            1.542           0.123\n",
            "L1.T2M_dav            0.000387         0.000431            0.898           0.369\n",
            "L1.QV2M_dav          -0.105285         0.523417           -0.201           0.841\n",
            "L1.TQL_dav            0.002490         0.004811            0.518           0.605\n",
            "L1.W2M_dav            0.000077         0.000231            0.332           0.740\n",
            "L1.Holiday_ID        -0.000429         0.000170           -2.530           0.011\n",
            "L1.holiday            0.982460         0.002321          423.349           0.000\n",
            "L1.school            -0.000882         0.000704           -1.252           0.210\n",
            "================================================================================\n",
            "\n",
            "Results for equation school\n",
            "================================================================================\n",
            "                   coefficient       std. error           t-stat            prob\n",
            "--------------------------------------------------------------------------------\n",
            "const                -0.002832         0.004007           -0.707           0.480\n",
            "L1.nat_demand        -0.000002         0.000001           -2.151           0.031\n",
            "L1.T2M_toc            0.000241         0.000288            0.838           0.402\n",
            "L1.QV2M_toc          -0.000287         0.208761           -0.001           0.999\n",
            "L1.TQL_toc            0.004448         0.002905            1.531           0.126\n",
            "L1.W2M_toc            0.000001         0.000034            0.036           0.971\n",
            "L1.T2M_san            0.000090         0.000211            0.425           0.671\n",
            "L1.QV2M_san          -0.297625         0.253990           -1.172           0.241\n",
            "L1.TQL_san            0.003698         0.002818            1.312           0.189\n",
            "L1.W2M_san            0.000027         0.000066            0.413           0.680\n",
            "L1.T2M_dav           -0.000131         0.000228           -0.574           0.566\n",
            "L1.QV2M_dav           0.350239         0.276293            1.268           0.205\n",
            "L1.TQL_dav           -0.000798         0.002540           -0.314           0.753\n",
            "L1.W2M_dav            0.000001         0.000122            0.005           0.996\n",
            "L1.Holiday_ID         0.000051         0.000090            0.567           0.571\n",
            "L1.holiday           -0.001313         0.001225           -1.072           0.284\n",
            "L1.school             0.997754         0.000372         2683.671           0.000\n",
            "================================================================================\n",
            "\n",
            "Correlation matrix of residuals\n",
            "              nat_demand   T2M_toc  QV2M_toc   TQL_toc   W2M_toc   T2M_san  QV2M_san   TQL_san   W2M_san   T2M_dav  QV2M_dav   TQL_dav   W2M_dav  Holiday_ID   holiday    school\n",
            "nat_demand      1.000000  0.570283  0.000774  0.124841  0.220924  0.588710  0.064640  0.116156  0.342006  0.556741  0.034247  0.073098  0.009649   -0.004089 -0.006523  0.001832\n",
            "T2M_toc         0.570283  1.000000 -0.332095  0.203035  0.252282  0.927656 -0.048664  0.186986  0.454252  0.873553 -0.165931  0.089684  0.001677   -0.001984 -0.002300  0.003200\n",
            "QV2M_toc        0.000774 -0.332095  1.000000 -0.081586 -0.033345 -0.300961  0.305440 -0.113041 -0.171326 -0.300999  0.282538 -0.020130 -0.110058    0.000168 -0.000578  0.002224\n",
            "TQL_toc         0.124841  0.203035 -0.081586  1.000000  0.011332  0.201742 -0.066493  0.245284  0.120413  0.239695 -0.105626  0.126528  0.105005    0.003202  0.002032  0.008519\n",
            "W2M_toc         0.220924  0.252282 -0.033345  0.011332  1.000000  0.280652  0.185047 -0.007828  0.504166  0.168396  0.136422 -0.019405  0.158428   -0.002501 -0.003046 -0.005857\n",
            "T2M_san         0.588710  0.927656 -0.300961  0.201742  0.280652  1.000000 -0.121197  0.164573  0.426202  0.909073 -0.208274  0.052546 -0.048275   -0.001544 -0.001742  0.003670\n",
            "QV2M_san        0.064640 -0.048664  0.305440 -0.066493  0.185047 -0.121197  1.000000  0.025436  0.099086 -0.211032  0.584697  0.051704  0.025304    0.000030 -0.000766 -0.000000\n",
            "TQL_san         0.116156  0.186986 -0.113041  0.245284 -0.007828  0.164573  0.025436  1.000000  0.061686  0.201421 -0.049507  0.275154  0.149987   -0.003355 -0.003151  0.003587\n",
            "W2M_san         0.342006  0.454252 -0.171326  0.120413  0.504166  0.426202  0.099086  0.061686  1.000000  0.322188  0.048201  0.043256  0.326278   -0.002003 -0.001897  0.001876\n",
            "T2M_dav         0.556741  0.873553 -0.300999  0.239695  0.168396  0.909073 -0.211032  0.201421  0.322188  1.000000 -0.368096  0.079705 -0.069000   -0.000546 -0.000473  0.003869\n",
            "QV2M_dav        0.034247 -0.165931  0.282538 -0.105626  0.136422 -0.208274  0.584697 -0.049507  0.048201 -0.368096  1.000000  0.076518  0.016984    0.000938  0.000205  0.000515\n",
            "TQL_dav         0.073098  0.089684 -0.020130  0.126528 -0.019405  0.052546  0.051704  0.275154  0.043256  0.079705  0.076518  1.000000  0.097873   -0.004755 -0.004846  0.008699\n",
            "W2M_dav         0.009649  0.001677 -0.110058  0.105005  0.158428 -0.048275  0.025304  0.149987  0.326278 -0.069000  0.016984  0.097873  1.000000   -0.000512  0.000078  0.002821\n",
            "Holiday_ID     -0.004089 -0.001984  0.000168  0.003202 -0.002501 -0.001544  0.000030 -0.003355 -0.002003 -0.000546  0.000938 -0.004755 -0.000512    1.000000  0.858980 -0.000323\n",
            "holiday        -0.006523 -0.002300 -0.000578  0.002032 -0.003046 -0.001742 -0.000766 -0.003151 -0.001897 -0.000473  0.000205 -0.004846  0.000078    0.858980  1.000000 -0.000551\n",
            "school          0.001832  0.003200  0.002224  0.008519 -0.005857  0.003670 -0.000000  0.003587  0.001876  0.003869  0.000515  0.008699  0.002821   -0.000323 -0.000551  1.000000\n",
            "\n",
            "\n",
            "\n"
          ]
        }
      ]
    },
    {
      "cell_type": "markdown",
      "source": [
        "Forecast on the test data and evaluate using RMSE and MAPE"
      ],
      "metadata": {
        "id": "vlUxdSOnBHh6"
      }
    },
    {
      "cell_type": "code",
      "source": [
        "from sklearn.metrics import mean_squared_error\n",
        "from math import sqrt\n",
        "\n",
        "# Make forecast\n",
        "lag_order = model_fitted.k_ar\n",
        "forecast_input = train_data.values[-lag_order:]\n",
        "forecast = model_fitted.forecast(y=forecast_input, steps=len(test_data))\n",
        "forecast_df = pd.DataFrame(forecast, index=test_data.index, columns=test_data.columns)\n",
        "\n",
        "# Calculate RMSE for 'nat_demand'\n",
        "rmse = sqrt(mean_squared_error(test_data['nat_demand'], forecast_df['nat_demand']))\n",
        "print('RMSE:', rmse)\n",
        "\n",
        "# Calculate MAPE for 'nat_demand'\n",
        "def mean_absolute_percentage_error(y_true, y_pred):\n",
        "    y_true, y_pred = np.array(y_true), np.array(y_pred)\n",
        "    return np.mean(np.abs((y_true - y_pred) / y_true)) * 100\n",
        "\n",
        "mape = mean_absolute_percentage_error(test_data['nat_demand'], forecast_df['nat_demand'])\n",
        "print('MAPE:', mape)"
      ],
      "metadata": {
        "colab": {
          "base_uri": "https://localhost:8080/"
        },
        "id": "oW-hQt55BMP4",
        "outputId": "0af412c2-477d-46bf-e387-f4497d7b8dfe"
      },
      "execution_count": null,
      "outputs": [
        {
          "output_type": "stream",
          "name": "stdout",
          "text": [
            "RMSE: 203.83439503188475\n",
            "MAPE: 13.158437258097386\n"
          ]
        }
      ]
    },
    {
      "cell_type": "markdown",
      "source": [
        "# Vector Error Correction Model"
      ],
      "metadata": {
        "id": "meuTq1L4D30k"
      }
    },
    {
      "cell_type": "markdown",
      "source": [
        "Cointegration Test"
      ],
      "metadata": {
        "id": "w0ntg1owHVti"
      }
    },
    {
      "cell_type": "code",
      "source": [
        "df.columns"
      ],
      "metadata": {
        "colab": {
          "base_uri": "https://localhost:8080/"
        },
        "id": "qH4cCi0gI5Si",
        "outputId": "5e7d3ac5-441b-46d5-8054-8f6ab8794028"
      },
      "execution_count": null,
      "outputs": [
        {
          "output_type": "execute_result",
          "data": {
            "text/plain": [
              "Index(['nat_demand', 'T2M_toc', 'QV2M_toc', 'TQL_toc', 'W2M_toc', 'T2M_san',\n",
              "       'QV2M_san', 'TQL_san', 'W2M_san', 'T2M_dav', 'QV2M_dav', 'TQL_dav',\n",
              "       'W2M_dav', 'Holiday_ID', 'holiday', 'school'],\n",
              "      dtype='object')"
            ]
          },
          "metadata": {},
          "execution_count": 19
        }
      ]
    },
    {
      "cell_type": "code",
      "source": [
        "from statsmodels.tsa.stattools import coint\n",
        "selected_vars = df[['nat_demand', 'T2M_toc', 'QV2M_toc']]\n",
        "display(selected_vars.head())"
      ],
      "metadata": {
        "colab": {
          "base_uri": "https://localhost:8080/",
          "height": 237
        },
        "id": "9E-1_G8DHuz6",
        "outputId": "dba9091e-8dc9-4867-ebb7-e1a4fc8e662b"
      },
      "execution_count": null,
      "outputs": [
        {
          "output_type": "display_data",
          "data": {
            "text/plain": [
              "                     nat_demand    T2M_toc  QV2M_toc\n",
              "datetime                                            \n",
              "2015-01-03 01:00:00    970.3450  25.865259  0.018576\n",
              "2015-01-03 02:00:00    912.1755  25.899255  0.018653\n",
              "2015-01-03 03:00:00    900.2688  25.937280  0.018768\n",
              "2015-01-03 04:00:00    889.9538  25.957544  0.018890\n",
              "2015-01-03 05:00:00    893.6865  25.973840  0.018981"
            ],
            "text/html": [
              "\n",
              "  <div id=\"df-f858f5f2-4446-41c9-a35f-eb98994e72e7\" class=\"colab-df-container\">\n",
              "    <div>\n",
              "<style scoped>\n",
              "    .dataframe tbody tr th:only-of-type {\n",
              "        vertical-align: middle;\n",
              "    }\n",
              "\n",
              "    .dataframe tbody tr th {\n",
              "        vertical-align: top;\n",
              "    }\n",
              "\n",
              "    .dataframe thead th {\n",
              "        text-align: right;\n",
              "    }\n",
              "</style>\n",
              "<table border=\"1\" class=\"dataframe\">\n",
              "  <thead>\n",
              "    <tr style=\"text-align: right;\">\n",
              "      <th></th>\n",
              "      <th>nat_demand</th>\n",
              "      <th>T2M_toc</th>\n",
              "      <th>QV2M_toc</th>\n",
              "    </tr>\n",
              "    <tr>\n",
              "      <th>datetime</th>\n",
              "      <th></th>\n",
              "      <th></th>\n",
              "      <th></th>\n",
              "    </tr>\n",
              "  </thead>\n",
              "  <tbody>\n",
              "    <tr>\n",
              "      <th>2015-01-03 01:00:00</th>\n",
              "      <td>970.3450</td>\n",
              "      <td>25.865259</td>\n",
              "      <td>0.018576</td>\n",
              "    </tr>\n",
              "    <tr>\n",
              "      <th>2015-01-03 02:00:00</th>\n",
              "      <td>912.1755</td>\n",
              "      <td>25.899255</td>\n",
              "      <td>0.018653</td>\n",
              "    </tr>\n",
              "    <tr>\n",
              "      <th>2015-01-03 03:00:00</th>\n",
              "      <td>900.2688</td>\n",
              "      <td>25.937280</td>\n",
              "      <td>0.018768</td>\n",
              "    </tr>\n",
              "    <tr>\n",
              "      <th>2015-01-03 04:00:00</th>\n",
              "      <td>889.9538</td>\n",
              "      <td>25.957544</td>\n",
              "      <td>0.018890</td>\n",
              "    </tr>\n",
              "    <tr>\n",
              "      <th>2015-01-03 05:00:00</th>\n",
              "      <td>893.6865</td>\n",
              "      <td>25.973840</td>\n",
              "      <td>0.018981</td>\n",
              "    </tr>\n",
              "  </tbody>\n",
              "</table>\n",
              "</div>\n",
              "    <div class=\"colab-df-buttons\">\n",
              "\n",
              "  <div class=\"colab-df-container\">\n",
              "    <button class=\"colab-df-convert\" onclick=\"convertToInteractive('df-f858f5f2-4446-41c9-a35f-eb98994e72e7')\"\n",
              "            title=\"Convert this dataframe to an interactive table.\"\n",
              "            style=\"display:none;\">\n",
              "\n",
              "  <svg xmlns=\"http://www.w3.org/2000/svg\" height=\"24px\" viewBox=\"0 -960 960 960\">\n",
              "    <path d=\"M120-120v-720h720v720H120Zm60-500h600v-160H180v160Zm220 220h160v-160H400v160Zm0 220h160v-160H400v160ZM180-400h160v-160H180v160Zm440 0h160v-160H620v160ZM180-180h160v-160H180v160Zm440 0h160v-160H620v160Z\"/>\n",
              "  </svg>\n",
              "    </button>\n",
              "\n",
              "  <style>\n",
              "    .colab-df-container {\n",
              "      display:flex;\n",
              "      gap: 12px;\n",
              "    }\n",
              "\n",
              "    .colab-df-convert {\n",
              "      background-color: #E8F0FE;\n",
              "      border: none;\n",
              "      border-radius: 50%;\n",
              "      cursor: pointer;\n",
              "      display: none;\n",
              "      fill: #1967D2;\n",
              "      height: 32px;\n",
              "      padding: 0 0 0 0;\n",
              "      width: 32px;\n",
              "    }\n",
              "\n",
              "    .colab-df-convert:hover {\n",
              "      background-color: #E2EBFA;\n",
              "      box-shadow: 0px 1px 2px rgba(60, 64, 67, 0.3), 0px 1px 3px 1px rgba(60, 64, 67, 0.15);\n",
              "      fill: #174EA6;\n",
              "    }\n",
              "\n",
              "    .colab-df-buttons div {\n",
              "      margin-bottom: 4px;\n",
              "    }\n",
              "\n",
              "    [theme=dark] .colab-df-convert {\n",
              "      background-color: #3B4455;\n",
              "      fill: #D2E3FC;\n",
              "    }\n",
              "\n",
              "    [theme=dark] .colab-df-convert:hover {\n",
              "      background-color: #434B5C;\n",
              "      box-shadow: 0px 1px 3px 1px rgba(0, 0, 0, 0.15);\n",
              "      filter: drop-shadow(0px 1px 2px rgba(0, 0, 0, 0.3));\n",
              "      fill: #FFFFFF;\n",
              "    }\n",
              "  </style>\n",
              "\n",
              "    <script>\n",
              "      const buttonEl =\n",
              "        document.querySelector('#df-f858f5f2-4446-41c9-a35f-eb98994e72e7 button.colab-df-convert');\n",
              "      buttonEl.style.display =\n",
              "        google.colab.kernel.accessAllowed ? 'block' : 'none';\n",
              "\n",
              "      async function convertToInteractive(key) {\n",
              "        const element = document.querySelector('#df-f858f5f2-4446-41c9-a35f-eb98994e72e7');\n",
              "        const dataTable =\n",
              "          await google.colab.kernel.invokeFunction('convertToInteractive',\n",
              "                                                    [key], {});\n",
              "        if (!dataTable) return;\n",
              "\n",
              "        const docLinkHtml = 'Like what you see? Visit the ' +\n",
              "          '<a target=\"_blank\" href=https://colab.research.google.com/notebooks/data_table.ipynb>data table notebook</a>'\n",
              "          + ' to learn more about interactive tables.';\n",
              "        element.innerHTML = '';\n",
              "        dataTable['output_type'] = 'display_data';\n",
              "        await google.colab.output.renderOutput(dataTable, element);\n",
              "        const docLink = document.createElement('div');\n",
              "        docLink.innerHTML = docLinkHtml;\n",
              "        element.appendChild(docLink);\n",
              "      }\n",
              "    </script>\n",
              "  </div>\n",
              "\n",
              "\n",
              "    <div id=\"df-a143c02e-bf34-495d-89dc-e18f0a4d36b5\">\n",
              "      <button class=\"colab-df-quickchart\" onclick=\"quickchart('df-a143c02e-bf34-495d-89dc-e18f0a4d36b5')\"\n",
              "                title=\"Suggest charts\"\n",
              "                style=\"display:none;\">\n",
              "\n",
              "<svg xmlns=\"http://www.w3.org/2000/svg\" height=\"24px\"viewBox=\"0 0 24 24\"\n",
              "     width=\"24px\">\n",
              "    <g>\n",
              "        <path d=\"M19 3H5c-1.1 0-2 .9-2 2v14c0 1.1.9 2 2 2h14c1.1 0 2-.9 2-2V5c0-1.1-.9-2-2-2zM9 17H7v-7h2v7zm4 0h-2V7h2v10zm4 0h-2v-4h2v4z\"/>\n",
              "    </g>\n",
              "</svg>\n",
              "      </button>\n",
              "\n",
              "<style>\n",
              "  .colab-df-quickchart {\n",
              "      --bg-color: #E8F0FE;\n",
              "      --fill-color: #1967D2;\n",
              "      --hover-bg-color: #E2EBFA;\n",
              "      --hover-fill-color: #174EA6;\n",
              "      --disabled-fill-color: #AAA;\n",
              "      --disabled-bg-color: #DDD;\n",
              "  }\n",
              "\n",
              "  [theme=dark] .colab-df-quickchart {\n",
              "      --bg-color: #3B4455;\n",
              "      --fill-color: #D2E3FC;\n",
              "      --hover-bg-color: #434B5C;\n",
              "      --hover-fill-color: #FFFFFF;\n",
              "      --disabled-bg-color: #3B4455;\n",
              "      --disabled-fill-color: #666;\n",
              "  }\n",
              "\n",
              "  .colab-df-quickchart {\n",
              "    background-color: var(--bg-color);\n",
              "    border: none;\n",
              "    border-radius: 50%;\n",
              "    cursor: pointer;\n",
              "    display: none;\n",
              "    fill: var(--fill-color);\n",
              "    height: 32px;\n",
              "    padding: 0;\n",
              "    width: 32px;\n",
              "  }\n",
              "\n",
              "  .colab-df-quickchart:hover {\n",
              "    background-color: var(--hover-bg-color);\n",
              "    box-shadow: 0 1px 2px rgba(60, 64, 67, 0.3), 0 1px 3px 1px rgba(60, 64, 67, 0.15);\n",
              "    fill: var(--button-hover-fill-color);\n",
              "  }\n",
              "\n",
              "  .colab-df-quickchart-complete:disabled,\n",
              "  .colab-df-quickchart-complete:disabled:hover {\n",
              "    background-color: var(--disabled-bg-color);\n",
              "    fill: var(--disabled-fill-color);\n",
              "    box-shadow: none;\n",
              "  }\n",
              "\n",
              "  .colab-df-spinner {\n",
              "    border: 2px solid var(--fill-color);\n",
              "    border-color: transparent;\n",
              "    border-bottom-color: var(--fill-color);\n",
              "    animation:\n",
              "      spin 1s steps(1) infinite;\n",
              "  }\n",
              "\n",
              "  @keyframes spin {\n",
              "    0% {\n",
              "      border-color: transparent;\n",
              "      border-bottom-color: var(--fill-color);\n",
              "      border-left-color: var(--fill-color);\n",
              "    }\n",
              "    20% {\n",
              "      border-color: transparent;\n",
              "      border-left-color: var(--fill-color);\n",
              "      border-top-color: var(--fill-color);\n",
              "    }\n",
              "    30% {\n",
              "      border-color: transparent;\n",
              "      border-left-color: var(--fill-color);\n",
              "      border-top-color: var(--fill-color);\n",
              "      border-right-color: var(--fill-color);\n",
              "    }\n",
              "    40% {\n",
              "      border-color: transparent;\n",
              "      border-right-color: var(--fill-color);\n",
              "      border-top-color: var(--fill-color);\n",
              "    }\n",
              "    60% {\n",
              "      border-color: transparent;\n",
              "      border-right-color: var(--fill-color);\n",
              "    }\n",
              "    80% {\n",
              "      border-color: transparent;\n",
              "      border-right-color: var(--fill-color);\n",
              "      border-bottom-color: var(--fill-color);\n",
              "    }\n",
              "    90% {\n",
              "      border-color: transparent;\n",
              "      border-bottom-color: var(--fill-color);\n",
              "    }\n",
              "  }\n",
              "</style>\n",
              "\n",
              "      <script>\n",
              "        async function quickchart(key) {\n",
              "          const quickchartButtonEl =\n",
              "            document.querySelector('#' + key + ' button');\n",
              "          quickchartButtonEl.disabled = true;  // To prevent multiple clicks.\n",
              "          quickchartButtonEl.classList.add('colab-df-spinner');\n",
              "          try {\n",
              "            const charts = await google.colab.kernel.invokeFunction(\n",
              "                'suggestCharts', [key], {});\n",
              "          } catch (error) {\n",
              "            console.error('Error during call to suggestCharts:', error);\n",
              "          }\n",
              "          quickchartButtonEl.classList.remove('colab-df-spinner');\n",
              "          quickchartButtonEl.classList.add('colab-df-quickchart-complete');\n",
              "        }\n",
              "        (() => {\n",
              "          let quickchartButtonEl =\n",
              "            document.querySelector('#df-a143c02e-bf34-495d-89dc-e18f0a4d36b5 button');\n",
              "          quickchartButtonEl.style.display =\n",
              "            google.colab.kernel.accessAllowed ? 'block' : 'none';\n",
              "        })();\n",
              "      </script>\n",
              "    </div>\n",
              "\n",
              "    </div>\n",
              "  </div>\n"
            ],
            "application/vnd.google.colaboratory.intrinsic+json": {
              "type": "dataframe",
              "summary": "{\n  \"name\": \"display(selected_vars\",\n  \"rows\": 5,\n  \"fields\": [\n    {\n      \"column\": \"datetime\",\n      \"properties\": {\n        \"dtype\": \"date\",\n        \"min\": \"2015-01-03 01:00:00\",\n        \"max\": \"2015-01-03 05:00:00\",\n        \"num_unique_values\": 5,\n        \"samples\": [\n          \"2015-01-03 02:00:00\",\n          \"2015-01-03 05:00:00\",\n          \"2015-01-03 03:00:00\"\n        ],\n        \"semantic_type\": \"\",\n        \"description\": \"\"\n      }\n    },\n    {\n      \"column\": \"nat_demand\",\n      \"properties\": {\n        \"dtype\": \"number\",\n        \"std\": 32.99599272695095,\n        \"min\": 889.9538,\n        \"max\": 970.345,\n        \"num_unique_values\": 5,\n        \"samples\": [\n          912.1755,\n          893.6865,\n          900.2688\n        ],\n        \"semantic_type\": \"\",\n        \"description\": \"\"\n      }\n    },\n    {\n      \"column\": \"T2M_toc\",\n      \"properties\": {\n        \"dtype\": \"number\",\n        \"std\": 0.04419760014421863,\n        \"min\": 25.86525879,\n        \"max\": 25.97384033,\n        \"num_unique_values\": 5,\n        \"samples\": [\n          25.89925537,\n          25.97384033,\n          25.93728027\n        ],\n        \"semantic_type\": \"\",\n        \"description\": \"\"\n      }\n    },\n    {\n      \"column\": \"QV2M_toc\",\n      \"properties\": {\n        \"dtype\": \"number\",\n        \"std\": 0.00016586247490406103,\n        \"min\": 0.018576382,\n        \"max\": 0.018981151,\n        \"num_unique_values\": 5,\n        \"samples\": [\n          0.018653292,\n          0.018981151,\n          0.01876786\n        ],\n        \"semantic_type\": \"\",\n        \"description\": \"\"\n      }\n    }\n  ]\n}"
            }
          },
          "metadata": {}
        }
      ]
    },
    {
      "cell_type": "markdown",
      "source": [
        "- Null Hypothesis: Cointegration does not exist\n",
        "- Alternate Hypothesis: Cointegration Exists"
      ],
      "metadata": {
        "id": "bed9f9ASJ9uC"
      }
    },
    {
      "cell_type": "code",
      "source": [
        "coint_result = coint(selected_vars['nat_demand'], selected_vars['T2M_toc'])\n",
        "print('Cointegration Test Results:')\n",
        "print('Cointegration Statistic:', coint_result[0])\n",
        "print('p-value:', coint_result[1])"
      ],
      "metadata": {
        "colab": {
          "base_uri": "https://localhost:8080/"
        },
        "id": "wnORijpcJk0Q",
        "outputId": "91ca4d59-e0f2-4bbe-8d09-b5ec4ded00cf"
      },
      "execution_count": null,
      "outputs": [
        {
          "output_type": "stream",
          "name": "stdout",
          "text": [
            "Cointegration Test Results:\n",
            "Cointegration Statistic: -19.20825661972982\n",
            "p-value: 0.0\n"
          ]
        }
      ]
    },
    {
      "cell_type": "code",
      "source": [
        "coint_result = coint(selected_vars['nat_demand'], selected_vars['QV2M_toc'])\n",
        "print('Cointegration Test Results:')\n",
        "print('Cointegration Statistic:', coint_result[0])\n",
        "print('p-value:', coint_result[1])"
      ],
      "metadata": {
        "colab": {
          "base_uri": "https://localhost:8080/"
        },
        "id": "IOTrHR1fJxPf",
        "outputId": "5b93458d-4bd8-4283-ddfd-e36c57fee59b"
      },
      "execution_count": null,
      "outputs": [
        {
          "output_type": "stream",
          "name": "stdout",
          "text": [
            "Cointegration Test Results:\n",
            "Cointegration Statistic: -21.219807267157947\n",
            "p-value: 0.0\n"
          ]
        }
      ]
    },
    {
      "cell_type": "markdown",
      "source": [
        "P values is less than 0.05 indicating that we accept the alternate hypothesis of cointegration existing\n"
      ],
      "metadata": {
        "id": "AeEwJMKIKGfJ"
      }
    },
    {
      "cell_type": "code",
      "source": [
        "train_size_selected = int(len(selected_vars) * 0.8)\n",
        "train_data_selected, test_data_selected = selected_vars[0:train_size_selected], selected_vars[train_size_selected:]\n",
        "\n",
        "print('Training data shape (selected variables):', train_data_selected.shape)\n",
        "print('Testing data shape (selected variables):', test_data_selected.shape)"
      ],
      "metadata": {
        "colab": {
          "base_uri": "https://localhost:8080/"
        },
        "id": "AxA_BUTNKySv",
        "outputId": "4408a71d-93ee-41cc-a667-1760c84a6b52"
      },
      "execution_count": null,
      "outputs": [
        {
          "output_type": "stream",
          "name": "stdout",
          "text": [
            "Training data shape (selected variables): (35020, 3)\n",
            "Testing data shape (selected variables): (8755, 3)\n"
          ]
        }
      ]
    },
    {
      "cell_type": "code",
      "source": [
        "from statsmodels.tsa.vector_ar.vecm import select_order"
      ],
      "metadata": {
        "id": "eweYmB-qLdcg"
      },
      "execution_count": null,
      "outputs": []
    },
    {
      "cell_type": "code",
      "source": [
        "vecm_order_results = select_order(train_data_selected, maxlags=10, deterministic='ci')\n",
        "print(vecm_order_results.summary())"
      ],
      "metadata": {
        "colab": {
          "base_uri": "https://localhost:8080/"
        },
        "id": "sBA97ZFNLpOE",
        "outputId": "faf8146c-1198-4b26-f9e9-f9a5d7508baf"
      },
      "execution_count": null,
      "outputs": [
        {
          "output_type": "stream",
          "name": "stdout",
          "text": [
            " VECM Order Selection (* highlights the minimums) \n",
            "==================================================\n",
            "       AIC         BIC         FPE         HQIC   \n",
            "--------------------------------------------------\n",
            "0       -11.20      -11.20   1.367e-05      -11.20\n",
            "1       -13.91      -13.90   9.114e-07      -13.91\n",
            "2       -14.09      -14.08   7.617e-07      -14.09\n",
            "3       -14.15      -14.14   7.145e-07      -14.15\n",
            "4       -14.17      -14.16   6.988e-07      -14.17\n",
            "5       -14.23      -14.22   6.608e-07      -14.23\n",
            "6       -14.27      -14.25   6.373e-07      -14.26\n",
            "7       -14.31      -14.29   6.124e-07      -14.30\n",
            "8       -14.34      -14.32   5.912e-07      -14.33\n",
            "9       -14.39      -14.37   5.618e-07      -14.38\n",
            "10     -14.46*     -14.44*  5.235e-07*     -14.45*\n",
            "--------------------------------------------------\n"
          ]
        }
      ]
    },
    {
      "cell_type": "markdown",
      "source": [
        "Apply VECM models for 10 lags"
      ],
      "metadata": {
        "id": "xEKay96LNEeO"
      }
    },
    {
      "cell_type": "code",
      "source": [
        "#from statsmodels.tsa.vector_ar.vecm import VECM\n",
        "#vecm_model = VECM(train_data_selected, k_ar_diff=11, deterministic='ci')\n",
        "#vecm_results = vecm_model.fit()"
      ],
      "metadata": {
        "id": "CqnbPDlfNGPz"
      },
      "execution_count": null,
      "outputs": []
    },
    {
      "cell_type": "markdown",
      "source": [
        "# VARMA"
      ],
      "metadata": {
        "id": "TQ2KVitFn4CP"
      }
    },
    {
      "cell_type": "markdown",
      "metadata": {
        "id": "357b0eb8"
      },
      "source": [
        "Divide the selected variables data into Training & Testing"
      ]
    },
    {
      "cell_type": "code",
      "metadata": {
        "colab": {
          "base_uri": "https://localhost:8080/"
        },
        "id": "821648fe",
        "outputId": "ec7061f7-e571-4776-a925-9c3a126f90a1"
      },
      "source": [
        "# Define the split point (e.g., 80% for training, 20% for testing)\n",
        "train_size_selected_varma = int(len(selected_vars) * 0.8)\n",
        "train_data_selected_varma, test_data_selected_varma = selected_vars[0:train_size_selected_varma], selected_vars[train_size_selected_varma:]\n",
        "\n",
        "print('Training data shape (selected variables for VARMA):', train_data_selected_varma.shape)\n",
        "print('Testing data shape (selected variables for VARMA):', test_data_selected_varma.shape)"
      ],
      "execution_count": null,
      "outputs": [
        {
          "output_type": "stream",
          "name": "stdout",
          "text": [
            "Training data shape (selected variables for VARMA): (35020, 3)\n",
            "Testing data shape (selected variables for VARMA): (8755, 3)\n"
          ]
        }
      ]
    },
    {
      "cell_type": "markdown",
      "metadata": {
        "id": "1253f8da"
      },
      "source": [
        "Determine the optimal order for the VARMA model using the selected variables"
      ]
    },
    {
      "cell_type": "code",
      "metadata": {
        "colab": {
          "base_uri": "https://localhost:8080/"
        },
        "id": "f6d541d3",
        "outputId": "08fd7271-9c20-4533-bb34-43565767371a"
      },
      "source": [
        "# Determine VARMA order (p,q) using BIC\n",
        "import warnings\n",
        "warnings.filterwarnings(\"ignore\")\n",
        "\n",
        "best_bic_varma = float('inf')\n",
        "best_order_varma = (0, 0)\n",
        "max_lag_varma = 2 # Restrict search for demonstration\n",
        "\n",
        "for p in range(max_lag_varma + 1):\n",
        "    for q in range(max_lag_varma + 1):\n",
        "        if p == 0 and q == 0:\n",
        "            continue\n",
        "        try:\n",
        "            model_varma_order = VARMAX(train_data_selected_varma, order=(p, q), enforce_stationarity=False, enforce_invertibility=False)\n",
        "            results_varma_order = model_varma_order.fit(disp=False)\n",
        "            if results_varma_order.bic < best_bic_varma:\n",
        "                best_bic_varma = results_varma_order.bic\n",
        "                best_order_varma = (p, q)\n",
        "            print(f\"Order ({p},{q}): BIC = {results_varma_order.bic}\")\n",
        "        except:\n",
        "            continue\n",
        "\n",
        "print(f\"\\nBest VARMA Order (p,q) based on BIC: {best_order_varma}\")"
      ],
      "execution_count": null,
      "outputs": [
        {
          "output_type": "stream",
          "name": "stdout",
          "text": [
            "\n",
            "Best VARMA Order (p,q) based on BIC: (0, 0)\n"
          ]
        }
      ]
    },
    {
      "cell_type": "markdown",
      "metadata": {
        "id": "91397e46"
      },
      "source": [
        "Apply the VARMA model with the selected order"
      ]
    },
    {
      "cell_type": "code",
      "source": [
        "from statsmodels.tsa.statespace.varmax import VARMAX"
      ],
      "metadata": {
        "id": "CPKqUSHfrdHa"
      },
      "execution_count": null,
      "outputs": []
    },
    {
      "cell_type": "code",
      "metadata": {
        "colab": {
          "base_uri": "https://localhost:8080/"
        },
        "id": "b5470024",
        "outputId": "ffb285e4-e0ab-4d61-a1f8-fb47e6ad386c"
      },
      "source": [
        "# Apply VARMA model\n",
        "varma_model = VARMAX(train_data_selected_varma, order=(1,1), enforce_stationarity=False, enforce_invertibility=False)\n",
        "varma_results = varma_model.fit(disp=False)\n",
        "print(varma_results.summary())"
      ],
      "execution_count": null,
      "outputs": [
        {
          "output_type": "stream",
          "name": "stdout",
          "text": [
            "                                     Statespace Model Results                                    \n",
            "=================================================================================================\n",
            "Dep. Variable:     ['nat_demand', 'T2M_toc', 'QV2M_toc']   No. Observations:                35020\n",
            "Model:                                        VARMA(1,1)   Log Likelihood               66827.194\n",
            "                                             + intercept   AIC                        -133600.388\n",
            "Date:                                   Sun, 26 Oct 2025   BIC                        -133371.869\n",
            "Time:                                           04:26:05   HQIC                       -133527.601\n",
            "Sample:                                       01-03-2015                                         \n",
            "                                            - 01-01-2019                                         \n",
            "Covariance Type:                                     opg                                         \n",
            "=====================================================================================================\n",
            "Ljung-Box (L1) (Q):     1081.82, 1293.59, 236.35   Jarque-Bera (JB):   817869.92, 112628.01, 52783.24\n",
            "Prob(Q):                        0.00, 0.00, 0.00   Prob(JB):                         0.00, 0.00, 0.00\n",
            "Heteroskedasticity (H):         0.88, 0.83, 1.15   Skew:                            0.63, -0.61, 1.05\n",
            "Prob(H) (two-sided):            0.00, 0.00, 0.00   Kurtosis:                       26.64, 11.70, 8.64\n",
            "                          Results for equation nat_demand                           \n",
            "====================================================================================\n",
            "                       coef    std err          z      P>|z|      [0.025      0.975]\n",
            "------------------------------------------------------------------------------------\n",
            "intercept           43.7179   1.77e-06   2.47e+07      0.000      43.718      43.718\n",
            "L1.nat_demand        0.9419      0.001   1338.976      0.000       0.940       0.943\n",
            "L1.T2M_toc           1.2761   4.61e-05   2.77e+04      0.000       1.276       1.276\n",
            "L1.QV2M_toc       -581.0654      3e-08  -1.94e+10      0.000    -581.065    -581.065\n",
            "L1.e(nat_demand)     0.5278      0.003    161.393      0.000       0.521       0.534\n",
            "L1.e(T2M_toc)       33.7581   1.23e-05   2.75e+06      0.000      33.758      33.758\n",
            "L1.e(QV2M_toc)    6.673e+04   3.41e-09   1.96e+13      0.000    6.67e+04    6.67e+04\n",
            "                            Results for equation T2M_toc                            \n",
            "====================================================================================\n",
            "                       coef    std err          z      P>|z|      [0.025      0.975]\n",
            "------------------------------------------------------------------------------------\n",
            "intercept            1.0959   6.09e-05    1.8e+04      0.000       1.096       1.096\n",
            "L1.nat_demand     4.386e-05   3.18e-05      1.381      0.167   -1.84e-05       0.000\n",
            "L1.T2M_toc           0.9593      0.001    701.203      0.000       0.957       0.962\n",
            "L1.QV2M_toc         -1.8534   1.37e-06  -1.35e+06      0.000      -1.853      -1.853\n",
            "L1.e(nat_demand)     0.0008   3.22e-05     25.808      0.000       0.001       0.001\n",
            "L1.e(T2M_toc)        0.8406      0.005    158.475      0.000       0.830       0.851\n",
            "L1.e(QV2M_toc)     142.5362   1.29e-06   1.11e+08      0.000     142.536     142.536\n",
            "                           Results for equation QV2M_toc                            \n",
            "====================================================================================\n",
            "                       coef    std err          z      P>|z|      [0.025      0.975]\n",
            "------------------------------------------------------------------------------------\n",
            "intercept           -0.0003      4e-05     -7.154      0.000      -0.000      -0.000\n",
            "L1.nat_demand    -7.144e-08   1.74e-08     -4.101      0.000   -1.06e-07   -3.73e-08\n",
            "L1.T2M_toc        1.877e-05    1.6e-06     11.756      0.000    1.56e-05    2.19e-05\n",
            "L1.QV2M_toc          0.9922      0.001    840.779      0.000       0.990       0.994\n",
            "L1.e(nat_demand) -3.934e-07   2.16e-08    -18.242      0.000   -4.36e-07   -3.51e-07\n",
            "L1.e(T2M_toc)    -5.269e-05   3.91e-06    -13.468      0.000   -6.04e-05    -4.5e-05\n",
            "L1.e(QV2M_toc)       0.5289      0.005    110.616      0.000       0.520       0.538\n",
            "                                    Error covariance matrix                                     \n",
            "================================================================================================\n",
            "                                   coef    std err          z      P>|z|      [0.025      0.975]\n",
            "------------------------------------------------------------------------------------------------\n",
            "sqrt.var.nat_demand             60.1046   2.99e-05   2.01e+06      0.000      60.104      60.105\n",
            "sqrt.cov.nat_demand.T2M_toc      0.2681      0.002    125.328      0.000       0.264       0.272\n",
            "sqrt.var.T2M_toc                 0.3549      0.002    196.381      0.000       0.351       0.358\n",
            "sqrt.cov.nat_demand.QV2M_toc -7.081e-06    1.7e-06     -4.177      0.000   -1.04e-05   -3.76e-06\n",
            "sqrt.cov.T2M_toc.QV2M_toc    -8.808e-05   1.29e-06    -68.546      0.000   -9.06e-05   -8.56e-05\n",
            "sqrt.var.QV2M_toc                0.0002    5.5e-07    315.239      0.000       0.000       0.000\n",
            "================================================================================================\n",
            "\n",
            "Warnings:\n",
            "[1] Covariance matrix calculated using the outer product of gradients (complex-step).\n",
            "[2] Covariance matrix is singular or near-singular, with condition number 4.92e+24. Standard errors may be unstable.\n"
          ]
        }
      ]
    },
    {
      "cell_type": "markdown",
      "metadata": {
        "id": "f560b933"
      },
      "source": [
        "Forecast on the test data and evaluate using RMSE and MAPE"
      ]
    },
    {
      "cell_type": "code",
      "metadata": {
        "colab": {
          "base_uri": "https://localhost:8080/"
        },
        "id": "e1e57ef3",
        "outputId": "1a84c183-38a3-4fec-8686-b0c7835086fc"
      },
      "source": [
        "# Make forecast\n",
        "varma_forecast = varma_results.forecast(steps=len(test_data_selected_varma))\n",
        "varma_forecast_df = pd.DataFrame(varma_forecast, index=test_data_selected_varma.index, columns=test_data_selected_varma.columns)\n",
        "\n",
        "# Calculate RMSE for 'nat_demand'\n",
        "rmse_varma = sqrt(mean_squared_error(test_data_selected_varma['nat_demand'], varma_forecast_df['nat_demand']))\n",
        "print('VARMA RMSE:', rmse_varma)\n",
        "\n",
        "# Calculate MAPE for 'nat_demand'\n",
        "def mean_absolute_percentage_error(y_true, y_pred):\n",
        "    y_true, y_pred = np.array(y_true), np.array(y_pred)\n",
        "    return np.mean(np.abs((y_true - y_pred) / y_true)) * 100\n",
        "\n",
        "mape_varma = mean_absolute_percentage_error(test_data_selected_varma['nat_demand'], varma_forecast_df['nat_demand'])\n",
        "print('VARMA MAPE:', mape_varma)"
      ],
      "execution_count": null,
      "outputs": [
        {
          "output_type": "stream",
          "name": "stdout",
          "text": [
            "VARMA RMSE: 203.1494476726697\n",
            "VARMA MAPE: 13.152390271990766\n"
          ]
        }
      ]
    },
    {
      "cell_type": "markdown",
      "source": [
        "# Recurrent Neural Network"
      ],
      "metadata": {
        "id": "JkWijQPg_rXu"
      }
    },
    {
      "cell_type": "markdown",
      "source": [
        "Recurrent Neural Network"
      ],
      "metadata": {
        "id": "liz1ywmd5gMn"
      }
    },
    {
      "cell_type": "code",
      "source": [
        "from keras.layers import SimpleRNN, Dense\n",
        "from keras.models import Sequential"
      ],
      "metadata": {
        "id": "d81JQEnt5h4o"
      },
      "execution_count": null,
      "outputs": []
    },
    {
      "cell_type": "code",
      "source": [
        "# Prepare data for RNN\n",
        "from sklearn.preprocessing import MinMaxScaler\n",
        "\n",
        "# Scale the data\n",
        "scaler = MinMaxScaler(feature_range=(0, 1))\n",
        "scaled_data = scaler.fit_transform(df['nat_demand'].values.reshape(-1, 1))\n",
        "\n",
        "# Create sequences\n",
        "def create_dataset(dataset, look_back=1):\n",
        "    X, Y = [], []\n",
        "    for i in range(len(dataset)-look_back-1):\n",
        "        a = dataset[i:(i+look_back), 0]\n",
        "        X.append(a)\n",
        "        Y.append(dataset[i + look_back, 0])\n",
        "    return np.array(X), np.array(Y)\n",
        "\n",
        "look_back = 24 # Using 24 hours as look back\n",
        "X, y = create_dataset(scaled_data, look_back)\n",
        "\n",
        "# Reshape input to be [samples, time steps, features]\n",
        "X = np.reshape(X, (X.shape[0], X.shape[1], 1))\n",
        "\n",
        "# Split into train and test sets\n",
        "train_size_rnn = int(len(X) * 0.8)\n",
        "test_size_rnn = len(X) - train_size_rnn\n",
        "train_X_rnn, test_X_rnn = X[0:train_size_rnn,:], X[0:test_size_rnn,:]\n",
        "train_y_rnn, test_y_rnn = y[0:train_size_rnn], y[0:test_size_rnn]\n",
        "\n",
        "print('Training data shape (RNN):', train_X_rnn.shape, train_y_rnn.shape)\n",
        "print('Testing data shape (RNN):', test_X_rnn.shape, test_y_rnn.shape)"
      ],
      "metadata": {
        "colab": {
          "base_uri": "https://localhost:8080/"
        },
        "id": "GQpzF-qH5yMH",
        "outputId": "2af2790b-5c39-4b6e-8acf-7e16e7022fc1"
      },
      "execution_count": null,
      "outputs": [
        {
          "output_type": "stream",
          "name": "stdout",
          "text": [
            "Training data shape (RNN): (35000, 24, 1) (35000,)\n",
            "Testing data shape (RNN): (8750, 24, 1) (8750,)\n"
          ]
        }
      ]
    },
    {
      "cell_type": "code",
      "source": [
        "train_y_rnn"
      ],
      "metadata": {
        "colab": {
          "base_uri": "https://localhost:8080/"
        },
        "id": "thcG4Evj78o0",
        "outputId": "d25ff840-e39c-47c1-f67d-25716975ac38"
      },
      "execution_count": null,
      "outputs": [
        {
          "output_type": "execute_result",
          "data": {
            "text/plain": [
              "array([0.52487375, 0.51550134, 0.50379051, ..., 0.50681546, 0.5030024 ,\n",
              "       0.53370453])"
            ]
          },
          "metadata": {},
          "execution_count": 40
        }
      ]
    },
    {
      "cell_type": "code",
      "metadata": {
        "colab": {
          "base_uri": "https://localhost:8080/"
        },
        "id": "9acbca4f",
        "outputId": "ecf167c9-c6eb-4d59-be21-a75b0fb24172"
      },
      "source": [
        "# Build and train the RNN model\n",
        "model_rnn = Sequential()\n",
        "model_rnn.add(SimpleRNN(50, input_shape=(look_back, 1)))\n",
        "model_rnn.add(Dense(1))\n",
        "model_rnn.compile(optimizer='adam', loss='mean_squared_error')\n",
        "model_rnn.fit(train_X_rnn, train_y_rnn, epochs=1, batch_size=1, verbose=2) # Reduced epochs for demonstration"
      ],
      "execution_count": null,
      "outputs": [
        {
          "output_type": "stream",
          "name": "stdout",
          "text": [
            "35000/35000 - 159s - 5ms/step - loss: 9.6503e-04\n"
          ]
        },
        {
          "output_type": "execute_result",
          "data": {
            "text/plain": [
              "<keras.src.callbacks.history.History at 0x7cc9f95c7740>"
            ]
          },
          "metadata": {},
          "execution_count": 38
        }
      ]
    },
    {
      "cell_type": "code",
      "source": [
        "model_rnn.summary()"
      ],
      "metadata": {
        "colab": {
          "base_uri": "https://localhost:8080/",
          "height": 213
        },
        "id": "uPzMhexn-JMe",
        "outputId": "c8d2adc9-34c4-4fc7-f1a1-849945563e30"
      },
      "execution_count": null,
      "outputs": [
        {
          "output_type": "display_data",
          "data": {
            "text/plain": [
              "\u001b[1mModel: \"sequential_1\"\u001b[0m\n"
            ],
            "text/html": [
              "<pre style=\"white-space:pre;overflow-x:auto;line-height:normal;font-family:Menlo,'DejaVu Sans Mono',consolas,'Courier New',monospace\"><span style=\"font-weight: bold\">Model: \"sequential_1\"</span>\n",
              "</pre>\n"
            ]
          },
          "metadata": {}
        },
        {
          "output_type": "display_data",
          "data": {
            "text/plain": [
              "┏━━━━━━━━━━━━━━━━━━━━━━━━━━━━━━━━━┳━━━━━━━━━━━━━━━━━━━━━━━━┳━━━━━━━━━━━━━━━┓\n",
              "┃\u001b[1m \u001b[0m\u001b[1mLayer (type)                   \u001b[0m\u001b[1m \u001b[0m┃\u001b[1m \u001b[0m\u001b[1mOutput Shape          \u001b[0m\u001b[1m \u001b[0m┃\u001b[1m \u001b[0m\u001b[1m      Param #\u001b[0m\u001b[1m \u001b[0m┃\n",
              "┡━━━━━━━━━━━━━━━━━━━━━━━━━━━━━━━━━╇━━━━━━━━━━━━━━━━━━━━━━━━╇━━━━━━━━━━━━━━━┩\n",
              "│ simple_rnn_1 (\u001b[38;5;33mSimpleRNN\u001b[0m)        │ (\u001b[38;5;45mNone\u001b[0m, \u001b[38;5;34m50\u001b[0m)             │         \u001b[38;5;34m2,600\u001b[0m │\n",
              "├─────────────────────────────────┼────────────────────────┼───────────────┤\n",
              "│ dense (\u001b[38;5;33mDense\u001b[0m)                   │ (\u001b[38;5;45mNone\u001b[0m, \u001b[38;5;34m1\u001b[0m)              │            \u001b[38;5;34m51\u001b[0m │\n",
              "└─────────────────────────────────┴────────────────────────┴───────────────┘\n"
            ],
            "text/html": [
              "<pre style=\"white-space:pre;overflow-x:auto;line-height:normal;font-family:Menlo,'DejaVu Sans Mono',consolas,'Courier New',monospace\">┏━━━━━━━━━━━━━━━━━━━━━━━━━━━━━━━━━┳━━━━━━━━━━━━━━━━━━━━━━━━┳━━━━━━━━━━━━━━━┓\n",
              "┃<span style=\"font-weight: bold\"> Layer (type)                    </span>┃<span style=\"font-weight: bold\"> Output Shape           </span>┃<span style=\"font-weight: bold\">       Param # </span>┃\n",
              "┡━━━━━━━━━━━━━━━━━━━━━━━━━━━━━━━━━╇━━━━━━━━━━━━━━━━━━━━━━━━╇━━━━━━━━━━━━━━━┩\n",
              "│ simple_rnn_1 (<span style=\"color: #0087ff; text-decoration-color: #0087ff\">SimpleRNN</span>)        │ (<span style=\"color: #00d7ff; text-decoration-color: #00d7ff\">None</span>, <span style=\"color: #00af00; text-decoration-color: #00af00\">50</span>)             │         <span style=\"color: #00af00; text-decoration-color: #00af00\">2,600</span> │\n",
              "├─────────────────────────────────┼────────────────────────┼───────────────┤\n",
              "│ dense (<span style=\"color: #0087ff; text-decoration-color: #0087ff\">Dense</span>)                   │ (<span style=\"color: #00d7ff; text-decoration-color: #00d7ff\">None</span>, <span style=\"color: #00af00; text-decoration-color: #00af00\">1</span>)              │            <span style=\"color: #00af00; text-decoration-color: #00af00\">51</span> │\n",
              "└─────────────────────────────────┴────────────────────────┴───────────────┘\n",
              "</pre>\n"
            ]
          },
          "metadata": {}
        },
        {
          "output_type": "display_data",
          "data": {
            "text/plain": [
              "\u001b[1m Total params: \u001b[0m\u001b[38;5;34m7,955\u001b[0m (31.08 KB)\n"
            ],
            "text/html": [
              "<pre style=\"white-space:pre;overflow-x:auto;line-height:normal;font-family:Menlo,'DejaVu Sans Mono',consolas,'Courier New',monospace\"><span style=\"font-weight: bold\"> Total params: </span><span style=\"color: #00af00; text-decoration-color: #00af00\">7,955</span> (31.08 KB)\n",
              "</pre>\n"
            ]
          },
          "metadata": {}
        },
        {
          "output_type": "display_data",
          "data": {
            "text/plain": [
              "\u001b[1m Trainable params: \u001b[0m\u001b[38;5;34m2,651\u001b[0m (10.36 KB)\n"
            ],
            "text/html": [
              "<pre style=\"white-space:pre;overflow-x:auto;line-height:normal;font-family:Menlo,'DejaVu Sans Mono',consolas,'Courier New',monospace\"><span style=\"font-weight: bold\"> Trainable params: </span><span style=\"color: #00af00; text-decoration-color: #00af00\">2,651</span> (10.36 KB)\n",
              "</pre>\n"
            ]
          },
          "metadata": {}
        },
        {
          "output_type": "display_data",
          "data": {
            "text/plain": [
              "\u001b[1m Non-trainable params: \u001b[0m\u001b[38;5;34m0\u001b[0m (0.00 B)\n"
            ],
            "text/html": [
              "<pre style=\"white-space:pre;overflow-x:auto;line-height:normal;font-family:Menlo,'DejaVu Sans Mono',consolas,'Courier New',monospace\"><span style=\"font-weight: bold\"> Non-trainable params: </span><span style=\"color: #00af00; text-decoration-color: #00af00\">0</span> (0.00 B)\n",
              "</pre>\n"
            ]
          },
          "metadata": {}
        },
        {
          "output_type": "display_data",
          "data": {
            "text/plain": [
              "\u001b[1m Optimizer params: \u001b[0m\u001b[38;5;34m5,304\u001b[0m (20.72 KB)\n"
            ],
            "text/html": [
              "<pre style=\"white-space:pre;overflow-x:auto;line-height:normal;font-family:Menlo,'DejaVu Sans Mono',consolas,'Courier New',monospace\"><span style=\"font-weight: bold\"> Optimizer params: </span><span style=\"color: #00af00; text-decoration-color: #00af00\">5,304</span> (20.72 KB)\n",
              "</pre>\n"
            ]
          },
          "metadata": {}
        }
      ]
    },
    {
      "cell_type": "code",
      "source": [
        "# Make predictions\n",
        "rnn_forecast = model_rnn.predict(test_X_rnn)\n",
        "\n",
        "# Inverse scale the predictions\n",
        "rnn_forecast = scaler.inverse_transform(rnn_forecast)\n",
        "\n",
        "# Inverse scale the actual values\n",
        "test_y_rnn_inv = scaler.inverse_transform([test_y_rnn])\n",
        "\n",
        "# Calculate RMSE\n",
        "rmse_rnn = sqrt(mean_squared_error(test_y_rnn_inv[0], rnn_forecast[:,0]))\n",
        "print('RNN RMSE:', rmse_rnn)\n",
        "\n",
        "# Calculate MAPE\n",
        "mape_rnn = np.mean(np.abs((test_y_rnn_inv[0] - rnn_forecast[:,0]) / test_y_rnn_inv[0])) * 100\n",
        "print('RNN MAPE:', mape_rnn)"
      ],
      "metadata": {
        "colab": {
          "base_uri": "https://localhost:8080/"
        },
        "id": "pgh4xMx3_bLZ",
        "outputId": "c982112b-c4eb-445d-8d5d-a5d7f3ced160"
      },
      "execution_count": null,
      "outputs": [
        {
          "output_type": "stream",
          "name": "stdout",
          "text": [
            "\u001b[1m274/274\u001b[0m \u001b[32m━━━━━━━━━━━━━━━━━━━━\u001b[0m\u001b[37m\u001b[0m \u001b[1m1s\u001b[0m 3ms/step\n",
            "RNN RMSE: 42.32794022446713\n",
            "RNN MAPE: 3.0535878706556265\n"
          ]
        }
      ]
    },
    {
      "cell_type": "markdown",
      "source": [
        "# LSTM"
      ],
      "metadata": {
        "id": "9OLEkHr8_1ga"
      }
    },
    {
      "cell_type": "code",
      "source": [
        "from keras.layers import LSTM\n",
        "from keras.models import Sequential\n",
        "from sklearn.metrics import mean_squared_error\n",
        "from math import sqrt\n",
        "import numpy as np\n",
        "\n",
        "# Build the LSTM model\n",
        "model_lstm = Sequential()\n",
        "model_lstm.add(LSTM(50, input_shape=(look_back, 1)))\n",
        "model_lstm.add(Dense(1)) # Assuming Dense layer is already imported from the RNN section\n",
        "model_lstm.compile(optimizer='adam', loss='mean_squared_error')\n",
        "\n",
        "# Train the LSTM model\n",
        "model_lstm.fit(train_X_rnn, train_y_rnn, epochs=1, batch_size=1, verbose=2) # Reduced epochs for demonstration\n",
        "\n",
        "# Make predictions\n",
        "lstm_forecast = model_lstm.predict(test_X_rnn)\n",
        "\n",
        "# Inverse scale the predictions\n",
        "lstm_forecast = scaler.inverse_transform(lstm_forecast)\n",
        "\n",
        "# Inverse scale the actual values (using the previously inverse scaled test_y_rnn_inv)\n",
        "# If test_y_rnn_inv is not available, you would inverse scale test_y_rnn here again:\n",
        "# test_y_rnn_inv = scaler.inverse_transform([test_y_rnn])\n",
        "\n",
        "\n",
        "# Calculate RMSE\n",
        "rmse_lstm = sqrt(mean_squared_error(test_y_rnn_inv[0], lstm_forecast[:,0]))\n",
        "print('LSTM RMSE:', rmse_lstm)\n",
        "\n",
        "# Calculate MAPE\n",
        "mape_lstm = np.mean(np.abs((test_y_rnn_inv[0] - lstm_forecast[:,0]) / test_y_rnn_inv[0])) * 100\n",
        "print('LSTM MAPE:', mape_lstm)"
      ],
      "metadata": {
        "colab": {
          "base_uri": "https://localhost:8080/"
        },
        "id": "RSAHd3o4_312",
        "outputId": "68156def-1e36-453d-bc9e-ef2d766cc400"
      },
      "execution_count": null,
      "outputs": [
        {
          "output_type": "stream",
          "name": "stdout",
          "text": [
            "35000/35000 - 237s - 7ms/step - loss: 0.0011\n",
            "\u001b[1m274/274\u001b[0m \u001b[32m━━━━━━━━━━━━━━━━━━━━\u001b[0m\u001b[37m\u001b[0m \u001b[1m1s\u001b[0m 5ms/step\n",
            "LSTM RMSE: 38.779474887653016\n",
            "LSTM MAPE: 2.685645730386591\n"
          ]
        }
      ]
    },
    {
      "cell_type": "code",
      "source": [
        "model_lstm.summary()"
      ],
      "metadata": {
        "colab": {
          "base_uri": "https://localhost:8080/",
          "height": 213
        },
        "id": "tNK6AdeBTwWi",
        "outputId": "0d51ad66-a3d0-4b2c-8ff3-9e936d0375e5"
      },
      "execution_count": null,
      "outputs": [
        {
          "output_type": "display_data",
          "data": {
            "text/plain": [
              "\u001b[1mModel: \"sequential_2\"\u001b[0m\n"
            ],
            "text/html": [
              "<pre style=\"white-space:pre;overflow-x:auto;line-height:normal;font-family:Menlo,'DejaVu Sans Mono',consolas,'Courier New',monospace\"><span style=\"font-weight: bold\">Model: \"sequential_2\"</span>\n",
              "</pre>\n"
            ]
          },
          "metadata": {}
        },
        {
          "output_type": "display_data",
          "data": {
            "text/plain": [
              "┏━━━━━━━━━━━━━━━━━━━━━━━━━━━━━━━━━┳━━━━━━━━━━━━━━━━━━━━━━━━┳━━━━━━━━━━━━━━━┓\n",
              "┃\u001b[1m \u001b[0m\u001b[1mLayer (type)                   \u001b[0m\u001b[1m \u001b[0m┃\u001b[1m \u001b[0m\u001b[1mOutput Shape          \u001b[0m\u001b[1m \u001b[0m┃\u001b[1m \u001b[0m\u001b[1m      Param #\u001b[0m\u001b[1m \u001b[0m┃\n",
              "┡━━━━━━━━━━━━━━━━━━━━━━━━━━━━━━━━━╇━━━━━━━━━━━━━━━━━━━━━━━━╇━━━━━━━━━━━━━━━┩\n",
              "│ lstm (\u001b[38;5;33mLSTM\u001b[0m)                     │ (\u001b[38;5;45mNone\u001b[0m, \u001b[38;5;34m50\u001b[0m)             │        \u001b[38;5;34m10,400\u001b[0m │\n",
              "├─────────────────────────────────┼────────────────────────┼───────────────┤\n",
              "│ dense_1 (\u001b[38;5;33mDense\u001b[0m)                 │ (\u001b[38;5;45mNone\u001b[0m, \u001b[38;5;34m1\u001b[0m)              │            \u001b[38;5;34m51\u001b[0m │\n",
              "└─────────────────────────────────┴────────────────────────┴───────────────┘\n"
            ],
            "text/html": [
              "<pre style=\"white-space:pre;overflow-x:auto;line-height:normal;font-family:Menlo,'DejaVu Sans Mono',consolas,'Courier New',monospace\">┏━━━━━━━━━━━━━━━━━━━━━━━━━━━━━━━━━┳━━━━━━━━━━━━━━━━━━━━━━━━┳━━━━━━━━━━━━━━━┓\n",
              "┃<span style=\"font-weight: bold\"> Layer (type)                    </span>┃<span style=\"font-weight: bold\"> Output Shape           </span>┃<span style=\"font-weight: bold\">       Param # </span>┃\n",
              "┡━━━━━━━━━━━━━━━━━━━━━━━━━━━━━━━━━╇━━━━━━━━━━━━━━━━━━━━━━━━╇━━━━━━━━━━━━━━━┩\n",
              "│ lstm (<span style=\"color: #0087ff; text-decoration-color: #0087ff\">LSTM</span>)                     │ (<span style=\"color: #00d7ff; text-decoration-color: #00d7ff\">None</span>, <span style=\"color: #00af00; text-decoration-color: #00af00\">50</span>)             │        <span style=\"color: #00af00; text-decoration-color: #00af00\">10,400</span> │\n",
              "├─────────────────────────────────┼────────────────────────┼───────────────┤\n",
              "│ dense_1 (<span style=\"color: #0087ff; text-decoration-color: #0087ff\">Dense</span>)                 │ (<span style=\"color: #00d7ff; text-decoration-color: #00d7ff\">None</span>, <span style=\"color: #00af00; text-decoration-color: #00af00\">1</span>)              │            <span style=\"color: #00af00; text-decoration-color: #00af00\">51</span> │\n",
              "└─────────────────────────────────┴────────────────────────┴───────────────┘\n",
              "</pre>\n"
            ]
          },
          "metadata": {}
        },
        {
          "output_type": "display_data",
          "data": {
            "text/plain": [
              "\u001b[1m Total params: \u001b[0m\u001b[38;5;34m31,355\u001b[0m (122.48 KB)\n"
            ],
            "text/html": [
              "<pre style=\"white-space:pre;overflow-x:auto;line-height:normal;font-family:Menlo,'DejaVu Sans Mono',consolas,'Courier New',monospace\"><span style=\"font-weight: bold\"> Total params: </span><span style=\"color: #00af00; text-decoration-color: #00af00\">31,355</span> (122.48 KB)\n",
              "</pre>\n"
            ]
          },
          "metadata": {}
        },
        {
          "output_type": "display_data",
          "data": {
            "text/plain": [
              "\u001b[1m Trainable params: \u001b[0m\u001b[38;5;34m10,451\u001b[0m (40.82 KB)\n"
            ],
            "text/html": [
              "<pre style=\"white-space:pre;overflow-x:auto;line-height:normal;font-family:Menlo,'DejaVu Sans Mono',consolas,'Courier New',monospace\"><span style=\"font-weight: bold\"> Trainable params: </span><span style=\"color: #00af00; text-decoration-color: #00af00\">10,451</span> (40.82 KB)\n",
              "</pre>\n"
            ]
          },
          "metadata": {}
        },
        {
          "output_type": "display_data",
          "data": {
            "text/plain": [
              "\u001b[1m Non-trainable params: \u001b[0m\u001b[38;5;34m0\u001b[0m (0.00 B)\n"
            ],
            "text/html": [
              "<pre style=\"white-space:pre;overflow-x:auto;line-height:normal;font-family:Menlo,'DejaVu Sans Mono',consolas,'Courier New',monospace\"><span style=\"font-weight: bold\"> Non-trainable params: </span><span style=\"color: #00af00; text-decoration-color: #00af00\">0</span> (0.00 B)\n",
              "</pre>\n"
            ]
          },
          "metadata": {}
        },
        {
          "output_type": "display_data",
          "data": {
            "text/plain": [
              "\u001b[1m Optimizer params: \u001b[0m\u001b[38;5;34m20,904\u001b[0m (81.66 KB)\n"
            ],
            "text/html": [
              "<pre style=\"white-space:pre;overflow-x:auto;line-height:normal;font-family:Menlo,'DejaVu Sans Mono',consolas,'Courier New',monospace\"><span style=\"font-weight: bold\"> Optimizer params: </span><span style=\"color: #00af00; text-decoration-color: #00af00\">20,904</span> (81.66 KB)\n",
              "</pre>\n"
            ]
          },
          "metadata": {}
        }
      ]
    },
    {
      "cell_type": "code",
      "source": [
        "model_lstm.save('time_series_final_model.keras')"
      ],
      "metadata": {
        "id": "kh6XHstdUMtB"
      },
      "execution_count": null,
      "outputs": []
    },
    {
      "cell_type": "code",
      "source": [
        "import pickle\n",
        "\n",
        "# Define the filename for the pickled model\n",
        "filename = 'varma_model.pkl'\n",
        "\n",
        "# Open the file in write binary mode and pickle the model\n",
        "with open(filename, 'wb') as f:\n",
        "    pickle.dump(varma_results, f)\n",
        "\n",
        "print(f\"VARMA model successfully pickled to {filename}\")"
      ],
      "metadata": {
        "colab": {
          "base_uri": "https://localhost:8080/"
        },
        "id": "rSfYr0NLUmxs",
        "outputId": "81a031a3-7170-4eb5-f0f0-0166ec78d884"
      },
      "execution_count": null,
      "outputs": [
        {
          "output_type": "stream",
          "name": "stdout",
          "text": [
            "VARMA model successfully pickled to varma_model.pkl\n"
          ]
        }
      ]
    }
  ]
}